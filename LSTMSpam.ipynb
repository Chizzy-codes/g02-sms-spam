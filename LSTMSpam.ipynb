{
  "nbformat": 4,
  "nbformat_minor": 0,
  "metadata": {
    "accelerator": "GPU",
    "colab": {
      "name": "LSTMSpam.ipynb",
      "provenance": [],
      "collapsed_sections": [],
      "include_colab_link": true
    },
    "kernelspec": {
      "display_name": "Python 3",
      "language": "python",
      "name": "python3"
    },
    "language_info": {
      "codemirror_mode": {
        "name": "ipython",
        "version": 3
      },
      "file_extension": ".py",
      "mimetype": "text/x-python",
      "name": "python",
      "nbconvert_exporter": "python",
      "pygments_lexer": "ipython3",
      "version": "3.7.6"
    }
  },
  "cells": [
    {
      "cell_type": "markdown",
      "metadata": {
        "id": "view-in-github",
        "colab_type": "text"
      },
      "source": [
        "<a href=\"https://colab.research.google.com/github/olaidejoseph/g02-sms-spam/blob/master/LSTMSpam.ipynb\" target=\"_parent\"><img src=\"https://colab.research.google.com/assets/colab-badge.svg\" alt=\"Open In Colab\"/></a>"
      ]
    },
    {
      "cell_type": "code",
      "metadata": {
        "id": "MgCREc13shTc"
      },
      "source": [
        "#from google.colab import files\n",
        "#files.upload()"
      ],
      "execution_count": 1,
      "outputs": []
    },
    {
      "cell_type": "code",
      "metadata": {
        "id": "hmA6EzkQJ5jt"
      },
      "source": [
        "import tensorflow as tf\n",
        "import random\n",
        "import numpy as np\n",
        "import pandas as pd\n",
        "import seaborn as sns\n",
        "import matplotlib.image  as mpimg\n",
        "import matplotlib.pyplot as plt\n",
        "\n",
        "\n",
        "from tensorflow.keras.preprocessing.text import Tokenizer\n",
        "from tensorflow.keras.preprocessing.sequence import pad_sequences\n",
        "from tensorflow.keras.utils import to_categorical\n",
        "from tensorflow.keras import regularizers\n",
        "from keras.optimizers import SGD, Adam, RMSprop\n",
        "\n",
        "\n",
        "\n",
        "embedding_dim = 100\n",
        "max_length = 150\n",
        "trunc_type='post'\n",
        "padding_type='post'\n",
        "oov_tok = \"<OOV>\"\n",
        "\n"
      ],
      "execution_count": 2,
      "outputs": []
    },
    {
      "cell_type": "code",
      "metadata": {
        "id": "bM0l_dORKqE0"
      },
      "source": [
        "data = pd.read_csv('/content/spam.csv', engine='python')\n",
        "data.dropna(inplace=True,axis=1)\n",
        "data.rename(columns={\"v1\":\"label\",\"v2\":\"message\"},inplace=True)\n"
      ],
      "execution_count": 3,
      "outputs": []
    },
    {
      "cell_type": "code",
      "metadata": {
        "colab": {
          "base_uri": "https://localhost:8080/",
          "height": 206
        },
        "id": "o7JkfXYQtZ3p",
        "outputId": "2d180bac-edb6-4451-a0fc-38bd8da4360d"
      },
      "source": [
        "data.head()"
      ],
      "execution_count": 4,
      "outputs": [
        {
          "output_type": "execute_result",
          "data": {
            "text/html": [
              "<div>\n",
              "<style scoped>\n",
              "    .dataframe tbody tr th:only-of-type {\n",
              "        vertical-align: middle;\n",
              "    }\n",
              "\n",
              "    .dataframe tbody tr th {\n",
              "        vertical-align: top;\n",
              "    }\n",
              "\n",
              "    .dataframe thead th {\n",
              "        text-align: right;\n",
              "    }\n",
              "</style>\n",
              "<table border=\"1\" class=\"dataframe\">\n",
              "  <thead>\n",
              "    <tr style=\"text-align: right;\">\n",
              "      <th></th>\n",
              "      <th>label</th>\n",
              "      <th>message</th>\n",
              "    </tr>\n",
              "  </thead>\n",
              "  <tbody>\n",
              "    <tr>\n",
              "      <th>0</th>\n",
              "      <td>ham</td>\n",
              "      <td>Go until jurong point, crazy.. Available only ...</td>\n",
              "    </tr>\n",
              "    <tr>\n",
              "      <th>1</th>\n",
              "      <td>ham</td>\n",
              "      <td>Ok lar... Joking wif u oni...</td>\n",
              "    </tr>\n",
              "    <tr>\n",
              "      <th>2</th>\n",
              "      <td>spam</td>\n",
              "      <td>Free entry in 2 a wkly comp to win FA Cup fina...</td>\n",
              "    </tr>\n",
              "    <tr>\n",
              "      <th>3</th>\n",
              "      <td>ham</td>\n",
              "      <td>U dun say so early hor... U c already then say...</td>\n",
              "    </tr>\n",
              "    <tr>\n",
              "      <th>4</th>\n",
              "      <td>ham</td>\n",
              "      <td>Nah I don't think he goes to usf, he lives aro...</td>\n",
              "    </tr>\n",
              "  </tbody>\n",
              "</table>\n",
              "</div>"
            ],
            "text/plain": [
              "  label                                            message\n",
              "0   ham  Go until jurong point, crazy.. Available only ...\n",
              "1   ham                      Ok lar... Joking wif u oni...\n",
              "2  spam  Free entry in 2 a wkly comp to win FA Cup fina...\n",
              "3   ham  U dun say so early hor... U c already then say...\n",
              "4   ham  Nah I don't think he goes to usf, he lives aro..."
            ]
          },
          "metadata": {
            "tags": []
          },
          "execution_count": 4
        }
      ]
    },
    {
      "cell_type": "code",
      "metadata": {
        "colab": {
          "base_uri": "https://localhost:8080/",
          "height": 460
        },
        "id": "8HcDT54D-Br2",
        "outputId": "b59b3537-a9a0-4b17-a85c-3edb095e9045"
      },
      "source": [
        "plt.figure(figsize=(15,7))\n",
        "sns.set_style(\"darkgrid\")\n",
        "splot = sns.countplot(x=\"label\",data=data)\n",
        "for p in splot.patches:\n",
        "    splot.annotate(format(p.get_height(), '.2f'), (p.get_x() + p.get_width() / 2., p.get_height()), \\\n",
        "                   ha = 'center', va = 'center', xytext = (0, 10), textcoords = 'offset points')\n",
        "plt.title('Target column countplot', size=15)\n",
        "plt.show()"
      ],
      "execution_count": 5,
      "outputs": [
        {
          "output_type": "display_data",
          "data": {
            "image/png": "[encoded data removed]",
            "text/plain": [
              "<Figure size 1080x504 with 1 Axes>"
            ]
          },
          "metadata": {
            "tags": [],
            "needs_background": "light"
          }
        }
      ]
    },
    {
      "cell_type": "markdown",
      "metadata": {
        "id": "u6nBB08Y-qV4"
      },
      "source": [
        "The data target is highly imbalance.\n",
        "Appropriate weight balancing method will be applied to counter the imbalance"
      ]
    },
    {
      "cell_type": "markdown",
      "metadata": {
        "id": "z8MB7EcO99_V"
      },
      "source": [
        "# Text Preprocessing"
      ]
    },
    {
      "cell_type": "code",
      "metadata": {
        "id": "np6-pRvHPkh-"
      },
      "source": [
        "import spacy"
      ],
      "execution_count": 6,
      "outputs": []
    },
    {
      "cell_type": "code",
      "metadata": {
        "id": "os0crfcDuQit"
      },
      "source": [
        "nlp = spacy.load('en', disable=['tagger', 'parser', 'ner'])\n",
        "spacy_stop_words = spacy.lang.en.STOP_WORDS # getting spacy's stop-words"
      ],
      "execution_count": 7,
      "outputs": []
    },
    {
      "cell_type": "code",
      "metadata": {
        "id": "jGYFi3f0udJm"
      },
      "source": [
        "#Stopwords list from https://github.com/Yoast/YoastSEO.js/blob/develop/src/config/stopwords.js\n",
        "# Convert it to a Python list and paste it here\n",
        "stopwords = [ \"a\", \"about\", \"above\", \"after\", \"again\", \"against\", \"all\", \"am\", \"an\", \"and\", \"any\", \"are\", \"as\", \"at\", \"be\", \"because\", \"been\", \"before\", \"being\", \"below\", \"between\", \"both\", \"but\", \"by\", \"could\", \"did\", \"do\", \"does\", \"doing\", \"down\", \"during\", \"each\", \"few\", \"for\", \"from\", \"further\", \"had\", \"has\", \"have\", \"having\", \"he\", \"he'd\", \"he'll\", \"he's\", \"her\", \"here\", \"here's\", \"hers\", \"herself\", \"him\", \"himself\", \"his\", \"how\", \"how's\", \"i\", \"i'd\", \"i'll\", \"i'm\", \"i've\", \"if\", \"in\", \"into\", \"is\", \"it\", \"it's\", \"its\", \"itself\", \"let's\", \"me\", \"more\", \"most\", \"my\", \"myself\", \"nor\", \"of\", \"on\", \"once\", \"only\", \"or\", \"other\", \"ought\", \"our\", \"ours\", \"ourselves\", \"out\", \"over\", \"own\", \"same\", \"she\", \"she'd\", \"she'll\", \"she's\", \"should\", \"so\", \"some\", \"such\", \"than\", \"that\", \"that's\", \"the\", \"their\", \"theirs\", \"them\", \"themselves\", \"then\", \"there\", \"there's\", \"these\", \"they\", \"they'd\", \"they'll\", \"they're\", \"they've\", \"this\", \"those\", \"through\", \"to\", \"too\", \"under\", \"until\", \"up\", \"very\", \"was\", \"we\", \"we'd\", \"we'll\", \"we're\", \"we've\", \"were\", \"what\", \"what's\", \"when\", \"when's\", \"where\", \"where's\", \"which\", \"while\", \"who\", \"who's\", \"whom\", \"why\", \"why's\", \"with\", \"would\", \"you\", \"you'd\", \"you'll\", \"you're\", \"you've\", \"your\", \"yours\", \"yourself\", \"yourselves\" ]"
      ],
      "execution_count": 8,
      "outputs": []
    },
    {
      "cell_type": "code",
      "metadata": {
        "id": "gkXxRFahunM9"
      },
      "source": [
        "stop_words = list(set(list(spacy_stop_words) + stopwords))\n",
        "stopwords = list({word.lemma_.lower() for word in nlp(' '.join(stop_words))})"
      ],
      "execution_count": 9,
      "outputs": []
    },
    {
      "cell_type": "code",
      "metadata": {
        "id": "A0_OfliUunTb"
      },
      "source": [
        "# defining tokenzer function to tokenize the lower case lemma of documents in a corpus and \n",
        "# filter out stop-words  \n",
        "def tokenizer_spacy(text):\n",
        "    return [word.lemma_.lower() for word in nlp(text) if word.is_alpha and word.lemma_.lower() not in stopwords]"
      ],
      "execution_count": 10,
      "outputs": []
    },
    {
      "cell_type": "code",
      "metadata": {
        "id": "XYOFCxgouz0V"
      },
      "source": [
        "from sklearn.preprocessing import LabelEncoder\n",
        "from sklearn.model_selection import train_test_split, StratifiedKFold, RepeatedStratifiedKFold"
      ],
      "execution_count": 11,
      "outputs": []
    },
    {
      "cell_type": "code",
      "metadata": {
        "id": "Ta-41NgDuz2u"
      },
      "source": [
        "sentences = data['message']\n",
        "labels = data['label']"
      ],
      "execution_count": 12,
      "outputs": []
    },
    {
      "cell_type": "code",
      "metadata": {
        "id": "eqF1ymsruz5D"
      },
      "source": [
        "# Label encoding\n",
        "encode = LabelEncoder()\n",
        "labels = encode.fit_transform(labels)"
      ],
      "execution_count": 13,
      "outputs": []
    },
    {
      "cell_type": "code",
      "metadata": {
        "id": "OxY1BcNpuz7f"
      },
      "source": [
        "senten = [word for word in sentences if word not in stopwords] # stopword filtering"
      ],
      "execution_count": 14,
      "outputs": []
    },
    {
      "cell_type": "code",
      "metadata": {
        "id": "MCKqPPcuuz9z"
      },
      "source": [
        "# tokenize (lemmatize and filter stop words) corpus \n",
        "senten = [' '.join(tokenizer_spacy(doc)) for doc in senten]"
      ],
      "execution_count": 15,
      "outputs": []
    },
    {
      "cell_type": "code",
      "metadata": {
        "colab": {
          "base_uri": "https://localhost:8080/",
          "height": 36
        },
        "id": "eczQiKtlvW_B",
        "outputId": "7b338a49-8e58-4847-9780-997dcb184c28"
      },
      "source": [
        "sentences[0]"
      ],
      "execution_count": 16,
      "outputs": [
        {
          "output_type": "execute_result",
          "data": {
            "application/vnd.google.colaboratory.intrinsic+json": {
              "type": "string"
            },
            "text/plain": [
              "'Go until jurong point, crazy.. Available only in bugis n great world la e buffet... Cine there got amore wat...'"
            ]
          },
          "metadata": {
            "tags": []
          },
          "execution_count": 16
        }
      ]
    },
    {
      "cell_type": "code",
      "metadata": {
        "colab": {
          "base_uri": "https://localhost:8080/",
          "height": 36
        },
        "id": "4KkWwKfyvXFu",
        "outputId": "764b6553-412c-4e7d-c2b0-48a833a9e8ea"
      },
      "source": [
        "senten[0]"
      ],
      "execution_count": 17,
      "outputs": [
        {
          "output_type": "execute_result",
          "data": {
            "application/vnd.google.colaboratory.intrinsic+json": {
              "type": "string"
            },
            "text/plain": [
              "'jurong point crazy available bugis n great world la e buffet cine amore wat'"
            ]
          },
          "metadata": {
            "tags": []
          },
          "execution_count": 17
        }
      ]
    },
    {
      "cell_type": "code",
      "metadata": {
        "id": "8ZpPU4gfvXIK"
      },
      "source": [
        "# word tokenizing\n",
        "tokenizer = Tokenizer(oov_token=oov_tok)\n",
        "tokenizer.fit_on_texts(senten)\n",
        "\n",
        "word_index = tokenizer.word_index"
      ],
      "execution_count": 18,
      "outputs": []
    },
    {
      "cell_type": "code",
      "metadata": {
        "id": "ohOGz24lsNAD"
      },
      "source": [
        "vocab_size=len(word_index)\n",
        "\n",
        "# padding and converting to numeric sequence\n",
        "sequences = tokenizer.texts_to_sequences(sentences)\n",
        "padded = pad_sequences(sequences, maxlen=max_length, padding=padding_type, truncating=trunc_type)"
      ],
      "execution_count": 19,
      "outputs": []
    },
    {
      "cell_type": "code",
      "metadata": {
        "id": "gIrtRem1En3N",
        "colab": {
          "base_uri": "https://localhost:8080/"
        },
        "outputId": "f713207f-29f3-47e7-f14e-d579a7913078"
      },
      "source": [
        "print(vocab_size)"
      ],
      "execution_count": 20,
      "outputs": [
        {
          "output_type": "stream",
          "text": [
            "6155\n"
          ],
          "name": "stdout"
        }
      ]
    },
    {
      "cell_type": "code",
      "metadata": {
        "id": "6ZNxzSxYwJ4A"
      },
      "source": [
        "training_sequences, test_sequences, training_labels, test_labels = train_test_split(padded, labels, test_size=0.25, random_state=1)"
      ],
      "execution_count": 21,
      "outputs": []
    },
    {
      "cell_type": "markdown",
      "metadata": {
        "id": "qPU0M_3W_k5B"
      },
      "source": [
        "# Class weight balancing"
      ]
    },
    {
      "cell_type": "code",
      "metadata": {
        "id": "PGrB7whwwErX"
      },
      "source": [
        "from sklearn.utils import class_weight\n",
        "class_weights = dict(zip(np.unique(labels), class_weight.compute_class_weight('balanced',\n",
        "                                                 np.unique(labels),\n",
        "                                                 labels))) "
      ],
      "execution_count": 22,
      "outputs": []
    },
    {
      "cell_type": "markdown",
      "metadata": {
        "id": "swYy8SXv_vT2"
      },
      "source": [
        "# Modelling"
      ]
    },
    {
      "cell_type": "code",
      "metadata": {
        "id": "iKKvbuEBOGFz",
        "colab": {
          "base_uri": "https://localhost:8080/"
        },
        "outputId": "45df190c-2595-46b5-9f9e-2ea7177c14d9"
      },
      "source": [
        "model = tf.keras.Sequential([\n",
        "    tf.keras.layers.Embedding(vocab_size+1, embedding_dim, input_length=max_length),\n",
        "    tf.keras.layers.Bidirectional(tf.keras.layers.LSTM(300)),\n",
        "    tf.keras.layers.Dropout(0.25),\n",
        "    tf.keras.layers.Dense(1, activation='sigmoid')\n",
        "])\n",
        "model.compile(loss='binary_crossentropy',optimizer='adam',metrics=['accuracy'])\n",
        "model.summary()\n",
        "\n",
        "num_epochs = 20\n",
        "\n",
        "early_stopping = tf.keras.callbacks.EarlyStopping(monitor='val_loss',\n",
        "                               patience=5,\n",
        "                               verbose=1,\n",
        "                               min_delta=1e-4)\n",
        "\n",
        "lrp = tf.keraslrp = tf.keras.callbacks.ReduceLROnPlateau(monitor='val_loss',\n",
        "                                   factor=0.1,\n",
        "                                   patience=2,\n",
        "                                   cooldown=2,\n",
        "                                   verbose=1)\n",
        "\n",
        "training_padded = np.array(training_sequences)\n",
        "training_labels = np.array(training_labels)\n",
        "testing_padded = np.array(test_sequences)\n",
        "testing_labels = np.array(test_labels)\n",
        "\n",
        "history = model.fit(training_padded, training_labels, epochs=num_epochs, class_weight=class_weights, \n",
        "                    validation_data=(testing_padded, testing_labels),\n",
        "                    callbacks=[early_stopping, lrp],\n",
        "                    verbose=2)\n",
        "\n",
        "print(\"Training Complete\")"
      ],
      "execution_count": 23,
      "outputs": [
        {
          "output_type": "stream",
          "text": [
            "Model: \"sequential\"\n",
            "_________________________________________________________________\n",
            "Layer (type)                 Output Shape              Param #   \n",
            "=================================================================\n",
            "embedding (Embedding)        (None, 150, 100)          615600    \n",
            "_________________________________________________________________\n",
            "bidirectional (Bidirectional (None, 600)               962400    \n",
            "_________________________________________________________________\n",
            "dropout (Dropout)            (None, 600)               0         \n",
            "_________________________________________________________________\n",
            "dense (Dense)                (None, 1)                 601       \n",
            "=================================================================\n",
            "Total params: 1,578,601\n",
            "Trainable params: 1,578,601\n",
            "Non-trainable params: 0\n",
            "_________________________________________________________________\n",
            "Epoch 1/20\n",
            "131/131 - 14s - loss: 0.3652 - accuracy: 0.8586 - val_loss: 0.1683 - val_accuracy: 0.9813\n",
            "Epoch 2/20\n",
            "131/131 - 13s - loss: 0.1070 - accuracy: 0.9789 - val_loss: 0.0622 - val_accuracy: 0.9878\n",
            "Epoch 3/20\n",
            "131/131 - 13s - loss: 0.0524 - accuracy: 0.9871 - val_loss: 0.0862 - val_accuracy: 0.9828\n",
            "Epoch 4/20\n",
            "\n",
            "Epoch 00004: ReduceLROnPlateau reducing learning rate to 0.00010000000474974513.\n",
            "131/131 - 13s - loss: 0.0523 - accuracy: 0.9904 - val_loss: 0.1053 - val_accuracy: 0.9742\n",
            "Epoch 5/20\n",
            "131/131 - 13s - loss: 0.0218 - accuracy: 0.9969 - val_loss: 0.0855 - val_accuracy: 0.9835\n",
            "Epoch 6/20\n",
            "131/131 - 13s - loss: 0.0186 - accuracy: 0.9969 - val_loss: 0.0812 - val_accuracy: 0.9828\n",
            "Epoch 7/20\n",
            "\n",
            "Epoch 00007: ReduceLROnPlateau reducing learning rate to 1.0000000474974514e-05.\n",
            "131/131 - 13s - loss: 0.0173 - accuracy: 0.9964 - val_loss: 0.0822 - val_accuracy: 0.9828\n",
            "Epoch 00007: early stopping\n",
            "Training Complete\n"
          ],
          "name": "stdout"
        }
      ]
    },
    {
      "cell_type": "markdown",
      "metadata": {
        "id": "rSWEZwY6Hdm7"
      },
      "source": [
        "Evaluation"
      ]
    },
    {
      "cell_type": "code",
      "metadata": {
        "colab": {
          "base_uri": "https://localhost:8080/"
        },
        "id": "tIZ2jNFwxzdI",
        "outputId": "8b4e3062-43ba-48db-8875-9c8c47ff9ca3"
      },
      "source": [
        "score = model.evaluate(test_sequences, test_labels, verbose=1)\n",
        "print('Test loss:', score[0])\n",
        "print('Test accuracy:', score[1])"
      ],
      "execution_count": 24,
      "outputs": [
        {
          "output_type": "stream",
          "text": [
            "44/44 [==============================] - 1s 31ms/step - loss: 0.0822 - accuracy: 0.9828\n",
            "Test loss: 0.08218560367822647\n",
            "Test accuracy: 0.9827709794044495\n"
          ],
          "name": "stdout"
        }
      ]
    },
    {
      "cell_type": "code",
      "metadata": {
        "id": "qxju4ItJKO8F",
        "colab": {
          "base_uri": "https://localhost:8080/",
          "height": 899
        },
        "outputId": "de9b07e3-e9a3-4e4f-a903-512fa782fc55"
      },
      "source": [
        "import matplotlib.image  as mpimg\n",
        "import matplotlib.pyplot as plt\n",
        "\n",
        "#-----------------------------------------------------------\n",
        "# Retrieve a list of list results on training and test data\n",
        "# sets for each training epoch\n",
        "#-----------------------------------------------------------\n",
        "acc=history.history['accuracy']\n",
        "val_acc=history.history['val_accuracy']\n",
        "loss=history.history['loss']\n",
        "val_loss=history.history['val_loss']\n",
        "\n",
        "epochs=range(1, len(acc)+1) # Get number of epochs\n",
        "\n",
        "#------------------------------------------------\n",
        "# Plot training and validation accuracy per epoch\n",
        "#------------------------------------------------\n",
        "plt.figure(figsize=(8,7))\n",
        "plt.plot(epochs, acc, 'r')\n",
        "plt.plot(epochs, val_acc, 'b')\n",
        "plt.title('Training and validation accuracy')\n",
        "plt.xlabel(\"Epochs\")\n",
        "plt.ylabel(\"Accuracy\")\n",
        "plt.legend([\"Accuracy\", \"Validation Accuracy\"])\n",
        "\n",
        "\n",
        "#------------------------------------------------\n",
        "# Plot training and validation loss per epoch\n",
        "#------------------------------------------------\n",
        "plt.figure(figsize=(8,7))\n",
        "plt.plot(epochs, loss, 'r')\n",
        "plt.plot(epochs, val_loss, 'b')\n",
        "plt.title('Training and validation loss')\n",
        "plt.xlabel(\"Epochs\")\n",
        "plt.ylabel(\"Loss\")\n",
        "plt.legend([\"Loss\", \"Validation Loss\"])\n",
        "\n",
        "\n",
        "\n",
        "plt.show()"
      ],
      "execution_count": 25,
      "outputs": [
        {
          "output_type": "display_data",
          "data": {
            "image/png": "[encoded data removed]",
            "text/plain": [
              "<Figure size 576x504 with 1 Axes>"
            ]
          },
          "metadata": {
            "tags": []
          }
        },
        {
          "output_type": "display_data",
          "data": {
            "image/png": "[encoded data removed]",
            "text/plain": [
              "<Figure size 576x504 with 1 Axes>"
            ]
          },
          "metadata": {
            "tags": []
          }
        }
      ]
    },
    {
      "cell_type": "markdown",
      "metadata": {
        "id": "6QYvB5Wf4s98"
      },
      "source": [
        "The best epoch seems to be at 5"
      ]
    },
    {
      "cell_type": "code",
      "metadata": {
        "id": "fnePaioY3Bod",
        "colab": {
          "base_uri": "https://localhost:8080/"
        },
        "outputId": "3a82ad36-eb00-42e0-aec3-e1e18fd18052"
      },
      "source": [
        "model = tf.keras.Sequential([\n",
        "    tf.keras.layers.Embedding(vocab_size+1, embedding_dim, input_length=max_length),\n",
        "    tf.keras.layers.Bidirectional(tf.keras.layers.LSTM(300)),\n",
        "    tf.keras.layers.Dropout(0.25),\n",
        "    tf.keras.layers.Dense(1, activation='sigmoid')\n",
        "])\n",
        "model.compile(loss='binary_crossentropy',optimizer='adam',metrics=['accuracy'])\n",
        "model.summary()\n",
        "\n",
        "num_epochs = 20\n",
        "\n",
        "early_stopping = tf.keras.callbacks.EarlyStopping(monitor='val_loss',\n",
        "                               patience=5,\n",
        "                               verbose=1,\n",
        "                               min_delta=1e-4)\n",
        "\n",
        "lrp = tf.keraslrp = tf.keras.callbacks.ReduceLROnPlateau(monitor='val_loss',\n",
        "                                   factor=0.1,\n",
        "                                   patience=2,\n",
        "                                   cooldown=2,\n",
        "                                   verbose=1)\n",
        "\n",
        "training_padded = np.array(training_sequences)\n",
        "training_labels = np.array(training_labels)\n",
        "testing_padded = np.array(test_sequences)\n",
        "testing_labels = np.array(test_labels)\n",
        "\n",
        "history = model.fit(training_padded, training_labels, epochs=5, \n",
        "                    validation_data=(testing_padded, testing_labels),\n",
        "                    callbacks=[early_stopping, lrp],\n",
        "                    verbose=2)\n",
        "\n",
        "print(\"Training Complete\")"
      ],
      "execution_count": 26,
      "outputs": [
        {
          "output_type": "stream",
          "text": [
            "Model: \"sequential_1\"\n",
            "_________________________________________________________________\n",
            "Layer (type)                 Output Shape              Param #   \n",
            "=================================================================\n",
            "embedding_1 (Embedding)      (None, 150, 100)          615600    \n",
            "_________________________________________________________________\n",
            "bidirectional_1 (Bidirection (None, 600)               962400    \n",
            "_________________________________________________________________\n",
            "dropout_1 (Dropout)          (None, 600)               0         \n",
            "_________________________________________________________________\n",
            "dense_1 (Dense)              (None, 1)                 601       \n",
            "=================================================================\n",
            "Total params: 1,578,601\n",
            "Trainable params: 1,578,601\n",
            "Non-trainable params: 0\n",
            "_________________________________________________________________\n",
            "Epoch 1/5\n",
            "131/131 - 14s - loss: 0.2294 - accuracy: 0.9237 - val_loss: 0.0909 - val_accuracy: 0.9821\n",
            "Epoch 2/5\n",
            "131/131 - 13s - loss: 0.0871 - accuracy: 0.9715 - val_loss: 0.0558 - val_accuracy: 0.9835\n",
            "Epoch 3/5\n",
            "131/131 - 13s - loss: 0.0325 - accuracy: 0.9919 - val_loss: 0.0525 - val_accuracy: 0.9892\n",
            "Epoch 4/5\n",
            "131/131 - 13s - loss: 0.0184 - accuracy: 0.9964 - val_loss: 0.0522 - val_accuracy: 0.9899\n",
            "Epoch 5/5\n",
            "131/131 - 13s - loss: 0.0128 - accuracy: 0.9974 - val_loss: 0.0584 - val_accuracy: 0.9892\n",
            "Training Complete\n"
          ],
          "name": "stdout"
        }
      ]
    },
    {
      "cell_type": "code",
      "metadata": {
        "colab": {
          "base_uri": "https://localhost:8080/",
          "height": 899
        },
        "id": "Nsf0Oa4m5C9L",
        "outputId": "4aa267ba-bd50-473e-9739-7f930e5cdf08"
      },
      "source": [
        "#-----------------------------------------------------------\n",
        "# Retrieve a list of list results on training and test data\n",
        "# sets for each training epoch\n",
        "#-----------------------------------------------------------\n",
        "acc=history.history['accuracy']\n",
        "val_acc=history.history['val_accuracy']\n",
        "loss=history.history['loss']\n",
        "val_loss=history.history['val_loss']\n",
        "\n",
        "epochs=range(1, len(acc)+1) # Get number of epochs\n",
        "\n",
        "#------------------------------------------------\n",
        "# Plot training and validation accuracy per epoch\n",
        "#------------------------------------------------\n",
        "plt.figure(figsize=(8,7))\n",
        "plt.plot(epochs, acc, 'r')\n",
        "plt.plot(epochs, val_acc, 'b')\n",
        "plt.title('Training and validation accuracy')\n",
        "plt.xlabel(\"Epochs\")\n",
        "plt.ylabel(\"Accuracy\")\n",
        "plt.legend([\"Accuracy\", \"Validation Accuracy\"])\n",
        "\n",
        "\n",
        "#------------------------------------------------\n",
        "# Plot training and validation loss per epoch\n",
        "#------------------------------------------------\n",
        "plt.figure(figsize=(8,7))\n",
        "plt.plot(epochs, loss, 'r')\n",
        "plt.plot(epochs, val_loss, 'b')\n",
        "plt.title('Training and validation loss')\n",
        "plt.xlabel(\"Epochs\")\n",
        "plt.ylabel(\"Loss\")\n",
        "plt.legend([\"Loss\", \"Validation Loss\"])\n",
        "\n",
        "plt.show()\n"
      ],
      "execution_count": 27,
      "outputs": [
        {
          "output_type": "display_data",
          "data": {
            "image/png": "[encoded data removed]",
            "text/plain": [
              "<Figure size 576x504 with 1 Axes>"
            ]
          },
          "metadata": {
            "tags": []
          }
        },
        {
          "output_type": "display_data",
          "data": {
            "image/png": "[encoded data removed]",
            "text/plain": [
              "<Figure size 576x504 with 1 Axes>"
            ]
          },
          "metadata": {
            "tags": []
          }
        }
      ]
    },
    {
      "cell_type": "markdown",
      "metadata": {
        "id": "86bSCSzZHWzm"
      },
      "source": [
        "# Prediction and Evaluation"
      ]
    },
    {
      "cell_type": "code",
      "metadata": {
        "colab": {
          "base_uri": "https://localhost:8080/"
        },
        "id": "WBzS17k-7pit",
        "outputId": "e17c0049-8048-4941-d053-948f799f7b87"
      },
      "source": [
        "score = model.evaluate(test_sequences, test_labels, verbose=1)\n",
        "print('Test loss:', score[0])\n",
        "print('Test accuracy:', score[1])"
      ],
      "execution_count": 28,
      "outputs": [
        {
          "output_type": "stream",
          "text": [
            "44/44 [==============================] - 1s 31ms/step - loss: 0.0584 - accuracy: 0.9892\n",
            "Test loss: 0.058385636657476425\n",
            "Test accuracy: 0.9892318844795227\n"
          ],
          "name": "stdout"
        }
      ]
    },
    {
      "cell_type": "code",
      "metadata": {
        "id": "q7QSq9jT_exV"
      },
      "source": [
        "y_pred_train = model.predict(training_sequences)\n",
        "y_pred_test = model.predict(test_sequences)"
      ],
      "execution_count": 29,
      "outputs": []
    },
    {
      "cell_type": "code",
      "metadata": {
        "colab": {
          "base_uri": "https://localhost:8080/"
        },
        "id": "vbebudGVDWdJ",
        "outputId": "29f9368a-d45a-4bfe-9392-24d6a85d7e04"
      },
      "source": [
        "y_pred_test[4]"
      ],
      "execution_count": 30,
      "outputs": [
        {
          "output_type": "execute_result",
          "data": {
            "text/plain": [
              "array([0.01097369], dtype=float32)"
            ]
          },
          "metadata": {
            "tags": []
          },
          "execution_count": 30
        }
      ]
    },
    {
      "cell_type": "code",
      "metadata": {
        "id": "tCq6bxUlDZJW"
      },
      "source": [
        "y_pred_train = [int(np.round(i)) for i in y_pred_train]\n",
        "y_pred_test = [int(np.round(i)) for i in y_pred_test]"
      ],
      "execution_count": 31,
      "outputs": []
    },
    {
      "cell_type": "code",
      "metadata": {
        "colab": {
          "base_uri": "https://localhost:8080/"
        },
        "id": "ue-jKUXNDqNZ",
        "outputId": "f08e284c-7a9e-48c2-c1cf-f4a4679a15fb"
      },
      "source": [
        "y_pred_test[4]"
      ],
      "execution_count": 32,
      "outputs": [
        {
          "output_type": "execute_result",
          "data": {
            "text/plain": [
              "0"
            ]
          },
          "metadata": {
            "tags": []
          },
          "execution_count": 32
        }
      ]
    },
    {
      "cell_type": "code",
      "metadata": {
        "id": "W-mWhpGQEK9W"
      },
      "source": [
        "from sklearn.metrics import f1_score, accuracy_score, precision_score, roc_auc_score, confusion_matrix, classification_report"
      ],
      "execution_count": 33,
      "outputs": []
    },
    {
      "cell_type": "code",
      "metadata": {
        "colab": {
          "base_uri": "https://localhost:8080/"
        },
        "id": "idLXb-7WEDxH",
        "outputId": "9bb67aae-f8f1-4695-fe01-b6d6a139cdec"
      },
      "source": [
        "print(classification_report(test_labels, y_pred_test, digits=3))"
      ],
      "execution_count": 34,
      "outputs": [
        {
          "output_type": "stream",
          "text": [
            "              precision    recall  f1-score   support\n",
            "\n",
            "           0      0.989     0.998     0.994      1213\n",
            "           1      0.988     0.928     0.957       180\n",
            "\n",
            "    accuracy                          0.989      1393\n",
            "   macro avg      0.989     0.963     0.975      1393\n",
            "weighted avg      0.989     0.989     0.989      1393\n",
            "\n"
          ],
          "name": "stdout"
        }
      ]
    },
    {
      "cell_type": "code",
      "metadata": {
        "colab": {
          "base_uri": "https://localhost:8080/"
        },
        "id": "YyuL0GiaFWgO",
        "outputId": "59b536b0-817c-4cf7-e4a9-cba47550478c"
      },
      "source": [
        "print('Training F1 score: {:.4f}'.format(\\\n",
        "    f1_score(training_labels, y_pred_train)))\n",
        "      \n",
        "print('Testing F1 score: {:.4f}'.format(\\\n",
        "    f1_score(test_labels, y_pred_test)))\n",
        "\n",
        "print('\\n')\n",
        "\n",
        "print('Training precision_score: {:.4f}'.format(\\\n",
        "    precision_score(training_labels, y_pred_train)))\n",
        "      \n",
        "print('Testing precision_score: {:.4f}'.format(\\\n",
        "    precision_score(test_labels, y_pred_test)))"
      ],
      "execution_count": 35,
      "outputs": [
        {
          "output_type": "stream",
          "text": [
            "Training F1 score: 0.9912\n",
            "Testing F1 score: 0.9570\n",
            "\n",
            "\n",
            "Training precision_score: 0.9929\n",
            "Testing precision_score: 0.9882\n"
          ],
          "name": "stdout"
        }
      ]
    },
    {
      "cell_type": "markdown",
      "metadata": {
        "id": "TzLy5OsnF3Hj"
      },
      "source": [
        "Note: the f1 score is taking spam as it's positive class"
      ]
    },
    {
      "cell_type": "code",
      "metadata": {
        "colab": {
          "base_uri": "https://localhost:8080/",
          "height": 442
        },
        "id": "HYVv2-YtFzY8",
        "outputId": "3ba72ca2-fad1-4e24-bc5d-2617a002b8c1"
      },
      "source": [
        "plt.figure(figsize=(8,7))\n",
        "conf_mat = confusion_matrix(test_labels, y_pred_test)\n",
        "sns.heatmap(conf_mat, annot=True, fmt='d', cmap=\"Purples\", cbar=False)\n",
        "plt.ylabel('True label')\n",
        "plt.xlabel('Predicted label')\n",
        "plt.show()"
      ],
      "execution_count": 36,
      "outputs": [
        {
          "output_type": "display_data",
          "data": {
            "image/png": "[encoded data removed]",
            "text/plain": [
              "<Figure size 576x504 with 1 Axes>"
            ]
          },
          "metadata": {
            "tags": []
          }
        }
      ]
    },
    {
      "cell_type": "code",
      "metadata": {
        "id": "IxWTmisBGLSE"
      },
      "source": [
        ""
      ],
      "execution_count": 36,
      "outputs": []
    }
  ]
}