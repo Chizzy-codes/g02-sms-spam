{
 "cells": [
  {
   "cell_type": "markdown",
   "metadata": {
    "ExecuteTime": {
     "end_time": "2020-11-25T09:05:44.499821Z",
     "start_time": "2020-11-25T09:05:44.483371Z"
    }
   },
   "source": [
    "# Importing needed libraries"
   ]
  },
  {
   "cell_type": "code",
   "execution_count": 1,
   "metadata": {
    "ExecuteTime": {
     "end_time": "2020-11-27T21:28:31.409520Z",
     "start_time": "2020-11-27T21:28:28.348106Z"
    }
   },
   "outputs": [],
   "source": [
    "import numpy as np\n",
    "import pandas as pd\n",
    "import matplotlib.pyplot as plt\n",
    "import seaborn as sns\n",
    "\n",
    "%matplotlib inline\n",
    "sns.set()"
   ]
  },
  {
   "cell_type": "markdown",
   "metadata": {
    "ExecuteTime": {
     "end_time": "2020-11-25T09:07:57.942111Z",
     "start_time": "2020-11-25T09:07:57.922071Z"
    }
   },
   "source": [
    "# Reading the data"
   ]
  },
  {
   "cell_type": "code",
   "execution_count": 2,
   "metadata": {
    "ExecuteTime": {
     "end_time": "2020-11-27T21:28:31.664032Z",
     "start_time": "2020-11-27T21:28:31.446755Z"
    }
   },
   "outputs": [],
   "source": [
    "data = pd.read_csv('./data/spam.csv', encoding='latin-1')"
   ]
  },
  {
   "cell_type": "markdown",
   "metadata": {},
   "source": [
    "# Exploring the data"
   ]
  },
  {
   "cell_type": "code",
   "execution_count": 3,
   "metadata": {
    "ExecuteTime": {
     "end_time": "2020-11-27T21:28:31.760034Z",
     "start_time": "2020-11-27T21:28:31.732035Z"
    }
   },
   "outputs": [
    {
     "name": "stdout",
     "output_type": "stream",
     "text": [
      "<class 'pandas.core.frame.DataFrame'>\n",
      "RangeIndex: 5572 entries, 0 to 5571\n",
      "Data columns (total 5 columns):\n",
      "v1            5572 non-null object\n",
      "v2            5572 non-null object\n",
      "Unnamed: 2    50 non-null object\n",
      "Unnamed: 3    12 non-null object\n",
      "Unnamed: 4    6 non-null object\n",
      "dtypes: object(5)\n",
      "memory usage: 217.7+ KB\n"
     ]
    }
   ],
   "source": [
    "data.info()"
   ]
  },
  {
   "cell_type": "code",
   "execution_count": 4,
   "metadata": {
    "ExecuteTime": {
     "end_time": "2020-11-27T21:28:31.872033Z",
     "start_time": "2020-11-27T21:28:31.843034Z"
    }
   },
   "outputs": [
    {
     "data": {
      "text/html": [
       "<div>\n",
       "<style scoped>\n",
       "    .dataframe tbody tr th:only-of-type {\n",
       "        vertical-align: middle;\n",
       "    }\n",
       "\n",
       "    .dataframe tbody tr th {\n",
       "        vertical-align: top;\n",
       "    }\n",
       "\n",
       "    .dataframe thead th {\n",
       "        text-align: right;\n",
       "    }\n",
       "</style>\n",
       "<table border=\"1\" class=\"dataframe\">\n",
       "  <thead>\n",
       "    <tr style=\"text-align: right;\">\n",
       "      <th></th>\n",
       "      <th>v1</th>\n",
       "      <th>v2</th>\n",
       "      <th>Unnamed: 2</th>\n",
       "      <th>Unnamed: 3</th>\n",
       "      <th>Unnamed: 4</th>\n",
       "    </tr>\n",
       "  </thead>\n",
       "  <tbody>\n",
       "    <tr>\n",
       "      <th>0</th>\n",
       "      <td>ham</td>\n",
       "      <td>Go until jurong point, crazy.. Available only ...</td>\n",
       "      <td>NaN</td>\n",
       "      <td>NaN</td>\n",
       "      <td>NaN</td>\n",
       "    </tr>\n",
       "    <tr>\n",
       "      <th>1</th>\n",
       "      <td>ham</td>\n",
       "      <td>Ok lar... Joking wif u oni...</td>\n",
       "      <td>NaN</td>\n",
       "      <td>NaN</td>\n",
       "      <td>NaN</td>\n",
       "    </tr>\n",
       "    <tr>\n",
       "      <th>2</th>\n",
       "      <td>spam</td>\n",
       "      <td>Free entry in 2 a wkly comp to win FA Cup fina...</td>\n",
       "      <td>NaN</td>\n",
       "      <td>NaN</td>\n",
       "      <td>NaN</td>\n",
       "    </tr>\n",
       "    <tr>\n",
       "      <th>3</th>\n",
       "      <td>ham</td>\n",
       "      <td>U dun say so early hor... U c already then say...</td>\n",
       "      <td>NaN</td>\n",
       "      <td>NaN</td>\n",
       "      <td>NaN</td>\n",
       "    </tr>\n",
       "    <tr>\n",
       "      <th>4</th>\n",
       "      <td>ham</td>\n",
       "      <td>Nah I don't think he goes to usf, he lives aro...</td>\n",
       "      <td>NaN</td>\n",
       "      <td>NaN</td>\n",
       "      <td>NaN</td>\n",
       "    </tr>\n",
       "  </tbody>\n",
       "</table>\n",
       "</div>"
      ],
      "text/plain": [
       "     v1                                                 v2 Unnamed: 2  \\\n",
       "0   ham  Go until jurong point, crazy.. Available only ...        NaN   \n",
       "1   ham                      Ok lar... Joking wif u oni...        NaN   \n",
       "2  spam  Free entry in 2 a wkly comp to win FA Cup fina...        NaN   \n",
       "3   ham  U dun say so early hor... U c already then say...        NaN   \n",
       "4   ham  Nah I don't think he goes to usf, he lives aro...        NaN   \n",
       "\n",
       "  Unnamed: 3 Unnamed: 4  \n",
       "0        NaN        NaN  \n",
       "1        NaN        NaN  \n",
       "2        NaN        NaN  \n",
       "3        NaN        NaN  \n",
       "4        NaN        NaN  "
      ]
     },
     "execution_count": 4,
     "metadata": {},
     "output_type": "execute_result"
    }
   ],
   "source": [
    "# checking the head\n",
    "data.head()"
   ]
  },
  {
   "cell_type": "code",
   "execution_count": 5,
   "metadata": {
    "ExecuteTime": {
     "end_time": "2020-11-27T21:28:31.966030Z",
     "start_time": "2020-11-27T21:28:31.875034Z"
    }
   },
   "outputs": [
    {
     "data": {
      "text/plain": [
       "ham     4825\n",
       "spam     747\n",
       "Name: v1, dtype: int64"
      ]
     },
     "execution_count": 5,
     "metadata": {},
     "output_type": "execute_result"
    }
   ],
   "source": [
    "# checking to see if our data set is imbalanced\n",
    "\n",
    "data['v1'].value_counts()"
   ]
  },
  {
   "cell_type": "markdown",
   "metadata": {
    "ExecuteTime": {
     "end_time": "2020-11-25T09:37:34.927065Z",
     "start_time": "2020-11-25T09:37:34.907027Z"
    }
   },
   "source": [
    "## We have an imbalanced dataset"
   ]
  },
  {
   "cell_type": "markdown",
   "metadata": {},
   "source": [
    "## Some of the words in the second column was extended to the 3rd, 4th and 5th column. we need to fix this\n"
   ]
  },
  {
   "cell_type": "code",
   "execution_count": 6,
   "metadata": {
    "ExecuteTime": {
     "end_time": "2020-11-27T21:28:33.947423Z",
     "start_time": "2020-11-27T21:28:33.924424Z"
    }
   },
   "outputs": [],
   "source": [
    "# fixing the mistake\n",
    "\n",
    "data['Unnamed: 2'] = data['Unnamed: 2'].fillna(',')\n",
    "data['Unnamed: 3'] = data['Unnamed: 3'].fillna(',')\n",
    "data['Unnamed: 4'] = data['Unnamed: 4'].fillna(',')\n",
    "\n",
    "data['Sms'] = data['v2'] + data['Unnamed: 2'] + data['Unnamed: 3'] + data['Unnamed: 4']"
   ]
  },
  {
   "cell_type": "code",
   "execution_count": 7,
   "metadata": {
    "ExecuteTime": {
     "end_time": "2020-11-27T21:28:34.090856Z",
     "start_time": "2020-11-27T21:28:33.982421Z"
    }
   },
   "outputs": [
    {
     "data": {
      "text/html": [
       "<div>\n",
       "<style scoped>\n",
       "    .dataframe tbody tr th:only-of-type {\n",
       "        vertical-align: middle;\n",
       "    }\n",
       "\n",
       "    .dataframe tbody tr th {\n",
       "        vertical-align: top;\n",
       "    }\n",
       "\n",
       "    .dataframe thead th {\n",
       "        text-align: right;\n",
       "    }\n",
       "</style>\n",
       "<table border=\"1\" class=\"dataframe\">\n",
       "  <thead>\n",
       "    <tr style=\"text-align: right;\">\n",
       "      <th></th>\n",
       "      <th>v1</th>\n",
       "      <th>v2</th>\n",
       "      <th>Unnamed: 2</th>\n",
       "      <th>Unnamed: 3</th>\n",
       "      <th>Unnamed: 4</th>\n",
       "      <th>Sms</th>\n",
       "    </tr>\n",
       "  </thead>\n",
       "  <tbody>\n",
       "    <tr>\n",
       "      <th>0</th>\n",
       "      <td>ham</td>\n",
       "      <td>Go until jurong point, crazy.. Available only ...</td>\n",
       "      <td>,</td>\n",
       "      <td>,</td>\n",
       "      <td>,</td>\n",
       "      <td>Go until jurong point, crazy.. Available only ...</td>\n",
       "    </tr>\n",
       "    <tr>\n",
       "      <th>1</th>\n",
       "      <td>ham</td>\n",
       "      <td>Ok lar... Joking wif u oni...</td>\n",
       "      <td>,</td>\n",
       "      <td>,</td>\n",
       "      <td>,</td>\n",
       "      <td>Ok lar... Joking wif u oni...,,,</td>\n",
       "    </tr>\n",
       "    <tr>\n",
       "      <th>2</th>\n",
       "      <td>spam</td>\n",
       "      <td>Free entry in 2 a wkly comp to win FA Cup fina...</td>\n",
       "      <td>,</td>\n",
       "      <td>,</td>\n",
       "      <td>,</td>\n",
       "      <td>Free entry in 2 a wkly comp to win FA Cup fina...</td>\n",
       "    </tr>\n",
       "    <tr>\n",
       "      <th>3</th>\n",
       "      <td>ham</td>\n",
       "      <td>U dun say so early hor... U c already then say...</td>\n",
       "      <td>,</td>\n",
       "      <td>,</td>\n",
       "      <td>,</td>\n",
       "      <td>U dun say so early hor... U c already then say...</td>\n",
       "    </tr>\n",
       "    <tr>\n",
       "      <th>4</th>\n",
       "      <td>ham</td>\n",
       "      <td>Nah I don't think he goes to usf, he lives aro...</td>\n",
       "      <td>,</td>\n",
       "      <td>,</td>\n",
       "      <td>,</td>\n",
       "      <td>Nah I don't think he goes to usf, he lives aro...</td>\n",
       "    </tr>\n",
       "  </tbody>\n",
       "</table>\n",
       "</div>"
      ],
      "text/plain": [
       "     v1                                                 v2 Unnamed: 2  \\\n",
       "0   ham  Go until jurong point, crazy.. Available only ...          ,   \n",
       "1   ham                      Ok lar... Joking wif u oni...          ,   \n",
       "2  spam  Free entry in 2 a wkly comp to win FA Cup fina...          ,   \n",
       "3   ham  U dun say so early hor... U c already then say...          ,   \n",
       "4   ham  Nah I don't think he goes to usf, he lives aro...          ,   \n",
       "\n",
       "  Unnamed: 3 Unnamed: 4                                                Sms  \n",
       "0          ,          ,  Go until jurong point, crazy.. Available only ...  \n",
       "1          ,          ,                   Ok lar... Joking wif u oni...,,,  \n",
       "2          ,          ,  Free entry in 2 a wkly comp to win FA Cup fina...  \n",
       "3          ,          ,  U dun say so early hor... U c already then say...  \n",
       "4          ,          ,  Nah I don't think he goes to usf, he lives aro...  "
      ]
     },
     "execution_count": 7,
     "metadata": {},
     "output_type": "execute_result"
    }
   ],
   "source": [
    "data.head()"
   ]
  },
  {
   "cell_type": "code",
   "execution_count": 8,
   "metadata": {
    "ExecuteTime": {
     "end_time": "2020-11-27T21:28:34.933859Z",
     "start_time": "2020-11-27T21:28:34.906819Z"
    }
   },
   "outputs": [
    {
     "name": "stdout",
     "output_type": "stream",
     "text": [
      "<class 'pandas.core.frame.DataFrame'>\n",
      "RangeIndex: 5572 entries, 0 to 5571\n",
      "Data columns (total 6 columns):\n",
      "v1            5572 non-null object\n",
      "v2            5572 non-null object\n",
      "Unnamed: 2    5572 non-null object\n",
      "Unnamed: 3    5572 non-null object\n",
      "Unnamed: 4    5572 non-null object\n",
      "Sms           5572 non-null object\n",
      "dtypes: object(6)\n",
      "memory usage: 261.3+ KB\n"
     ]
    }
   ],
   "source": [
    "data.info()"
   ]
  },
  {
   "cell_type": "code",
   "execution_count": 9,
   "metadata": {
    "ExecuteTime": {
     "end_time": "2020-11-27T21:28:35.249060Z",
     "start_time": "2020-11-27T21:28:35.219057Z"
    }
   },
   "outputs": [],
   "source": [
    "data.drop(['v2', 'Unnamed: 2', 'Unnamed: 3', 'Unnamed: 4'], axis=1, inplace=True)\n",
    "data.columns = ['Value', 'Sms']"
   ]
  },
  {
   "cell_type": "code",
   "execution_count": 10,
   "metadata": {
    "ExecuteTime": {
     "end_time": "2020-11-27T21:28:35.561816Z",
     "start_time": "2020-11-27T21:28:35.538815Z"
    }
   },
   "outputs": [
    {
     "data": {
      "text/html": [
       "<div>\n",
       "<style scoped>\n",
       "    .dataframe tbody tr th:only-of-type {\n",
       "        vertical-align: middle;\n",
       "    }\n",
       "\n",
       "    .dataframe tbody tr th {\n",
       "        vertical-align: top;\n",
       "    }\n",
       "\n",
       "    .dataframe thead th {\n",
       "        text-align: right;\n",
       "    }\n",
       "</style>\n",
       "<table border=\"1\" class=\"dataframe\">\n",
       "  <thead>\n",
       "    <tr style=\"text-align: right;\">\n",
       "      <th></th>\n",
       "      <th>Value</th>\n",
       "      <th>Sms</th>\n",
       "    </tr>\n",
       "  </thead>\n",
       "  <tbody>\n",
       "    <tr>\n",
       "      <th>0</th>\n",
       "      <td>ham</td>\n",
       "      <td>Go until jurong point, crazy.. Available only ...</td>\n",
       "    </tr>\n",
       "    <tr>\n",
       "      <th>1</th>\n",
       "      <td>ham</td>\n",
       "      <td>Ok lar... Joking wif u oni...,,,</td>\n",
       "    </tr>\n",
       "    <tr>\n",
       "      <th>2</th>\n",
       "      <td>spam</td>\n",
       "      <td>Free entry in 2 a wkly comp to win FA Cup fina...</td>\n",
       "    </tr>\n",
       "    <tr>\n",
       "      <th>3</th>\n",
       "      <td>ham</td>\n",
       "      <td>U dun say so early hor... U c already then say...</td>\n",
       "    </tr>\n",
       "    <tr>\n",
       "      <th>4</th>\n",
       "      <td>ham</td>\n",
       "      <td>Nah I don't think he goes to usf, he lives aro...</td>\n",
       "    </tr>\n",
       "  </tbody>\n",
       "</table>\n",
       "</div>"
      ],
      "text/plain": [
       "  Value                                                Sms\n",
       "0   ham  Go until jurong point, crazy.. Available only ...\n",
       "1   ham                   Ok lar... Joking wif u oni...,,,\n",
       "2  spam  Free entry in 2 a wkly comp to win FA Cup fina...\n",
       "3   ham  U dun say so early hor... U c already then say...\n",
       "4   ham  Nah I don't think he goes to usf, he lives aro..."
      ]
     },
     "execution_count": 10,
     "metadata": {},
     "output_type": "execute_result"
    }
   ],
   "source": [
    "data.head()"
   ]
  },
  {
   "cell_type": "code",
   "execution_count": 11,
   "metadata": {
    "ExecuteTime": {
     "end_time": "2020-11-27T21:28:36.050206Z",
     "start_time": "2020-11-27T21:28:36.000424Z"
    },
    "scrolled": true
   },
   "outputs": [
    {
     "name": "stdout",
     "output_type": "stream",
     "text": [
      "<class 'pandas.core.frame.DataFrame'>\n",
      "RangeIndex: 5572 entries, 0 to 5571\n",
      "Data columns (total 2 columns):\n",
      "Value    5572 non-null object\n",
      "Sms      5572 non-null object\n",
      "dtypes: object(2)\n",
      "memory usage: 87.1+ KB\n"
     ]
    }
   ],
   "source": [
    "data.info()"
   ]
  },
  {
   "cell_type": "code",
   "execution_count": 12,
   "metadata": {
    "ExecuteTime": {
     "end_time": "2020-11-27T21:28:36.351728Z",
     "start_time": "2020-11-27T21:28:36.293719Z"
    }
   },
   "outputs": [
    {
     "data": {
      "text/html": [
       "<div>\n",
       "<style scoped>\n",
       "    .dataframe tbody tr th:only-of-type {\n",
       "        vertical-align: middle;\n",
       "    }\n",
       "\n",
       "    .dataframe tbody tr th {\n",
       "        vertical-align: top;\n",
       "    }\n",
       "\n",
       "    .dataframe thead th {\n",
       "        text-align: right;\n",
       "    }\n",
       "</style>\n",
       "<table border=\"1\" class=\"dataframe\">\n",
       "  <thead>\n",
       "    <tr style=\"text-align: right;\">\n",
       "      <th></th>\n",
       "      <th>Value</th>\n",
       "      <th>Sms</th>\n",
       "    </tr>\n",
       "  </thead>\n",
       "  <tbody>\n",
       "    <tr>\n",
       "      <th>count</th>\n",
       "      <td>5572</td>\n",
       "      <td>5572</td>\n",
       "    </tr>\n",
       "    <tr>\n",
       "      <th>unique</th>\n",
       "      <td>2</td>\n",
       "      <td>5169</td>\n",
       "    </tr>\n",
       "    <tr>\n",
       "      <th>top</th>\n",
       "      <td>ham</td>\n",
       "      <td>Sorry, I'll call later,,,</td>\n",
       "    </tr>\n",
       "    <tr>\n",
       "      <th>freq</th>\n",
       "      <td>4825</td>\n",
       "      <td>30</td>\n",
       "    </tr>\n",
       "  </tbody>\n",
       "</table>\n",
       "</div>"
      ],
      "text/plain": [
       "       Value                        Sms\n",
       "count   5572                       5572\n",
       "unique     2                       5169\n",
       "top      ham  Sorry, I'll call later,,,\n",
       "freq    4825                         30"
      ]
     },
     "execution_count": 12,
     "metadata": {},
     "output_type": "execute_result"
    }
   ],
   "source": [
    "# describing the data\n",
    "\n",
    "data.describe()"
   ]
  },
  {
   "cell_type": "code",
   "execution_count": 13,
   "metadata": {
    "ExecuteTime": {
     "end_time": "2020-11-27T21:28:36.792125Z",
     "start_time": "2020-11-27T21:28:36.672142Z"
    }
   },
   "outputs": [
    {
     "data": {
      "text/html": [
       "<div>\n",
       "<style scoped>\n",
       "    .dataframe tbody tr th:only-of-type {\n",
       "        vertical-align: middle;\n",
       "    }\n",
       "\n",
       "    .dataframe tbody tr th {\n",
       "        vertical-align: top;\n",
       "    }\n",
       "\n",
       "    .dataframe thead tr th {\n",
       "        text-align: left;\n",
       "    }\n",
       "\n",
       "    .dataframe thead tr:last-of-type th {\n",
       "        text-align: right;\n",
       "    }\n",
       "</style>\n",
       "<table border=\"1\" class=\"dataframe\">\n",
       "  <thead>\n",
       "    <tr>\n",
       "      <th></th>\n",
       "      <th colspan=\"4\" halign=\"left\">Sms</th>\n",
       "    </tr>\n",
       "    <tr>\n",
       "      <th></th>\n",
       "      <th>count</th>\n",
       "      <th>unique</th>\n",
       "      <th>top</th>\n",
       "      <th>freq</th>\n",
       "    </tr>\n",
       "    <tr>\n",
       "      <th>Value</th>\n",
       "      <th></th>\n",
       "      <th></th>\n",
       "      <th></th>\n",
       "      <th></th>\n",
       "    </tr>\n",
       "  </thead>\n",
       "  <tbody>\n",
       "    <tr>\n",
       "      <th>ham</th>\n",
       "      <td>4825</td>\n",
       "      <td>4516</td>\n",
       "      <td>Sorry, I'll call later,,,</td>\n",
       "      <td>30</td>\n",
       "    </tr>\n",
       "    <tr>\n",
       "      <th>spam</th>\n",
       "      <td>747</td>\n",
       "      <td>653</td>\n",
       "      <td>Please call our customer service representativ...</td>\n",
       "      <td>4</td>\n",
       "    </tr>\n",
       "  </tbody>\n",
       "</table>\n",
       "</div>"
      ],
      "text/plain": [
       "        Sms                                                               \n",
       "      count unique                                                top freq\n",
       "Value                                                                     \n",
       "ham    4825   4516                          Sorry, I'll call later,,,   30\n",
       "spam    747    653  Please call our customer service representativ...    4"
      ]
     },
     "execution_count": 13,
     "metadata": {},
     "output_type": "execute_result"
    }
   ],
   "source": [
    "data.groupby('Value').describe()"
   ]
  },
  {
   "cell_type": "markdown",
   "metadata": {},
   "source": [
    "# Feature Engineering"
   ]
  },
  {
   "cell_type": "code",
   "execution_count": 14,
   "metadata": {
    "ExecuteTime": {
     "end_time": "2020-11-27T21:28:37.342121Z",
     "start_time": "2020-11-27T21:28:37.303086Z"
    }
   },
   "outputs": [],
   "source": [
    "# encoding spam and ham\n",
    "\n",
    "def spam(x):\n",
    "    if x == 'spam':\n",
    "        return 1.0\n",
    "    elif x == 'ham':\n",
    "        return 0.0\n",
    "\n",
    "data['Value'] = data['Value'].apply(spam)"
   ]
  },
  {
   "cell_type": "code",
   "execution_count": 15,
   "metadata": {
    "ExecuteTime": {
     "end_time": "2020-11-27T21:28:37.852219Z",
     "start_time": "2020-11-27T21:28:37.633209Z"
    }
   },
   "outputs": [],
   "source": [
    "# checking the lenghts of each text, if it contains links, the word \"call\" or words \"text, txt, send\"\n",
    "\n",
    "# first we need to convert all the words in the sms column to lower case\n",
    "\n",
    "# We actually noticed that most spam messages contain the words [call, text, txt, apply, http, www, free]\n",
    "\n",
    "def lower(x):\n",
    "    case = x.lower()\n",
    "    return case\n",
    "\n",
    "def length(x):\n",
    "    answer = len(x)\n",
    "    return float(answer)\n",
    "\n",
    "def iflink(x):\n",
    "    link = ['www', 'htt']\n",
    "    words = x.split()\n",
    "    for word in words:\n",
    "        if word[:3] in link:\n",
    "            return 1.0\n",
    "    return 0.0\n",
    "\n",
    "def iftext(x):\n",
    "    text = ['txt', 'text', 'send', 'reply', 'apply']\n",
    "    words = x.split()\n",
    "    for word in words:\n",
    "        if word in text:\n",
    "            return 1.0\n",
    "    return 0.0\n",
    "\n",
    "def ifcall(x):\n",
    "    call = ['call', 'customer', 'representative']\n",
    "    words = x.split()\n",
    "    for word in words:\n",
    "        if word in call:\n",
    "            return 1.0\n",
    "    return 0.0\n",
    "\n",
    "def iffree(x):\n",
    "    free = ['free']\n",
    "    words = x.split()\n",
    "    for word in words:\n",
    "        if word in free:\n",
    "            return 1.0\n",
    "    return 0.0\n",
    "\n",
    "data['Sms'] = data['Sms'].apply(lower)\n",
    "data['Length'] = data['Sms'].apply(length)\n",
    "data['Links'] = data['Sms'].apply(iflink)\n",
    "data['Text'] = data['Sms'].apply(iftext)\n",
    "data['Call'] = data['Sms'].apply(ifcall)\n",
    "data['Free'] = data['Sms'].apply(iffree)"
   ]
  },
  {
   "cell_type": "code",
   "execution_count": 16,
   "metadata": {
    "ExecuteTime": {
     "end_time": "2020-11-27T21:28:38.025293Z",
     "start_time": "2020-11-27T21:28:37.991293Z"
    }
   },
   "outputs": [
    {
     "data": {
      "text/html": [
       "<div>\n",
       "<style scoped>\n",
       "    .dataframe tbody tr th:only-of-type {\n",
       "        vertical-align: middle;\n",
       "    }\n",
       "\n",
       "    .dataframe tbody tr th {\n",
       "        vertical-align: top;\n",
       "    }\n",
       "\n",
       "    .dataframe thead th {\n",
       "        text-align: right;\n",
       "    }\n",
       "</style>\n",
       "<table border=\"1\" class=\"dataframe\">\n",
       "  <thead>\n",
       "    <tr style=\"text-align: right;\">\n",
       "      <th></th>\n",
       "      <th>Value</th>\n",
       "      <th>Sms</th>\n",
       "      <th>Length</th>\n",
       "      <th>Links</th>\n",
       "      <th>Text</th>\n",
       "      <th>Call</th>\n",
       "      <th>Free</th>\n",
       "    </tr>\n",
       "  </thead>\n",
       "  <tbody>\n",
       "    <tr>\n",
       "      <th>0</th>\n",
       "      <td>0.0</td>\n",
       "      <td>go until jurong point, crazy.. available only ...</td>\n",
       "      <td>114.0</td>\n",
       "      <td>0.0</td>\n",
       "      <td>0.0</td>\n",
       "      <td>0.0</td>\n",
       "      <td>0.0</td>\n",
       "    </tr>\n",
       "    <tr>\n",
       "      <th>1</th>\n",
       "      <td>0.0</td>\n",
       "      <td>ok lar... joking wif u oni...,,,</td>\n",
       "      <td>32.0</td>\n",
       "      <td>0.0</td>\n",
       "      <td>0.0</td>\n",
       "      <td>0.0</td>\n",
       "      <td>0.0</td>\n",
       "    </tr>\n",
       "    <tr>\n",
       "      <th>2</th>\n",
       "      <td>1.0</td>\n",
       "      <td>free entry in 2 a wkly comp to win fa cup fina...</td>\n",
       "      <td>158.0</td>\n",
       "      <td>0.0</td>\n",
       "      <td>1.0</td>\n",
       "      <td>0.0</td>\n",
       "      <td>1.0</td>\n",
       "    </tr>\n",
       "    <tr>\n",
       "      <th>3</th>\n",
       "      <td>0.0</td>\n",
       "      <td>u dun say so early hor... u c already then say...</td>\n",
       "      <td>52.0</td>\n",
       "      <td>0.0</td>\n",
       "      <td>0.0</td>\n",
       "      <td>0.0</td>\n",
       "      <td>0.0</td>\n",
       "    </tr>\n",
       "    <tr>\n",
       "      <th>4</th>\n",
       "      <td>0.0</td>\n",
       "      <td>nah i don't think he goes to usf, he lives aro...</td>\n",
       "      <td>64.0</td>\n",
       "      <td>0.0</td>\n",
       "      <td>0.0</td>\n",
       "      <td>0.0</td>\n",
       "      <td>0.0</td>\n",
       "    </tr>\n",
       "  </tbody>\n",
       "</table>\n",
       "</div>"
      ],
      "text/plain": [
       "   Value                                                Sms  Length  Links  \\\n",
       "0    0.0  go until jurong point, crazy.. available only ...   114.0    0.0   \n",
       "1    0.0                   ok lar... joking wif u oni...,,,    32.0    0.0   \n",
       "2    1.0  free entry in 2 a wkly comp to win fa cup fina...   158.0    0.0   \n",
       "3    0.0  u dun say so early hor... u c already then say...    52.0    0.0   \n",
       "4    0.0  nah i don't think he goes to usf, he lives aro...    64.0    0.0   \n",
       "\n",
       "   Text  Call  Free  \n",
       "0   0.0   0.0   0.0  \n",
       "1   0.0   0.0   0.0  \n",
       "2   1.0   0.0   1.0  \n",
       "3   0.0   0.0   0.0  \n",
       "4   0.0   0.0   0.0  "
      ]
     },
     "execution_count": 16,
     "metadata": {},
     "output_type": "execute_result"
    }
   ],
   "source": [
    "data.head()"
   ]
  },
  {
   "cell_type": "code",
   "execution_count": 17,
   "metadata": {
    "ExecuteTime": {
     "end_time": "2020-11-27T21:28:38.417720Z",
     "start_time": "2020-11-27T21:28:38.366715Z"
    }
   },
   "outputs": [
    {
     "data": {
      "text/plain": [
       "0.0    5040\n",
       "1.0     532\n",
       "Name: Call, dtype: int64"
      ]
     },
     "execution_count": 17,
     "metadata": {},
     "output_type": "execute_result"
    }
   ],
   "source": [
    "data.Call.value_counts()"
   ]
  },
  {
   "cell_type": "markdown",
   "metadata": {
    "ExecuteTime": {
     "end_time": "2020-11-25T09:51:59.526458Z",
     "start_time": "2020-11-25T09:51:59.512418Z"
    }
   },
   "source": [
    "# Exploratory Data Analysis"
   ]
  },
  {
   "cell_type": "code",
   "execution_count": 18,
   "metadata": {
    "ExecuteTime": {
     "end_time": "2020-11-27T21:28:39.544165Z",
     "start_time": "2020-11-27T21:28:39.382613Z"
    }
   },
   "outputs": [
    {
     "data": {
      "text/html": [
       "<div>\n",
       "<style scoped>\n",
       "    .dataframe tbody tr th:only-of-type {\n",
       "        vertical-align: middle;\n",
       "    }\n",
       "\n",
       "    .dataframe tbody tr th {\n",
       "        vertical-align: top;\n",
       "    }\n",
       "\n",
       "    .dataframe thead th {\n",
       "        text-align: right;\n",
       "    }\n",
       "</style>\n",
       "<table border=\"1\" class=\"dataframe\">\n",
       "  <thead>\n",
       "    <tr style=\"text-align: right;\">\n",
       "      <th></th>\n",
       "      <th>Value</th>\n",
       "      <th>Sms</th>\n",
       "      <th>Length</th>\n",
       "      <th>Links</th>\n",
       "      <th>Text</th>\n",
       "      <th>Call</th>\n",
       "      <th>Free</th>\n",
       "    </tr>\n",
       "  </thead>\n",
       "  <tbody>\n",
       "    <tr>\n",
       "      <th>count</th>\n",
       "      <td>5572.000000</td>\n",
       "      <td>5572</td>\n",
       "      <td>5572.000000</td>\n",
       "      <td>5572.000000</td>\n",
       "      <td>5572.000000</td>\n",
       "      <td>5572.000000</td>\n",
       "      <td>5572.000000</td>\n",
       "    </tr>\n",
       "    <tr>\n",
       "      <th>unique</th>\n",
       "      <td>NaN</td>\n",
       "      <td>5168</td>\n",
       "      <td>NaN</td>\n",
       "      <td>NaN</td>\n",
       "      <td>NaN</td>\n",
       "      <td>NaN</td>\n",
       "      <td>NaN</td>\n",
       "    </tr>\n",
       "    <tr>\n",
       "      <th>top</th>\n",
       "      <td>NaN</td>\n",
       "      <td>sorry, i'll call later,,,</td>\n",
       "      <td>NaN</td>\n",
       "      <td>NaN</td>\n",
       "      <td>NaN</td>\n",
       "      <td>NaN</td>\n",
       "      <td>NaN</td>\n",
       "    </tr>\n",
       "    <tr>\n",
       "      <th>freq</th>\n",
       "      <td>NaN</td>\n",
       "      <td>30</td>\n",
       "      <td>NaN</td>\n",
       "      <td>NaN</td>\n",
       "      <td>NaN</td>\n",
       "      <td>NaN</td>\n",
       "      <td>NaN</td>\n",
       "    </tr>\n",
       "    <tr>\n",
       "      <th>mean</th>\n",
       "      <td>0.134063</td>\n",
       "      <td>NaN</td>\n",
       "      <td>83.667803</td>\n",
       "      <td>0.018844</td>\n",
       "      <td>0.095298</td>\n",
       "      <td>0.095477</td>\n",
       "      <td>0.034637</td>\n",
       "    </tr>\n",
       "    <tr>\n",
       "      <th>std</th>\n",
       "      <td>0.340751</td>\n",
       "      <td>NaN</td>\n",
       "      <td>59.978301</td>\n",
       "      <td>0.135987</td>\n",
       "      <td>0.293652</td>\n",
       "      <td>0.293900</td>\n",
       "      <td>0.182876</td>\n",
       "    </tr>\n",
       "    <tr>\n",
       "      <th>min</th>\n",
       "      <td>0.000000</td>\n",
       "      <td>NaN</td>\n",
       "      <td>5.000000</td>\n",
       "      <td>0.000000</td>\n",
       "      <td>0.000000</td>\n",
       "      <td>0.000000</td>\n",
       "      <td>0.000000</td>\n",
       "    </tr>\n",
       "    <tr>\n",
       "      <th>25%</th>\n",
       "      <td>0.000000</td>\n",
       "      <td>NaN</td>\n",
       "      <td>39.000000</td>\n",
       "      <td>0.000000</td>\n",
       "      <td>0.000000</td>\n",
       "      <td>0.000000</td>\n",
       "      <td>0.000000</td>\n",
       "    </tr>\n",
       "    <tr>\n",
       "      <th>50%</th>\n",
       "      <td>0.000000</td>\n",
       "      <td>NaN</td>\n",
       "      <td>65.000000</td>\n",
       "      <td>0.000000</td>\n",
       "      <td>0.000000</td>\n",
       "      <td>0.000000</td>\n",
       "      <td>0.000000</td>\n",
       "    </tr>\n",
       "    <tr>\n",
       "      <th>75%</th>\n",
       "      <td>0.000000</td>\n",
       "      <td>NaN</td>\n",
       "      <td>126.000000</td>\n",
       "      <td>0.000000</td>\n",
       "      <td>0.000000</td>\n",
       "      <td>0.000000</td>\n",
       "      <td>0.000000</td>\n",
       "    </tr>\n",
       "    <tr>\n",
       "      <th>max</th>\n",
       "      <td>1.000000</td>\n",
       "      <td>NaN</td>\n",
       "      <td>913.000000</td>\n",
       "      <td>1.000000</td>\n",
       "      <td>1.000000</td>\n",
       "      <td>1.000000</td>\n",
       "      <td>1.000000</td>\n",
       "    </tr>\n",
       "  </tbody>\n",
       "</table>\n",
       "</div>"
      ],
      "text/plain": [
       "              Value                        Sms       Length        Links  \\\n",
       "count   5572.000000                       5572  5572.000000  5572.000000   \n",
       "unique          NaN                       5168          NaN          NaN   \n",
       "top             NaN  sorry, i'll call later,,,          NaN          NaN   \n",
       "freq            NaN                         30          NaN          NaN   \n",
       "mean       0.134063                        NaN    83.667803     0.018844   \n",
       "std        0.340751                        NaN    59.978301     0.135987   \n",
       "min        0.000000                        NaN     5.000000     0.000000   \n",
       "25%        0.000000                        NaN    39.000000     0.000000   \n",
       "50%        0.000000                        NaN    65.000000     0.000000   \n",
       "75%        0.000000                        NaN   126.000000     0.000000   \n",
       "max        1.000000                        NaN   913.000000     1.000000   \n",
       "\n",
       "               Text         Call         Free  \n",
       "count   5572.000000  5572.000000  5572.000000  \n",
       "unique          NaN          NaN          NaN  \n",
       "top             NaN          NaN          NaN  \n",
       "freq            NaN          NaN          NaN  \n",
       "mean       0.095298     0.095477     0.034637  \n",
       "std        0.293652     0.293900     0.182876  \n",
       "min        0.000000     0.000000     0.000000  \n",
       "25%        0.000000     0.000000     0.000000  \n",
       "50%        0.000000     0.000000     0.000000  \n",
       "75%        0.000000     0.000000     0.000000  \n",
       "max        1.000000     1.000000     1.000000  "
      ]
     },
     "execution_count": 18,
     "metadata": {},
     "output_type": "execute_result"
    }
   ],
   "source": [
    "data.describe(include='all')"
   ]
  },
  {
   "cell_type": "code",
   "execution_count": 19,
   "metadata": {
    "ExecuteTime": {
     "end_time": "2020-11-27T21:28:40.162377Z",
     "start_time": "2020-11-27T21:28:39.851653Z"
    }
   },
   "outputs": [
    {
     "data": {
      "text/plain": [
       "<matplotlib.axes._subplots.AxesSubplot at 0x249d95c9e88>"
      ]
     },
     "execution_count": 19,
     "metadata": {},
     "output_type": "execute_result"
    },
    {
     "data": {
      "image/png": "[encoded data removed]",
      "text/plain": [
       "<Figure size 432x288 with 1 Axes>"
      ]
     },
     "metadata": {
      "needs_background": "light"
     },
     "output_type": "display_data"
    }
   ],
   "source": [
    "sns.countplot(data['Value'])"
   ]
  },
  {
   "cell_type": "code",
   "execution_count": 20,
   "metadata": {
    "ExecuteTime": {
     "end_time": "2020-11-27T21:28:41.020592Z",
     "start_time": "2020-11-27T21:28:40.245343Z"
    },
    "scrolled": false
   },
   "outputs": [
    {
     "data": {
      "text/plain": [
       "<matplotlib.axes._subplots.AxesSubplot at 0x249d98dd308>"
      ]
     },
     "execution_count": 20,
     "metadata": {},
     "output_type": "execute_result"
    },
    {
     "data": {
      "image/png": "[encoded data removed]",
      "text/plain": [
       "<Figure size 432x288 with 1 Axes>"
      ]
     },
     "metadata": {
      "needs_background": "light"
     },
     "output_type": "display_data"
    }
   ],
   "source": [
    "sns.distplot(data['Length'], bins=200)"
   ]
  },
  {
   "cell_type": "code",
   "execution_count": 21,
   "metadata": {
    "ExecuteTime": {
     "end_time": "2020-11-27T21:28:41.938340Z",
     "start_time": "2020-11-27T21:28:41.120489Z"
    }
   },
   "outputs": [
    {
     "data": {
      "text/plain": [
       "<seaborn.axisgrid.FacetGrid at 0x249d9b9e608>"
      ]
     },
     "execution_count": 21,
     "metadata": {},
     "output_type": "execute_result"
    },
    {
     "data": {
      "text/plain": [
       "<Figure size 1440x720 with 0 Axes>"
      ]
     },
     "metadata": {},
     "output_type": "display_data"
    },
    {
     "data": {
      "image/png": "[encoded data removed]",
      "text/plain": [
       "<Figure size 432x216 with 2 Axes>"
      ]
     },
     "metadata": {
      "needs_background": "light"
     },
     "output_type": "display_data"
    }
   ],
   "source": [
    "plt.figure(figsize = (20, 10))\n",
    "\n",
    "g = sns.FacetGrid(col='Value', data=data, sharey=False)\n",
    "g.map(plt.hist, 'Length')"
   ]
  },
  {
   "cell_type": "code",
   "execution_count": 22,
   "metadata": {
    "ExecuteTime": {
     "end_time": "2020-11-27T21:28:42.428472Z",
     "start_time": "2020-11-27T21:28:42.021429Z"
    }
   },
   "outputs": [
    {
     "data": {
      "text/plain": [
       "<matplotlib.axes._subplots.AxesSubplot at 0x249d9c40908>"
      ]
     },
     "execution_count": 22,
     "metadata": {},
     "output_type": "execute_result"
    },
    {
     "data": {
      "image/png": "[encoded data removed]",
      "text/plain": [
       "<Figure size 1080x576 with 2 Axes>"
      ]
     },
     "metadata": {
      "needs_background": "light"
     },
     "output_type": "display_data"
    }
   ],
   "source": [
    "plt.figure(figsize=(15,8))\n",
    "sns.heatmap(data.corr(), cmap='coolwarm', annot=True)"
   ]
  },
  {
   "cell_type": "code",
   "execution_count": 23,
   "metadata": {
    "ExecuteTime": {
     "end_time": "2020-11-27T21:28:46.685718Z",
     "start_time": "2020-11-27T21:28:46.338225Z"
    }
   },
   "outputs": [
    {
     "data": {
      "text/plain": [
       "<matplotlib.axes._subplots.AxesSubplot at 0x249da3f5f08>"
      ]
     },
     "execution_count": 23,
     "metadata": {},
     "output_type": "execute_result"
    },
    {
     "data": {
      "image/png": "[encoded data removed]",
      "text/plain": [
       "<Figure size 1080x576 with 2 Axes>"
      ]
     },
     "metadata": {
      "needs_background": "light"
     },
     "output_type": "display_data"
    }
   ],
   "source": [
    "subset =  data.drop('Value', axis=1)\n",
    "plt.figure(figsize=(15,8))\n",
    "sns.heatmap(subset.corr(), cmap='coolwarm', annot=True)"
   ]
  },
  {
   "cell_type": "markdown",
   "metadata": {},
   "source": [
    "### From the heat maps above, the features we created would help to increase the accuracy of our model"
   ]
  },
  {
   "cell_type": "markdown",
   "metadata": {
    "ExecuteTime": {
     "end_time": "2020-11-25T11:18:49.581184Z",
     "start_time": "2020-11-25T11:18:49.567171Z"
    }
   },
   "source": [
    "# Encoding the Sms feature (Text Normalization and Preprocessing)"
   ]
  },
  {
   "cell_type": "markdown",
   "metadata": {},
   "source": [
    "## Removing puntuations from the"
   ]
  },
  {
   "cell_type": "code",
   "execution_count": 24,
   "metadata": {
    "ExecuteTime": {
     "end_time": "2020-11-27T21:29:10.481751Z",
     "start_time": "2020-11-27T21:29:10.463745Z"
    }
   },
   "outputs": [],
   "source": [
    "import string"
   ]
  },
  {
   "cell_type": "code",
   "execution_count": 25,
   "metadata": {
    "ExecuteTime": {
     "end_time": "2020-11-27T21:29:10.825226Z",
     "start_time": "2020-11-27T21:29:10.713678Z"
    }
   },
   "outputs": [],
   "source": [
    "# remove String Punctuation\n",
    "\n",
    "def removepun(x):\n",
    "    letters = [word for word in x if word not in string.punctuation]\n",
    "    fresh = ''.join(letters)\n",
    "    return fresh\n",
    "\n",
    "data['Sms'] = data['Sms'].apply(removepun)"
   ]
  },
  {
   "cell_type": "markdown",
   "metadata": {
    "ExecuteTime": {
     "end_time": "2020-11-25T12:31:44.141546Z",
     "start_time": "2020-11-25T12:31:44.121537Z"
    }
   },
   "source": [
    "## Removing Stop words"
   ]
  },
  {
   "cell_type": "code",
   "execution_count": 26,
   "metadata": {
    "ExecuteTime": {
     "end_time": "2020-11-27T21:29:21.991801Z",
     "start_time": "2020-11-27T21:29:12.825051Z"
    }
   },
   "outputs": [],
   "source": [
    "from nltk.corpus import stopwords"
   ]
  },
  {
   "cell_type": "code",
   "execution_count": 27,
   "metadata": {
    "ExecuteTime": {
     "end_time": "2020-11-27T21:29:25.985664Z",
     "start_time": "2020-11-27T21:29:25.970676Z"
    }
   },
   "outputs": [],
   "source": [
    "# remove stop words\n",
    "# return list of words/tokenize\n",
    "\n",
    "\n",
    "def removestop(x):\n",
    "    sentence = [\n",
    "        word for word in x.split() if word not in stopwords.words('english')]\n",
    "    \n",
    "    return sentence\n",
    "\n",
    "# data['Sms'] = data['Sms'].apply(removestop)"
   ]
  },
  {
   "cell_type": "code",
   "execution_count": 28,
   "metadata": {
    "ExecuteTime": {
     "end_time": "2020-11-27T21:29:26.631054Z",
     "start_time": "2020-11-27T21:29:26.564008Z"
    }
   },
   "outputs": [
    {
     "data": {
      "text/html": [
       "<div>\n",
       "<style scoped>\n",
       "    .dataframe tbody tr th:only-of-type {\n",
       "        vertical-align: middle;\n",
       "    }\n",
       "\n",
       "    .dataframe tbody tr th {\n",
       "        vertical-align: top;\n",
       "    }\n",
       "\n",
       "    .dataframe thead th {\n",
       "        text-align: right;\n",
       "    }\n",
       "</style>\n",
       "<table border=\"1\" class=\"dataframe\">\n",
       "  <thead>\n",
       "    <tr style=\"text-align: right;\">\n",
       "      <th></th>\n",
       "      <th>Value</th>\n",
       "      <th>Sms</th>\n",
       "      <th>Length</th>\n",
       "      <th>Links</th>\n",
       "      <th>Text</th>\n",
       "      <th>Call</th>\n",
       "      <th>Free</th>\n",
       "    </tr>\n",
       "  </thead>\n",
       "  <tbody>\n",
       "    <tr>\n",
       "      <th>0</th>\n",
       "      <td>0.0</td>\n",
       "      <td>go until jurong point crazy available only in ...</td>\n",
       "      <td>114.0</td>\n",
       "      <td>0.0</td>\n",
       "      <td>0.0</td>\n",
       "      <td>0.0</td>\n",
       "      <td>0.0</td>\n",
       "    </tr>\n",
       "    <tr>\n",
       "      <th>1</th>\n",
       "      <td>0.0</td>\n",
       "      <td>ok lar joking wif u oni</td>\n",
       "      <td>32.0</td>\n",
       "      <td>0.0</td>\n",
       "      <td>0.0</td>\n",
       "      <td>0.0</td>\n",
       "      <td>0.0</td>\n",
       "    </tr>\n",
       "    <tr>\n",
       "      <th>2</th>\n",
       "      <td>1.0</td>\n",
       "      <td>free entry in 2 a wkly comp to win fa cup fina...</td>\n",
       "      <td>158.0</td>\n",
       "      <td>0.0</td>\n",
       "      <td>1.0</td>\n",
       "      <td>0.0</td>\n",
       "      <td>1.0</td>\n",
       "    </tr>\n",
       "    <tr>\n",
       "      <th>3</th>\n",
       "      <td>0.0</td>\n",
       "      <td>u dun say so early hor u c already then say</td>\n",
       "      <td>52.0</td>\n",
       "      <td>0.0</td>\n",
       "      <td>0.0</td>\n",
       "      <td>0.0</td>\n",
       "      <td>0.0</td>\n",
       "    </tr>\n",
       "    <tr>\n",
       "      <th>4</th>\n",
       "      <td>0.0</td>\n",
       "      <td>nah i dont think he goes to usf he lives aroun...</td>\n",
       "      <td>64.0</td>\n",
       "      <td>0.0</td>\n",
       "      <td>0.0</td>\n",
       "      <td>0.0</td>\n",
       "      <td>0.0</td>\n",
       "    </tr>\n",
       "  </tbody>\n",
       "</table>\n",
       "</div>"
      ],
      "text/plain": [
       "   Value                                                Sms  Length  Links  \\\n",
       "0    0.0  go until jurong point crazy available only in ...   114.0    0.0   \n",
       "1    0.0                            ok lar joking wif u oni    32.0    0.0   \n",
       "2    1.0  free entry in 2 a wkly comp to win fa cup fina...   158.0    0.0   \n",
       "3    0.0        u dun say so early hor u c already then say    52.0    0.0   \n",
       "4    0.0  nah i dont think he goes to usf he lives aroun...    64.0    0.0   \n",
       "\n",
       "   Text  Call  Free  \n",
       "0   0.0   0.0   0.0  \n",
       "1   0.0   0.0   0.0  \n",
       "2   1.0   0.0   1.0  \n",
       "3   0.0   0.0   0.0  \n",
       "4   0.0   0.0   0.0  "
      ]
     },
     "execution_count": 28,
     "metadata": {},
     "output_type": "execute_result"
    }
   ],
   "source": [
    "data.head()"
   ]
  },
  {
   "cell_type": "markdown",
   "metadata": {
    "ExecuteTime": {
     "end_time": "2020-11-25T13:05:36.256630Z",
     "start_time": "2020-11-25T13:05:36.236694Z"
    }
   },
   "source": [
    "## Word Vectorization"
   ]
  },
  {
   "cell_type": "code",
   "execution_count": 1,
   "metadata": {
    "ExecuteTime": {
     "end_time": "2020-12-02T18:50:40.495165Z",
     "start_time": "2020-12-02T18:50:25.257073Z"
    }
   },
   "outputs": [],
   "source": [
    "# Import count vectorizer\n",
    "\n",
    "from sklearn.feature_extraction.text import CountVectorizer"
   ]
  },
  {
   "cell_type": "code",
   "execution_count": 30,
   "metadata": {
    "ExecuteTime": {
     "end_time": "2020-11-27T21:43:33.875673Z",
     "start_time": "2020-11-27T21:43:07.823821Z"
    }
   },
   "outputs": [],
   "source": [
    "transformer = CountVectorizer(analyzer=removestop).fit(data['Sms'])"
   ]
  },
  {
   "cell_type": "code",
   "execution_count": 31,
   "metadata": {
    "ExecuteTime": {
     "end_time": "2020-11-27T21:43:34.031182Z",
     "start_time": "2020-11-27T21:43:34.010188Z"
    }
   },
   "outputs": [
    {
     "name": "stdout",
     "output_type": "stream",
     "text": [
      "9533\n"
     ]
    }
   ],
   "source": [
    "print(len(transformer.vocabulary_))"
   ]
  },
  {
   "cell_type": "code",
   "execution_count": 32,
   "metadata": {
    "ExecuteTime": {
     "end_time": "2020-11-27T21:43:59.298370Z",
     "start_time": "2020-11-27T21:43:34.146188Z"
    }
   },
   "outputs": [],
   "source": [
    "sms = transformer.transform(data['Sms'])"
   ]
  },
  {
   "cell_type": "code",
   "execution_count": 33,
   "metadata": {
    "ExecuteTime": {
     "end_time": "2020-11-27T21:43:59.423406Z",
     "start_time": "2020-11-27T21:43:59.410369Z"
    }
   },
   "outputs": [
    {
     "name": "stdout",
     "output_type": "stream",
     "text": [
      "(5572, 9533)\n"
     ]
    }
   ],
   "source": [
    "print(sms.shape)"
   ]
  },
  {
   "cell_type": "code",
   "execution_count": 34,
   "metadata": {
    "ExecuteTime": {
     "end_time": "2020-11-27T21:43:59.535364Z",
     "start_time": "2020-11-27T21:43:59.521368Z"
    }
   },
   "outputs": [
    {
     "data": {
      "text/plain": [
       "50108"
      ]
     },
     "execution_count": 34,
     "metadata": {},
     "output_type": "execute_result"
    }
   ],
   "source": [
    "sms.nnz"
   ]
  },
  {
   "cell_type": "markdown",
   "metadata": {},
   "source": [
    "## Term Weight and Normilization"
   ]
  },
  {
   "cell_type": "code",
   "execution_count": 2,
   "metadata": {
    "ExecuteTime": {
     "end_time": "2020-12-02T18:56:55.322372Z",
     "start_time": "2020-12-02T18:56:55.301373Z"
    }
   },
   "outputs": [],
   "source": [
    "from sklearn.feature_extraction.text import TfidfTransformer"
   ]
  },
  {
   "cell_type": "code",
   "execution_count": 36,
   "metadata": {
    "ExecuteTime": {
     "end_time": "2020-11-27T21:43:59.789368Z",
     "start_time": "2020-11-27T21:43:59.776372Z"
    }
   },
   "outputs": [],
   "source": [
    "tfidf_tran = TfidfTransformer().fit(sms)"
   ]
  },
  {
   "cell_type": "code",
   "execution_count": 37,
   "metadata": {
    "ExecuteTime": {
     "end_time": "2020-11-27T21:44:21.804338Z",
     "start_time": "2020-11-27T21:44:21.783338Z"
    }
   },
   "outputs": [],
   "source": [
    "sms_tfidf = tfidf_tran.transform(sms)"
   ]
  },
  {
   "cell_type": "code",
   "execution_count": 41,
   "metadata": {
    "ExecuteTime": {
     "end_time": "2020-11-27T21:46:05.270527Z",
     "start_time": "2020-11-27T21:46:05.247575Z"
    }
   },
   "outputs": [
    {
     "data": {
      "text/plain": [
       "(5572, 9533)"
      ]
     },
     "execution_count": 41,
     "metadata": {},
     "output_type": "execute_result"
    }
   ],
   "source": [
    "sms_tfidf.shape"
   ]
  },
  {
   "cell_type": "code",
   "execution_count": 42,
   "metadata": {
    "ExecuteTime": {
     "end_time": "2020-11-27T21:48:12.397484Z",
     "start_time": "2020-11-27T21:48:11.890995Z"
    }
   },
   "outputs": [],
   "source": [
    "data['Sms'] = sms_tfidf.toarray()"
   ]
  },
  {
   "cell_type": "code",
   "execution_count": 46,
   "metadata": {
    "ExecuteTime": {
     "end_time": "2020-11-27T21:52:07.948060Z",
     "start_time": "2020-11-27T21:52:07.917017Z"
    }
   },
   "outputs": [
    {
     "data": {
      "text/plain": [
       "<5572x9533 sparse matrix of type '<class 'numpy.float64'>'\n",
       "\twith 50108 stored elements in Compressed Sparse Row format>"
      ]
     },
     "execution_count": 46,
     "metadata": {},
     "output_type": "execute_result"
    }
   ],
   "source": [
    "sms_tfidf"
   ]
  },
  {
   "cell_type": "markdown",
   "metadata": {},
   "source": [
    "# Spliting the data"
   ]
  },
  {
   "cell_type": "code",
   "execution_count": 62,
   "metadata": {
    "ExecuteTime": {
     "end_time": "2020-11-27T22:10:57.161034Z",
     "start_time": "2020-11-27T22:10:56.092995Z"
    }
   },
   "outputs": [],
   "source": [
    "new = pd.concat([data.drop(['Value', 'Sms'], axis=1), pd.DataFrame(sms.toarray())], axis=1)"
   ]
  },
  {
   "cell_type": "code",
   "execution_count": 63,
   "metadata": {
    "ExecuteTime": {
     "end_time": "2020-11-27T22:11:00.234228Z",
     "start_time": "2020-11-27T22:11:00.200194Z"
    }
   },
   "outputs": [
    {
     "data": {
      "text/plain": [
       "(5572, 9538)"
      ]
     },
     "execution_count": 63,
     "metadata": {},
     "output_type": "execute_result"
    }
   ],
   "source": [
    "new.shape"
   ]
  },
  {
   "cell_type": "code",
   "execution_count": 68,
   "metadata": {
    "ExecuteTime": {
     "end_time": "2020-11-27T22:13:03.095287Z",
     "start_time": "2020-11-27T22:13:02.620229Z"
    }
   },
   "outputs": [],
   "source": [
    "from sklearn.model_selection import StratifiedShuffleSplit\n",
    "\n",
    "X = sms.toarray()\n",
    "y = data['Value'].values\n",
    "\n",
    "\n",
    "ss = StratifiedShuffleSplit(n_splits=1, test_size=0.25, random_state=10)\n",
    "\n",
    "for train_index, test_index in ss.split(X, y):\n",
    "    X_train, X_test = X[train_index], X[test_index]\n",
    "    y_train, y_test = y[train_index], y[test_index]"
   ]
  },
  {
   "cell_type": "code",
   "execution_count": 69,
   "metadata": {
    "ExecuteTime": {
     "end_time": "2020-11-27T22:13:05.705799Z",
     "start_time": "2020-11-27T22:13:05.680189Z"
    }
   },
   "outputs": [
    {
     "data": {
      "text/plain": [
       "(4179, 9533)"
      ]
     },
     "execution_count": 69,
     "metadata": {},
     "output_type": "execute_result"
    }
   ],
   "source": [
    "X_train.shape"
   ]
  },
  {
   "cell_type": "markdown",
   "metadata": {},
   "source": [
    "# Spam Model Classification and Evaluation"
   ]
  },
  {
   "cell_type": "code",
   "execution_count": 50,
   "metadata": {
    "ExecuteTime": {
     "end_time": "2020-11-27T21:53:18.329443Z",
     "start_time": "2020-11-27T21:53:16.315064Z"
    }
   },
   "outputs": [],
   "source": [
    "from sklearn.naive_bayes import MultinomialNB\n",
    "from sklearn.ensemble import RandomForestClassifier, VotingClassifier\n",
    "from xgboost import XGBClassifier\n",
    "from catboost import CatBoostClassifier\n",
    "from sklearn.linear_model import LogisticRegression\n",
    "from sklearn.pipeline import Pipeline\n",
    "\n",
    "\n",
    "from sklearn.metrics import classification_report, confusion_matrix, roc_auc_score, f1_score, accuracy_score\n",
    "from sklearn.metrics import precision_score, recall_score"
   ]
  },
  {
   "cell_type": "markdown",
   "metadata": {
    "ExecuteTime": {
     "end_time": "2020-11-25T14:00:16.663702Z",
     "start_time": "2020-11-25T14:00:16.643700Z"
    }
   },
   "source": [
    "## The evaluation metrics we would be focusing on the most are\n",
    "- Precision Score (Expecially)\n",
    "- F1 Score"
   ]
  },
  {
   "cell_type": "markdown",
   "metadata": {},
   "source": [
    "## Naive Bayes"
   ]
  },
  {
   "cell_type": "code",
   "execution_count": 51,
   "metadata": {
    "ExecuteTime": {
     "end_time": "2020-11-27T21:53:19.162167Z",
     "start_time": "2020-11-27T21:53:18.537049Z"
    }
   },
   "outputs": [
    {
     "ename": "AttributeError",
     "evalue": "'numpy.ndarray' object has no attribute 'split'",
     "output_type": "error",
     "traceback": [
      "\u001b[1;31m---------------------------------------------------------------------------\u001b[0m",
      "\u001b[1;31mAttributeError\u001b[0m                            Traceback (most recent call last)",
      "\u001b[1;32m<ipython-input-51-2d02c626fd8e>\u001b[0m in \u001b[0;36m<module>\u001b[1;34m\u001b[0m\n\u001b[0;32m      7\u001b[0m ])\n\u001b[0;32m      8\u001b[0m \u001b[1;33m\u001b[0m\u001b[0m\n\u001b[1;32m----> 9\u001b[1;33m \u001b[0mpipe\u001b[0m\u001b[1;33m.\u001b[0m\u001b[0mfit\u001b[0m\u001b[1;33m(\u001b[0m\u001b[0mX_train\u001b[0m\u001b[1;33m,\u001b[0m \u001b[0my_train\u001b[0m\u001b[1;33m)\u001b[0m\u001b[1;33m\u001b[0m\u001b[1;33m\u001b[0m\u001b[0m\n\u001b[0m\u001b[0;32m     10\u001b[0m \u001b[0mpred\u001b[0m \u001b[1;33m=\u001b[0m \u001b[0mpipe\u001b[0m\u001b[1;33m.\u001b[0m\u001b[0mpredict\u001b[0m\u001b[1;33m(\u001b[0m\u001b[0mX_test\u001b[0m\u001b[1;33m)\u001b[0m\u001b[1;33m\u001b[0m\u001b[1;33m\u001b[0m\u001b[0m\n",
      "\u001b[1;32m~\\anaconda3\\envs\\tf_gpu\\lib\\site-packages\\sklearn\\pipeline.py\u001b[0m in \u001b[0;36mfit\u001b[1;34m(self, X, y, **fit_params)\u001b[0m\n\u001b[0;32m    328\u001b[0m         \"\"\"\n\u001b[0;32m    329\u001b[0m         \u001b[0mfit_params_steps\u001b[0m \u001b[1;33m=\u001b[0m \u001b[0mself\u001b[0m\u001b[1;33m.\u001b[0m\u001b[0m_check_fit_params\u001b[0m\u001b[1;33m(\u001b[0m\u001b[1;33m**\u001b[0m\u001b[0mfit_params\u001b[0m\u001b[1;33m)\u001b[0m\u001b[1;33m\u001b[0m\u001b[1;33m\u001b[0m\u001b[0m\n\u001b[1;32m--> 330\u001b[1;33m         \u001b[0mXt\u001b[0m \u001b[1;33m=\u001b[0m \u001b[0mself\u001b[0m\u001b[1;33m.\u001b[0m\u001b[0m_fit\u001b[0m\u001b[1;33m(\u001b[0m\u001b[0mX\u001b[0m\u001b[1;33m,\u001b[0m \u001b[0my\u001b[0m\u001b[1;33m,\u001b[0m \u001b[1;33m**\u001b[0m\u001b[0mfit_params_steps\u001b[0m\u001b[1;33m)\u001b[0m\u001b[1;33m\u001b[0m\u001b[1;33m\u001b[0m\u001b[0m\n\u001b[0m\u001b[0;32m    331\u001b[0m         with _print_elapsed_time('Pipeline',\n\u001b[0;32m    332\u001b[0m                                  self._log_message(len(self.steps) - 1)):\n",
      "\u001b[1;32m~\\anaconda3\\envs\\tf_gpu\\lib\\site-packages\\sklearn\\pipeline.py\u001b[0m in \u001b[0;36m_fit\u001b[1;34m(self, X, y, **fit_params_steps)\u001b[0m\n\u001b[0;32m    294\u001b[0m                 \u001b[0mmessage_clsname\u001b[0m\u001b[1;33m=\u001b[0m\u001b[1;34m'Pipeline'\u001b[0m\u001b[1;33m,\u001b[0m\u001b[1;33m\u001b[0m\u001b[1;33m\u001b[0m\u001b[0m\n\u001b[0;32m    295\u001b[0m                 \u001b[0mmessage\u001b[0m\u001b[1;33m=\u001b[0m\u001b[0mself\u001b[0m\u001b[1;33m.\u001b[0m\u001b[0m_log_message\u001b[0m\u001b[1;33m(\u001b[0m\u001b[0mstep_idx\u001b[0m\u001b[1;33m)\u001b[0m\u001b[1;33m,\u001b[0m\u001b[1;33m\u001b[0m\u001b[1;33m\u001b[0m\u001b[0m\n\u001b[1;32m--> 296\u001b[1;33m                 **fit_params_steps[name])\n\u001b[0m\u001b[0;32m    297\u001b[0m             \u001b[1;31m# Replace the transformer of the step with the fitted\u001b[0m\u001b[1;33m\u001b[0m\u001b[1;33m\u001b[0m\u001b[1;33m\u001b[0m\u001b[0m\n\u001b[0;32m    298\u001b[0m             \u001b[1;31m# transformer. This is necessary when loading the transformer\u001b[0m\u001b[1;33m\u001b[0m\u001b[1;33m\u001b[0m\u001b[1;33m\u001b[0m\u001b[0m\n",
      "\u001b[1;32m~\\AppData\\Roaming\\Python\\Python37\\site-packages\\joblib\\memory.py\u001b[0m in \u001b[0;36m__call__\u001b[1;34m(self, *args, **kwargs)\u001b[0m\n\u001b[0;32m    353\u001b[0m \u001b[1;33m\u001b[0m\u001b[0m\n\u001b[0;32m    354\u001b[0m     \u001b[1;32mdef\u001b[0m \u001b[0m__call__\u001b[0m\u001b[1;33m(\u001b[0m\u001b[0mself\u001b[0m\u001b[1;33m,\u001b[0m \u001b[1;33m*\u001b[0m\u001b[0margs\u001b[0m\u001b[1;33m,\u001b[0m \u001b[1;33m**\u001b[0m\u001b[0mkwargs\u001b[0m\u001b[1;33m)\u001b[0m\u001b[1;33m:\u001b[0m\u001b[1;33m\u001b[0m\u001b[1;33m\u001b[0m\u001b[0m\n\u001b[1;32m--> 355\u001b[1;33m         \u001b[1;32mreturn\u001b[0m \u001b[0mself\u001b[0m\u001b[1;33m.\u001b[0m\u001b[0mfunc\u001b[0m\u001b[1;33m(\u001b[0m\u001b[1;33m*\u001b[0m\u001b[0margs\u001b[0m\u001b[1;33m,\u001b[0m \u001b[1;33m**\u001b[0m\u001b[0mkwargs\u001b[0m\u001b[1;33m)\u001b[0m\u001b[1;33m\u001b[0m\u001b[1;33m\u001b[0m\u001b[0m\n\u001b[0m\u001b[0;32m    356\u001b[0m \u001b[1;33m\u001b[0m\u001b[0m\n\u001b[0;32m    357\u001b[0m     \u001b[1;32mdef\u001b[0m \u001b[0mcall_and_shelve\u001b[0m\u001b[1;33m(\u001b[0m\u001b[0mself\u001b[0m\u001b[1;33m,\u001b[0m \u001b[1;33m*\u001b[0m\u001b[0margs\u001b[0m\u001b[1;33m,\u001b[0m \u001b[1;33m**\u001b[0m\u001b[0mkwargs\u001b[0m\u001b[1;33m)\u001b[0m\u001b[1;33m:\u001b[0m\u001b[1;33m\u001b[0m\u001b[1;33m\u001b[0m\u001b[0m\n",
      "\u001b[1;32m~\\anaconda3\\envs\\tf_gpu\\lib\\site-packages\\sklearn\\pipeline.py\u001b[0m in \u001b[0;36m_fit_transform_one\u001b[1;34m(transformer, X, y, weight, message_clsname, message, **fit_params)\u001b[0m\n\u001b[0;32m    738\u001b[0m     \u001b[1;32mwith\u001b[0m \u001b[0m_print_elapsed_time\u001b[0m\u001b[1;33m(\u001b[0m\u001b[0mmessage_clsname\u001b[0m\u001b[1;33m,\u001b[0m \u001b[0mmessage\u001b[0m\u001b[1;33m)\u001b[0m\u001b[1;33m:\u001b[0m\u001b[1;33m\u001b[0m\u001b[1;33m\u001b[0m\u001b[0m\n\u001b[0;32m    739\u001b[0m         \u001b[1;32mif\u001b[0m \u001b[0mhasattr\u001b[0m\u001b[1;33m(\u001b[0m\u001b[0mtransformer\u001b[0m\u001b[1;33m,\u001b[0m \u001b[1;34m'fit_transform'\u001b[0m\u001b[1;33m)\u001b[0m\u001b[1;33m:\u001b[0m\u001b[1;33m\u001b[0m\u001b[1;33m\u001b[0m\u001b[0m\n\u001b[1;32m--> 740\u001b[1;33m             \u001b[0mres\u001b[0m \u001b[1;33m=\u001b[0m \u001b[0mtransformer\u001b[0m\u001b[1;33m.\u001b[0m\u001b[0mfit_transform\u001b[0m\u001b[1;33m(\u001b[0m\u001b[0mX\u001b[0m\u001b[1;33m,\u001b[0m \u001b[0my\u001b[0m\u001b[1;33m,\u001b[0m \u001b[1;33m**\u001b[0m\u001b[0mfit_params\u001b[0m\u001b[1;33m)\u001b[0m\u001b[1;33m\u001b[0m\u001b[1;33m\u001b[0m\u001b[0m\n\u001b[0m\u001b[0;32m    741\u001b[0m         \u001b[1;32melse\u001b[0m\u001b[1;33m:\u001b[0m\u001b[1;33m\u001b[0m\u001b[1;33m\u001b[0m\u001b[0m\n\u001b[0;32m    742\u001b[0m             \u001b[0mres\u001b[0m \u001b[1;33m=\u001b[0m \u001b[0mtransformer\u001b[0m\u001b[1;33m.\u001b[0m\u001b[0mfit\u001b[0m\u001b[1;33m(\u001b[0m\u001b[0mX\u001b[0m\u001b[1;33m,\u001b[0m \u001b[0my\u001b[0m\u001b[1;33m,\u001b[0m \u001b[1;33m**\u001b[0m\u001b[0mfit_params\u001b[0m\u001b[1;33m)\u001b[0m\u001b[1;33m.\u001b[0m\u001b[0mtransform\u001b[0m\u001b[1;33m(\u001b[0m\u001b[0mX\u001b[0m\u001b[1;33m)\u001b[0m\u001b[1;33m\u001b[0m\u001b[1;33m\u001b[0m\u001b[0m\n",
      "\u001b[1;32m~\\anaconda3\\envs\\tf_gpu\\lib\\site-packages\\sklearn\\feature_extraction\\text.py\u001b[0m in \u001b[0;36mfit_transform\u001b[1;34m(self, raw_documents, y)\u001b[0m\n\u001b[0;32m   1197\u001b[0m \u001b[1;33m\u001b[0m\u001b[0m\n\u001b[0;32m   1198\u001b[0m         vocabulary, X = self._count_vocab(raw_documents,\n\u001b[1;32m-> 1199\u001b[1;33m                                           self.fixed_vocabulary_)\n\u001b[0m\u001b[0;32m   1200\u001b[0m \u001b[1;33m\u001b[0m\u001b[0m\n\u001b[0;32m   1201\u001b[0m         \u001b[1;32mif\u001b[0m \u001b[0mself\u001b[0m\u001b[1;33m.\u001b[0m\u001b[0mbinary\u001b[0m\u001b[1;33m:\u001b[0m\u001b[1;33m\u001b[0m\u001b[1;33m\u001b[0m\u001b[0m\n",
      "\u001b[1;32m~\\anaconda3\\envs\\tf_gpu\\lib\\site-packages\\sklearn\\feature_extraction\\text.py\u001b[0m in \u001b[0;36m_count_vocab\u001b[1;34m(self, raw_documents, fixed_vocab)\u001b[0m\n\u001b[0;32m   1108\u001b[0m         \u001b[1;32mfor\u001b[0m \u001b[0mdoc\u001b[0m \u001b[1;32min\u001b[0m \u001b[0mraw_documents\u001b[0m\u001b[1;33m:\u001b[0m\u001b[1;33m\u001b[0m\u001b[1;33m\u001b[0m\u001b[0m\n\u001b[0;32m   1109\u001b[0m             \u001b[0mfeature_counter\u001b[0m \u001b[1;33m=\u001b[0m \u001b[1;33m{\u001b[0m\u001b[1;33m}\u001b[0m\u001b[1;33m\u001b[0m\u001b[1;33m\u001b[0m\u001b[0m\n\u001b[1;32m-> 1110\u001b[1;33m             \u001b[1;32mfor\u001b[0m \u001b[0mfeature\u001b[0m \u001b[1;32min\u001b[0m \u001b[0manalyze\u001b[0m\u001b[1;33m(\u001b[0m\u001b[0mdoc\u001b[0m\u001b[1;33m)\u001b[0m\u001b[1;33m:\u001b[0m\u001b[1;33m\u001b[0m\u001b[1;33m\u001b[0m\u001b[0m\n\u001b[0m\u001b[0;32m   1111\u001b[0m                 \u001b[1;32mtry\u001b[0m\u001b[1;33m:\u001b[0m\u001b[1;33m\u001b[0m\u001b[1;33m\u001b[0m\u001b[0m\n\u001b[0;32m   1112\u001b[0m                     \u001b[0mfeature_idx\u001b[0m \u001b[1;33m=\u001b[0m \u001b[0mvocabulary\u001b[0m\u001b[1;33m[\u001b[0m\u001b[0mfeature\u001b[0m\u001b[1;33m]\u001b[0m\u001b[1;33m\u001b[0m\u001b[1;33m\u001b[0m\u001b[0m\n",
      "\u001b[1;32m~\\anaconda3\\envs\\tf_gpu\\lib\\site-packages\\sklearn\\feature_extraction\\text.py\u001b[0m in \u001b[0;36m_analyze\u001b[1;34m(doc, analyzer, tokenizer, ngrams, preprocessor, decoder, stop_words)\u001b[0m\n\u001b[0;32m     99\u001b[0m         \u001b[0mdoc\u001b[0m \u001b[1;33m=\u001b[0m \u001b[0mdecoder\u001b[0m\u001b[1;33m(\u001b[0m\u001b[0mdoc\u001b[0m\u001b[1;33m)\u001b[0m\u001b[1;33m\u001b[0m\u001b[1;33m\u001b[0m\u001b[0m\n\u001b[0;32m    100\u001b[0m     \u001b[1;32mif\u001b[0m \u001b[0manalyzer\u001b[0m \u001b[1;32mis\u001b[0m \u001b[1;32mnot\u001b[0m \u001b[1;32mNone\u001b[0m\u001b[1;33m:\u001b[0m\u001b[1;33m\u001b[0m\u001b[1;33m\u001b[0m\u001b[0m\n\u001b[1;32m--> 101\u001b[1;33m         \u001b[0mdoc\u001b[0m \u001b[1;33m=\u001b[0m \u001b[0manalyzer\u001b[0m\u001b[1;33m(\u001b[0m\u001b[0mdoc\u001b[0m\u001b[1;33m)\u001b[0m\u001b[1;33m\u001b[0m\u001b[1;33m\u001b[0m\u001b[0m\n\u001b[0m\u001b[0;32m    102\u001b[0m     \u001b[1;32melse\u001b[0m\u001b[1;33m:\u001b[0m\u001b[1;33m\u001b[0m\u001b[1;33m\u001b[0m\u001b[0m\n\u001b[0;32m    103\u001b[0m         \u001b[1;32mif\u001b[0m \u001b[0mpreprocessor\u001b[0m \u001b[1;32mis\u001b[0m \u001b[1;32mnot\u001b[0m \u001b[1;32mNone\u001b[0m\u001b[1;33m:\u001b[0m\u001b[1;33m\u001b[0m\u001b[1;33m\u001b[0m\u001b[0m\n",
      "\u001b[1;32m<ipython-input-27-236e9b3aa47a>\u001b[0m in \u001b[0;36mremovestop\u001b[1;34m(x)\u001b[0m\n\u001b[0;32m      5\u001b[0m \u001b[1;32mdef\u001b[0m \u001b[0mremovestop\u001b[0m\u001b[1;33m(\u001b[0m\u001b[0mx\u001b[0m\u001b[1;33m)\u001b[0m\u001b[1;33m:\u001b[0m\u001b[1;33m\u001b[0m\u001b[1;33m\u001b[0m\u001b[0m\n\u001b[0;32m      6\u001b[0m     sentence = [\n\u001b[1;32m----> 7\u001b[1;33m         word for word in x.split() if word not in stopwords.words('english')]\n\u001b[0m\u001b[0;32m      8\u001b[0m \u001b[1;33m\u001b[0m\u001b[0m\n\u001b[0;32m      9\u001b[0m     \u001b[1;32mreturn\u001b[0m \u001b[0msentence\u001b[0m\u001b[1;33m\u001b[0m\u001b[1;33m\u001b[0m\u001b[0m\n",
      "\u001b[1;31mAttributeError\u001b[0m: 'numpy.ndarray' object has no attribute 'split'"
     ]
    }
   ],
   "source": [
    "# creating a pipeline\n",
    "\n",
    "pipe = Pipeline([\n",
    "    ('bow', CountVectorizer(analyzer=removestop)),\n",
    "    ('tfidf', TfidfTransformer()),\n",
    "    ('model', MultinomialNB())\n",
    "])\n",
    "\n",
    "pipe.fit(X_train, y_train)\n",
    "pred = pipe.predict(X_test)"
   ]
  },
  {
   "cell_type": "code",
   "execution_count": null,
   "metadata": {
    "ExecuteTime": {
     "end_time": "2020-11-27T21:53:19.171160Z",
     "start_time": "2020-11-27T21:53:18.732Z"
    },
    "scrolled": false
   },
   "outputs": [],
   "source": [
    "print(classification_report(pred, y_test))\n",
    "print('\\n')\n",
    "print(sns.heatmap(confusion_matrix(pred, y_test), annot=True))"
   ]
  },
  {
   "cell_type": "code",
   "execution_count": 100,
   "metadata": {
    "ExecuteTime": {
     "end_time": "2020-11-25T14:55:34.574275Z",
     "start_time": "2020-11-25T14:55:34.502324Z"
    }
   },
   "outputs": [
    {
     "name": "stdout",
     "output_type": "stream",
     "text": [
      "0.7008928571428571\n",
      "1.0\n",
      "0.8241469816272965\n",
      "0.9778877887788779\n",
      "0.9599282296650717\n"
     ]
    }
   ],
   "source": [
    "print(precision_score(pred, y_test))\n",
    "print(recall_score(pred, y_test))\n",
    "print(f1_score(pred, y_test))\n",
    "print(roc_auc_score(pred, y_test))\n",
    "print(accuracy_score(pred, y_test))"
   ]
  },
  {
   "cell_type": "code",
   "execution_count": null,
   "metadata": {},
   "outputs": [],
   "source": []
  },
  {
   "cell_type": "markdown",
   "metadata": {},
   "source": [
    "## Random Forest"
   ]
  },
  {
   "cell_type": "code",
   "execution_count": 70,
   "metadata": {
    "ExecuteTime": {
     "end_time": "2020-11-27T22:14:24.155675Z",
     "start_time": "2020-11-27T22:13:17.061036Z"
    }
   },
   "outputs": [],
   "source": [
    "'''pipe2 = Pipeline([\n",
    "    ('bow', CountVectorizer(analyzer=removestop)),\n",
    "    ('tfidf', TfidfTransformer()),\n",
    "    ('model', RandomForestClassifier())\n",
    "])'''\n",
    "\n",
    "fr = RandomForestClassifier()\n",
    "fr.fit(X_train, y_train)\n",
    "pred2 = fr.predict(X_test)"
   ]
  },
  {
   "cell_type": "code",
   "execution_count": 71,
   "metadata": {
    "ExecuteTime": {
     "end_time": "2020-11-27T22:14:25.272421Z",
     "start_time": "2020-11-27T22:14:24.985153Z"
    }
   },
   "outputs": [
    {
     "name": "stdout",
     "output_type": "stream",
     "text": [
      "              precision    recall  f1-score   support\n",
      "\n",
      "         0.0       1.00      0.97      0.98      1242\n",
      "         1.0       0.80      0.99      0.89       151\n",
      "\n",
      "    accuracy                           0.97      1393\n",
      "   macro avg       0.90      0.98      0.94      1393\n",
      "weighted avg       0.98      0.97      0.97      1393\n",
      "\n",
      "\n",
      "\n",
      "AxesSubplot(0.125,0.125;0.62x0.755)\n"
     ]
    },
    {
     "data": {
      "image/png": "[encoded data removed]",
      "text/plain": [
       "<Figure size 432x288 with 2 Axes>"
      ]
     },
     "metadata": {
      "needs_background": "light"
     },
     "output_type": "display_data"
    }
   ],
   "source": [
    "print(classification_report(pred2, y_test))\n",
    "print('\\n')\n",
    "print(sns.heatmap(confusion_matrix(pred2, y_test), annot=True))"
   ]
  },
  {
   "cell_type": "code",
   "execution_count": 72,
   "metadata": {
    "ExecuteTime": {
     "end_time": "2020-11-27T22:14:26.174761Z",
     "start_time": "2020-11-27T22:14:26.143985Z"
    }
   },
   "outputs": [
    {
     "name": "stdout",
     "output_type": "stream",
     "text": [
      "0.8021390374331551\n",
      "0.9933774834437086\n",
      "0.8875739644970415\n",
      "0.9817934116091329\n",
      "0.9727207465900933\n"
     ]
    }
   ],
   "source": [
    "print(precision_score(pred2, y_test))\n",
    "print(recall_score(pred2, y_test))\n",
    "print(f1_score(pred2, y_test))\n",
    "print(roc_auc_score(pred2, y_test))\n",
    "print(accuracy_score(pred2, y_test))"
   ]
  },
  {
   "cell_type": "markdown",
   "metadata": {},
   "source": [
    "## XGBOOST"
   ]
  },
  {
   "cell_type": "code",
   "execution_count": 104,
   "metadata": {
    "ExecuteTime": {
     "end_time": "2020-11-25T15:01:33.302017Z",
     "start_time": "2020-11-25T15:00:55.892193Z"
    }
   },
   "outputs": [],
   "source": [
    "pipe3 = Pipeline([\n",
    "    ('bow', CountVectorizer(analyzer=removestop)),\n",
    "    ('tfidf', TfidfTransformer()),\n",
    "    ('model', XGBClassifier())\n",
    "])\n",
    "\n",
    "pipe3.fit(X_train, y_train)\n",
    "pred3 = pipe3.predict(X_test)"
   ]
  },
  {
   "cell_type": "code",
   "execution_count": 105,
   "metadata": {
    "ExecuteTime": {
     "end_time": "2020-11-25T15:01:37.417048Z",
     "start_time": "2020-11-25T15:01:37.121016Z"
    }
   },
   "outputs": [
    {
     "name": "stdout",
     "output_type": "stream",
     "text": [
      "              precision    recall  f1-score   support\n",
      "\n",
      "         0.0       1.00      0.95      0.98      1511\n",
      "         1.0       0.70      0.97      0.81       161\n",
      "\n",
      "    accuracy                           0.96      1672\n",
      "   macro avg       0.85      0.96      0.89      1672\n",
      "weighted avg       0.97      0.96      0.96      1672\n",
      "\n",
      "\n",
      "\n",
      "AxesSubplot(0.125,0.125;0.62x0.755)\n"
     ]
    },
    {
     "data": {
      "image/png": "[encoded data removed]",
      "text/plain": [
       "<Figure size 432x288 with 2 Axes>"
      ]
     },
     "metadata": {
      "needs_background": "light"
     },
     "output_type": "display_data"
    }
   ],
   "source": [
    "print(classification_report(pred3, y_test))\n",
    "print('\\n')\n",
    "print(sns.heatmap(confusion_matrix(pred3, y_test), annot=True))"
   ]
  },
  {
   "cell_type": "code",
   "execution_count": 106,
   "metadata": {
    "ExecuteTime": {
     "end_time": "2020-11-25T15:02:03.825029Z",
     "start_time": "2020-11-25T15:02:03.753056Z"
    }
   },
   "outputs": [
    {
     "name": "stdout",
     "output_type": "stream",
     "text": [
      "0.6964285714285714\n",
      "0.968944099378882\n",
      "0.8103896103896104\n",
      "0.9619703951560195\n",
      "0.9563397129186603\n"
     ]
    }
   ],
   "source": [
    "print(precision_score(pred3, y_test))\n",
    "print(recall_score(pred3, y_test))\n",
    "print(f1_score(pred3, y_test))\n",
    "print(roc_auc_score(pred3, y_test))\n",
    "print(accuracy_score(pred3, y_test))"
   ]
  },
  {
   "cell_type": "markdown",
   "metadata": {},
   "source": [
    "## CATBOOST"
   ]
  },
  {
   "cell_type": "code",
   "execution_count": 107,
   "metadata": {
    "ExecuteTime": {
     "end_time": "2020-11-25T15:05:11.015023Z",
     "start_time": "2020-11-25T15:03:36.020869Z"
    }
   },
   "outputs": [
    {
     "name": "stdout",
     "output_type": "stream",
     "text": [
      "Learning rate set to 0.018421\n",
      "0:\tlearn: 0.6716252\ttotal: 419ms\tremaining: 6m 58s\n",
      "1:\tlearn: 0.6522901\ttotal: 554ms\tremaining: 4m 36s\n",
      "2:\tlearn: 0.6338651\ttotal: 660ms\tremaining: 3m 39s\n",
      "3:\tlearn: 0.6148387\ttotal: 725ms\tremaining: 3m\n",
      "4:\tlearn: 0.5975736\ttotal: 792ms\tremaining: 2m 37s\n",
      "5:\tlearn: 0.5806089\ttotal: 874ms\tremaining: 2m 24s\n",
      "6:\tlearn: 0.5650633\ttotal: 971ms\tremaining: 2m 17s\n",
      "7:\tlearn: 0.5522930\ttotal: 1.06s\tremaining: 2m 12s\n",
      "8:\tlearn: 0.5365920\ttotal: 1.14s\tremaining: 2m 5s\n",
      "9:\tlearn: 0.5229512\ttotal: 1.19s\tremaining: 1m 58s\n",
      "10:\tlearn: 0.5085093\ttotal: 1.25s\tremaining: 1m 51s\n",
      "11:\tlearn: 0.4952371\ttotal: 1.31s\tremaining: 1m 47s\n",
      "12:\tlearn: 0.4827996\ttotal: 1.36s\tremaining: 1m 43s\n",
      "13:\tlearn: 0.4716140\ttotal: 1.42s\tremaining: 1m 39s\n",
      "14:\tlearn: 0.4600522\ttotal: 1.47s\tremaining: 1m 36s\n",
      "15:\tlearn: 0.4493820\ttotal: 1.53s\tremaining: 1m 33s\n",
      "16:\tlearn: 0.4400573\ttotal: 1.58s\tremaining: 1m 31s\n",
      "17:\tlearn: 0.4313504\ttotal: 1.63s\tremaining: 1m 28s\n",
      "18:\tlearn: 0.4213591\ttotal: 1.68s\tremaining: 1m 26s\n",
      "19:\tlearn: 0.4132769\ttotal: 1.74s\tremaining: 1m 25s\n",
      "20:\tlearn: 0.4035875\ttotal: 1.79s\tremaining: 1m 23s\n",
      "21:\tlearn: 0.3955993\ttotal: 1.85s\tremaining: 1m 22s\n",
      "22:\tlearn: 0.3868418\ttotal: 1.92s\tremaining: 1m 21s\n",
      "23:\tlearn: 0.3779452\ttotal: 1.98s\tremaining: 1m 20s\n",
      "24:\tlearn: 0.3699163\ttotal: 2.03s\tremaining: 1m 19s\n",
      "25:\tlearn: 0.3619878\ttotal: 2.09s\tremaining: 1m 18s\n",
      "26:\tlearn: 0.3550654\ttotal: 2.16s\tremaining: 1m 17s\n",
      "27:\tlearn: 0.3480554\ttotal: 2.21s\tremaining: 1m 16s\n",
      "28:\tlearn: 0.3421012\ttotal: 2.27s\tremaining: 1m 15s\n",
      "29:\tlearn: 0.3361238\ttotal: 2.33s\tremaining: 1m 15s\n",
      "30:\tlearn: 0.3313556\ttotal: 2.39s\tremaining: 1m 14s\n",
      "31:\tlearn: 0.3262677\ttotal: 2.45s\tremaining: 1m 14s\n",
      "32:\tlearn: 0.3205300\ttotal: 2.5s\tremaining: 1m 13s\n",
      "33:\tlearn: 0.3160646\ttotal: 2.55s\tremaining: 1m 12s\n",
      "34:\tlearn: 0.3118486\ttotal: 2.61s\tremaining: 1m 11s\n",
      "35:\tlearn: 0.3075450\ttotal: 2.66s\tremaining: 1m 11s\n",
      "36:\tlearn: 0.3031727\ttotal: 2.71s\tremaining: 1m 10s\n",
      "37:\tlearn: 0.2981882\ttotal: 2.77s\tremaining: 1m 10s\n",
      "38:\tlearn: 0.2944620\ttotal: 2.82s\tremaining: 1m 9s\n",
      "39:\tlearn: 0.2901206\ttotal: 2.87s\tremaining: 1m 8s\n",
      "40:\tlearn: 0.2865395\ttotal: 2.93s\tremaining: 1m 8s\n",
      "41:\tlearn: 0.2832922\ttotal: 2.98s\tremaining: 1m 8s\n",
      "42:\tlearn: 0.2798027\ttotal: 3.05s\tremaining: 1m 7s\n",
      "43:\tlearn: 0.2761460\ttotal: 3.1s\tremaining: 1m 7s\n",
      "44:\tlearn: 0.2723435\ttotal: 3.15s\tremaining: 1m 6s\n",
      "45:\tlearn: 0.2693805\ttotal: 3.2s\tremaining: 1m 6s\n",
      "46:\tlearn: 0.2660761\ttotal: 3.26s\tremaining: 1m 6s\n",
      "47:\tlearn: 0.2632463\ttotal: 3.31s\tremaining: 1m 5s\n",
      "48:\tlearn: 0.2601784\ttotal: 3.36s\tremaining: 1m 5s\n",
      "49:\tlearn: 0.2574760\ttotal: 3.41s\tremaining: 1m 4s\n",
      "50:\tlearn: 0.2549331\ttotal: 3.48s\tremaining: 1m 4s\n",
      "51:\tlearn: 0.2519251\ttotal: 3.53s\tremaining: 1m 4s\n",
      "52:\tlearn: 0.2497044\ttotal: 3.58s\tremaining: 1m 3s\n",
      "53:\tlearn: 0.2470700\ttotal: 3.65s\tremaining: 1m 3s\n",
      "54:\tlearn: 0.2448846\ttotal: 3.7s\tremaining: 1m 3s\n",
      "55:\tlearn: 0.2423527\ttotal: 3.75s\tremaining: 1m 3s\n",
      "56:\tlearn: 0.2400588\ttotal: 3.8s\tremaining: 1m 2s\n",
      "57:\tlearn: 0.2381852\ttotal: 3.86s\tremaining: 1m 2s\n",
      "58:\tlearn: 0.2365337\ttotal: 3.93s\tremaining: 1m 2s\n",
      "59:\tlearn: 0.2345250\ttotal: 3.99s\tremaining: 1m 2s\n",
      "60:\tlearn: 0.2322710\ttotal: 4.06s\tremaining: 1m 2s\n",
      "61:\tlearn: 0.2299170\ttotal: 4.12s\tremaining: 1m 2s\n",
      "62:\tlearn: 0.2282675\ttotal: 4.17s\tremaining: 1m 2s\n",
      "63:\tlearn: 0.2264817\ttotal: 4.22s\tremaining: 1m 1s\n",
      "64:\tlearn: 0.2248591\ttotal: 4.28s\tremaining: 1m 1s\n",
      "65:\tlearn: 0.2228836\ttotal: 4.33s\tremaining: 1m 1s\n",
      "66:\tlearn: 0.2215764\ttotal: 4.38s\tremaining: 1m 1s\n",
      "67:\tlearn: 0.2202720\ttotal: 4.44s\tremaining: 1m\n",
      "68:\tlearn: 0.2186353\ttotal: 4.49s\tremaining: 1m\n",
      "69:\tlearn: 0.2166722\ttotal: 4.55s\tremaining: 1m\n",
      "70:\tlearn: 0.2146390\ttotal: 4.6s\tremaining: 1m\n",
      "71:\tlearn: 0.2129601\ttotal: 4.65s\tremaining: 60s\n",
      "72:\tlearn: 0.2118491\ttotal: 4.71s\tremaining: 59.8s\n",
      "73:\tlearn: 0.2103642\ttotal: 4.77s\tremaining: 59.7s\n",
      "74:\tlearn: 0.2086793\ttotal: 4.82s\tremaining: 59.4s\n",
      "75:\tlearn: 0.2074642\ttotal: 4.87s\tremaining: 59.2s\n",
      "76:\tlearn: 0.2058944\ttotal: 4.92s\tremaining: 59s\n",
      "77:\tlearn: 0.2046427\ttotal: 4.98s\tremaining: 58.9s\n",
      "78:\tlearn: 0.2036346\ttotal: 5.04s\tremaining: 58.7s\n",
      "79:\tlearn: 0.2021439\ttotal: 5.08s\tremaining: 58.5s\n",
      "80:\tlearn: 0.2009905\ttotal: 5.14s\tremaining: 58.3s\n",
      "81:\tlearn: 0.1994922\ttotal: 5.2s\tremaining: 58.2s\n",
      "82:\tlearn: 0.1982046\ttotal: 5.25s\tremaining: 58s\n",
      "83:\tlearn: 0.1967367\ttotal: 5.3s\tremaining: 57.8s\n",
      "84:\tlearn: 0.1957304\ttotal: 5.36s\tremaining: 57.7s\n",
      "85:\tlearn: 0.1943360\ttotal: 5.43s\tremaining: 57.7s\n",
      "86:\tlearn: 0.1932433\ttotal: 5.49s\tremaining: 57.6s\n",
      "87:\tlearn: 0.1923534\ttotal: 5.57s\tremaining: 57.7s\n",
      "88:\tlearn: 0.1911166\ttotal: 5.63s\tremaining: 57.6s\n",
      "89:\tlearn: 0.1903156\ttotal: 5.68s\tremaining: 57.4s\n",
      "90:\tlearn: 0.1894403\ttotal: 5.73s\tremaining: 57.2s\n",
      "91:\tlearn: 0.1885265\ttotal: 5.78s\tremaining: 57.1s\n",
      "92:\tlearn: 0.1874674\ttotal: 5.84s\tremaining: 57s\n",
      "93:\tlearn: 0.1865568\ttotal: 5.89s\tremaining: 56.8s\n",
      "94:\tlearn: 0.1853552\ttotal: 5.95s\tremaining: 56.6s\n",
      "95:\tlearn: 0.1842240\ttotal: 6s\tremaining: 56.5s\n",
      "96:\tlearn: 0.1831544\ttotal: 6.06s\tremaining: 56.4s\n",
      "97:\tlearn: 0.1820895\ttotal: 6.11s\tremaining: 56.2s\n",
      "98:\tlearn: 0.1811787\ttotal: 6.16s\tremaining: 56.1s\n",
      "99:\tlearn: 0.1804314\ttotal: 6.21s\tremaining: 55.9s\n",
      "100:\tlearn: 0.1797886\ttotal: 6.28s\tremaining: 55.9s\n",
      "101:\tlearn: 0.1790204\ttotal: 6.35s\tremaining: 55.9s\n",
      "102:\tlearn: 0.1781492\ttotal: 6.41s\tremaining: 55.8s\n",
      "103:\tlearn: 0.1774260\ttotal: 6.47s\tremaining: 55.8s\n",
      "104:\tlearn: 0.1767693\ttotal: 6.53s\tremaining: 55.7s\n",
      "105:\tlearn: 0.1757752\ttotal: 6.59s\tremaining: 55.6s\n",
      "106:\tlearn: 0.1751060\ttotal: 6.65s\tremaining: 55.5s\n",
      "107:\tlearn: 0.1743430\ttotal: 6.72s\tremaining: 55.5s\n",
      "108:\tlearn: 0.1736977\ttotal: 6.78s\tremaining: 55.4s\n",
      "109:\tlearn: 0.1730533\ttotal: 6.83s\tremaining: 55.3s\n",
      "110:\tlearn: 0.1724048\ttotal: 6.9s\tremaining: 55.2s\n",
      "111:\tlearn: 0.1716080\ttotal: 6.96s\tremaining: 55.2s\n",
      "112:\tlearn: 0.1708038\ttotal: 7.03s\tremaining: 55.2s\n",
      "113:\tlearn: 0.1701232\ttotal: 7.1s\tremaining: 55.2s\n",
      "114:\tlearn: 0.1694419\ttotal: 7.16s\tremaining: 55.1s\n",
      "115:\tlearn: 0.1687181\ttotal: 7.22s\tremaining: 55s\n",
      "116:\tlearn: 0.1681605\ttotal: 7.28s\tremaining: 54.9s\n",
      "117:\tlearn: 0.1675833\ttotal: 7.34s\tremaining: 54.9s\n",
      "118:\tlearn: 0.1669020\ttotal: 7.42s\tremaining: 54.9s\n",
      "119:\tlearn: 0.1662812\ttotal: 7.49s\tremaining: 54.9s\n",
      "120:\tlearn: 0.1655302\ttotal: 7.55s\tremaining: 54.8s\n",
      "121:\tlearn: 0.1646994\ttotal: 7.6s\tremaining: 54.7s\n",
      "122:\tlearn: 0.1640189\ttotal: 7.67s\tremaining: 54.7s\n",
      "123:\tlearn: 0.1633857\ttotal: 7.73s\tremaining: 54.6s\n",
      "124:\tlearn: 0.1625978\ttotal: 7.78s\tremaining: 54.5s\n",
      "125:\tlearn: 0.1619560\ttotal: 7.84s\tremaining: 54.4s\n",
      "126:\tlearn: 0.1614209\ttotal: 7.9s\tremaining: 54.3s\n",
      "127:\tlearn: 0.1609210\ttotal: 7.95s\tremaining: 54.2s\n",
      "128:\tlearn: 0.1601959\ttotal: 8.01s\tremaining: 54.1s\n",
      "129:\tlearn: 0.1597568\ttotal: 8.07s\tremaining: 54s\n",
      "130:\tlearn: 0.1592356\ttotal: 8.12s\tremaining: 53.8s\n",
      "131:\tlearn: 0.1586428\ttotal: 8.17s\tremaining: 53.7s\n",
      "132:\tlearn: 0.1580143\ttotal: 8.22s\tremaining: 53.6s\n",
      "133:\tlearn: 0.1575657\ttotal: 8.28s\tremaining: 53.5s\n",
      "134:\tlearn: 0.1570347\ttotal: 8.33s\tremaining: 53.4s\n",
      "135:\tlearn: 0.1566279\ttotal: 8.38s\tremaining: 53.2s\n",
      "136:\tlearn: 0.1560502\ttotal: 8.44s\tremaining: 53.1s\n",
      "137:\tlearn: 0.1555957\ttotal: 8.49s\tremaining: 53s\n",
      "138:\tlearn: 0.1551150\ttotal: 8.54s\tremaining: 52.9s\n",
      "139:\tlearn: 0.1547666\ttotal: 8.59s\tremaining: 52.8s\n",
      "140:\tlearn: 0.1541825\ttotal: 8.64s\tremaining: 52.7s\n",
      "141:\tlearn: 0.1536149\ttotal: 8.7s\tremaining: 52.6s\n",
      "142:\tlearn: 0.1529771\ttotal: 8.75s\tremaining: 52.5s\n",
      "143:\tlearn: 0.1523582\ttotal: 8.8s\tremaining: 52.3s\n",
      "144:\tlearn: 0.1519711\ttotal: 8.86s\tremaining: 52.3s\n",
      "145:\tlearn: 0.1514325\ttotal: 8.93s\tremaining: 52.3s\n",
      "146:\tlearn: 0.1510468\ttotal: 8.98s\tremaining: 52.1s\n",
      "147:\tlearn: 0.1507094\ttotal: 9.04s\tremaining: 52s\n",
      "148:\tlearn: 0.1503016\ttotal: 9.1s\tremaining: 51.9s\n",
      "149:\tlearn: 0.1497784\ttotal: 9.15s\tremaining: 51.9s\n",
      "150:\tlearn: 0.1493347\ttotal: 9.2s\tremaining: 51.8s\n",
      "151:\tlearn: 0.1489390\ttotal: 9.26s\tremaining: 51.6s\n",
      "152:\tlearn: 0.1483242\ttotal: 9.31s\tremaining: 51.6s\n",
      "153:\tlearn: 0.1479461\ttotal: 9.37s\tremaining: 51.5s\n",
      "154:\tlearn: 0.1475055\ttotal: 9.43s\tremaining: 51.4s\n",
      "155:\tlearn: 0.1471352\ttotal: 9.48s\tremaining: 51.3s\n",
      "156:\tlearn: 0.1467290\ttotal: 9.55s\tremaining: 51.3s\n",
      "157:\tlearn: 0.1462280\ttotal: 9.6s\tremaining: 51.2s\n",
      "158:\tlearn: 0.1459387\ttotal: 9.66s\tremaining: 51.1s\n",
      "159:\tlearn: 0.1455674\ttotal: 9.72s\tremaining: 51.1s\n"
     ]
    },
    {
     "name": "stdout",
     "output_type": "stream",
     "text": [
      "160:\tlearn: 0.1451741\ttotal: 9.79s\tremaining: 51s\n",
      "161:\tlearn: 0.1446185\ttotal: 9.86s\tremaining: 51s\n",
      "162:\tlearn: 0.1442772\ttotal: 9.93s\tremaining: 51s\n",
      "163:\tlearn: 0.1439165\ttotal: 9.98s\tremaining: 50.9s\n",
      "164:\tlearn: 0.1435626\ttotal: 10s\tremaining: 50.8s\n",
      "165:\tlearn: 0.1432902\ttotal: 10.1s\tremaining: 50.7s\n",
      "166:\tlearn: 0.1430523\ttotal: 10.1s\tremaining: 50.6s\n",
      "167:\tlearn: 0.1427139\ttotal: 10.2s\tremaining: 50.6s\n",
      "168:\tlearn: 0.1423887\ttotal: 10.3s\tremaining: 50.5s\n",
      "169:\tlearn: 0.1419396\ttotal: 10.3s\tremaining: 50.4s\n",
      "170:\tlearn: 0.1415166\ttotal: 10.4s\tremaining: 50.4s\n",
      "171:\tlearn: 0.1411924\ttotal: 10.4s\tremaining: 50.3s\n",
      "172:\tlearn: 0.1406010\ttotal: 10.5s\tremaining: 50.2s\n",
      "173:\tlearn: 0.1402490\ttotal: 10.6s\tremaining: 50.1s\n",
      "174:\tlearn: 0.1398593\ttotal: 10.6s\tremaining: 50s\n",
      "175:\tlearn: 0.1394238\ttotal: 10.7s\tremaining: 49.9s\n",
      "176:\tlearn: 0.1391744\ttotal: 10.7s\tremaining: 49.9s\n",
      "177:\tlearn: 0.1387105\ttotal: 10.8s\tremaining: 49.8s\n",
      "178:\tlearn: 0.1384373\ttotal: 10.8s\tremaining: 49.8s\n",
      "179:\tlearn: 0.1379548\ttotal: 10.9s\tremaining: 49.7s\n",
      "180:\tlearn: 0.1376299\ttotal: 11s\tremaining: 49.6s\n",
      "181:\tlearn: 0.1374011\ttotal: 11s\tremaining: 49.5s\n",
      "182:\tlearn: 0.1370590\ttotal: 11.1s\tremaining: 49.5s\n",
      "183:\tlearn: 0.1368161\ttotal: 11.1s\tremaining: 49.4s\n",
      "184:\tlearn: 0.1365460\ttotal: 11.2s\tremaining: 49.3s\n",
      "185:\tlearn: 0.1361049\ttotal: 11.2s\tremaining: 49.2s\n",
      "186:\tlearn: 0.1357774\ttotal: 11.3s\tremaining: 49.1s\n",
      "187:\tlearn: 0.1354505\ttotal: 11.4s\tremaining: 49s\n",
      "188:\tlearn: 0.1350817\ttotal: 11.4s\tremaining: 48.9s\n",
      "189:\tlearn: 0.1348278\ttotal: 11.5s\tremaining: 48.8s\n",
      "190:\tlearn: 0.1346377\ttotal: 11.5s\tremaining: 48.8s\n",
      "191:\tlearn: 0.1343552\ttotal: 11.6s\tremaining: 48.7s\n",
      "192:\tlearn: 0.1340458\ttotal: 11.6s\tremaining: 48.6s\n",
      "193:\tlearn: 0.1337168\ttotal: 11.7s\tremaining: 48.5s\n",
      "194:\tlearn: 0.1335435\ttotal: 11.7s\tremaining: 48.5s\n",
      "195:\tlearn: 0.1333378\ttotal: 11.8s\tremaining: 48.4s\n",
      "196:\tlearn: 0.1330625\ttotal: 11.8s\tremaining: 48.3s\n",
      "197:\tlearn: 0.1328409\ttotal: 11.9s\tremaining: 48.2s\n",
      "198:\tlearn: 0.1325609\ttotal: 12s\tremaining: 48.2s\n",
      "199:\tlearn: 0.1322182\ttotal: 12s\tremaining: 48.2s\n",
      "200:\tlearn: 0.1318936\ttotal: 12.1s\tremaining: 48.1s\n",
      "201:\tlearn: 0.1316938\ttotal: 12.1s\tremaining: 48s\n",
      "202:\tlearn: 0.1314460\ttotal: 12.2s\tremaining: 47.9s\n",
      "203:\tlearn: 0.1311921\ttotal: 12.3s\tremaining: 47.8s\n",
      "204:\tlearn: 0.1308881\ttotal: 12.3s\tremaining: 47.7s\n",
      "205:\tlearn: 0.1305552\ttotal: 12.4s\tremaining: 47.6s\n",
      "206:\tlearn: 0.1303097\ttotal: 12.4s\tremaining: 47.5s\n",
      "207:\tlearn: 0.1299349\ttotal: 12.5s\tremaining: 47.5s\n",
      "208:\tlearn: 0.1296482\ttotal: 12.5s\tremaining: 47.4s\n",
      "209:\tlearn: 0.1294422\ttotal: 12.6s\tremaining: 47.3s\n",
      "210:\tlearn: 0.1292481\ttotal: 12.6s\tremaining: 47.2s\n",
      "211:\tlearn: 0.1289908\ttotal: 12.7s\tremaining: 47.2s\n",
      "212:\tlearn: 0.1288719\ttotal: 12.7s\tremaining: 47.1s\n",
      "213:\tlearn: 0.1285150\ttotal: 12.8s\tremaining: 47s\n",
      "214:\tlearn: 0.1282117\ttotal: 12.9s\tremaining: 46.9s\n",
      "215:\tlearn: 0.1279514\ttotal: 12.9s\tremaining: 46.9s\n",
      "216:\tlearn: 0.1278131\ttotal: 13s\tremaining: 46.8s\n",
      "217:\tlearn: 0.1277056\ttotal: 13s\tremaining: 46.7s\n",
      "218:\tlearn: 0.1273110\ttotal: 13.1s\tremaining: 46.6s\n",
      "219:\tlearn: 0.1270187\ttotal: 13.1s\tremaining: 46.6s\n",
      "220:\tlearn: 0.1267711\ttotal: 13.2s\tremaining: 46.5s\n",
      "221:\tlearn: 0.1266417\ttotal: 13.2s\tremaining: 46.4s\n",
      "222:\tlearn: 0.1263099\ttotal: 13.3s\tremaining: 46.3s\n",
      "223:\tlearn: 0.1260717\ttotal: 13.4s\tremaining: 46.3s\n",
      "224:\tlearn: 0.1258149\ttotal: 13.4s\tremaining: 46.2s\n",
      "225:\tlearn: 0.1255250\ttotal: 13.5s\tremaining: 46.1s\n",
      "226:\tlearn: 0.1253382\ttotal: 13.5s\tremaining: 46.1s\n",
      "227:\tlearn: 0.1252155\ttotal: 13.6s\tremaining: 46s\n",
      "228:\tlearn: 0.1249499\ttotal: 13.6s\tremaining: 45.9s\n",
      "229:\tlearn: 0.1248503\ttotal: 13.7s\tremaining: 45.9s\n",
      "230:\tlearn: 0.1245274\ttotal: 13.8s\tremaining: 45.8s\n",
      "231:\tlearn: 0.1243013\ttotal: 13.8s\tremaining: 45.7s\n",
      "232:\tlearn: 0.1241152\ttotal: 13.9s\tremaining: 45.7s\n",
      "233:\tlearn: 0.1238923\ttotal: 13.9s\tremaining: 45.6s\n",
      "234:\tlearn: 0.1236613\ttotal: 14s\tremaining: 45.5s\n",
      "235:\tlearn: 0.1235349\ttotal: 14s\tremaining: 45.4s\n",
      "236:\tlearn: 0.1231600\ttotal: 14.1s\tremaining: 45.4s\n",
      "237:\tlearn: 0.1229984\ttotal: 14.1s\tremaining: 45.3s\n",
      "238:\tlearn: 0.1227556\ttotal: 14.2s\tremaining: 45.2s\n",
      "239:\tlearn: 0.1226430\ttotal: 14.3s\tremaining: 45.2s\n",
      "240:\tlearn: 0.1225075\ttotal: 14.3s\tremaining: 45.1s\n",
      "241:\tlearn: 0.1224032\ttotal: 14.4s\tremaining: 45s\n",
      "242:\tlearn: 0.1221918\ttotal: 14.4s\tremaining: 45s\n",
      "243:\tlearn: 0.1220969\ttotal: 14.5s\tremaining: 44.9s\n",
      "244:\tlearn: 0.1219558\ttotal: 14.5s\tremaining: 44.8s\n",
      "245:\tlearn: 0.1217787\ttotal: 14.6s\tremaining: 44.7s\n",
      "246:\tlearn: 0.1216676\ttotal: 14.6s\tremaining: 44.6s\n",
      "247:\tlearn: 0.1213883\ttotal: 14.7s\tremaining: 44.6s\n",
      "248:\tlearn: 0.1211586\ttotal: 14.7s\tremaining: 44.5s\n",
      "249:\tlearn: 0.1209079\ttotal: 14.8s\tremaining: 44.4s\n",
      "250:\tlearn: 0.1207187\ttotal: 14.9s\tremaining: 44.3s\n",
      "251:\tlearn: 0.1205677\ttotal: 14.9s\tremaining: 44.3s\n",
      "252:\tlearn: 0.1202052\ttotal: 15s\tremaining: 44.2s\n",
      "253:\tlearn: 0.1199957\ttotal: 15s\tremaining: 44.1s\n",
      "254:\tlearn: 0.1198936\ttotal: 15.1s\tremaining: 44.1s\n",
      "255:\tlearn: 0.1197552\ttotal: 15.1s\tremaining: 44s\n",
      "256:\tlearn: 0.1194698\ttotal: 15.2s\tremaining: 43.9s\n",
      "257:\tlearn: 0.1192849\ttotal: 15.2s\tremaining: 43.8s\n",
      "258:\tlearn: 0.1191282\ttotal: 15.3s\tremaining: 43.8s\n",
      "259:\tlearn: 0.1188801\ttotal: 15.4s\tremaining: 43.7s\n",
      "260:\tlearn: 0.1188005\ttotal: 15.4s\tremaining: 43.6s\n",
      "261:\tlearn: 0.1185945\ttotal: 15.5s\tremaining: 43.6s\n",
      "262:\tlearn: 0.1185522\ttotal: 15.5s\tremaining: 43.5s\n",
      "263:\tlearn: 0.1184877\ttotal: 15.6s\tremaining: 43.4s\n",
      "264:\tlearn: 0.1183181\ttotal: 15.6s\tremaining: 43.4s\n",
      "265:\tlearn: 0.1181206\ttotal: 15.7s\tremaining: 43.3s\n",
      "266:\tlearn: 0.1180384\ttotal: 15.7s\tremaining: 43.2s\n",
      "267:\tlearn: 0.1179616\ttotal: 15.8s\tremaining: 43.2s\n",
      "268:\tlearn: 0.1177761\ttotal: 15.8s\tremaining: 43.1s\n",
      "269:\tlearn: 0.1176398\ttotal: 15.9s\tremaining: 43s\n",
      "270:\tlearn: 0.1175928\ttotal: 16s\tremaining: 42.9s\n",
      "271:\tlearn: 0.1173866\ttotal: 16s\tremaining: 42.9s\n",
      "272:\tlearn: 0.1173240\ttotal: 16.1s\tremaining: 42.8s\n",
      "273:\tlearn: 0.1172140\ttotal: 16.1s\tremaining: 42.7s\n",
      "274:\tlearn: 0.1170097\ttotal: 16.2s\tremaining: 42.6s\n",
      "275:\tlearn: 0.1169347\ttotal: 16.2s\tremaining: 42.6s\n",
      "276:\tlearn: 0.1168265\ttotal: 16.3s\tremaining: 42.5s\n",
      "277:\tlearn: 0.1167017\ttotal: 16.3s\tremaining: 42.4s\n",
      "278:\tlearn: 0.1165845\ttotal: 16.4s\tremaining: 42.4s\n",
      "279:\tlearn: 0.1164826\ttotal: 16.4s\tremaining: 42.3s\n",
      "280:\tlearn: 0.1164096\ttotal: 16.5s\tremaining: 42.2s\n",
      "281:\tlearn: 0.1162764\ttotal: 16.6s\tremaining: 42.1s\n",
      "282:\tlearn: 0.1160221\ttotal: 16.6s\tremaining: 42.1s\n",
      "283:\tlearn: 0.1157599\ttotal: 16.7s\tremaining: 42s\n",
      "284:\tlearn: 0.1155633\ttotal: 16.7s\tremaining: 41.9s\n",
      "285:\tlearn: 0.1154031\ttotal: 16.8s\tremaining: 41.9s\n",
      "286:\tlearn: 0.1151794\ttotal: 16.8s\tremaining: 41.8s\n",
      "287:\tlearn: 0.1149734\ttotal: 16.9s\tremaining: 41.8s\n",
      "288:\tlearn: 0.1148679\ttotal: 16.9s\tremaining: 41.7s\n",
      "289:\tlearn: 0.1145853\ttotal: 17s\tremaining: 41.6s\n",
      "290:\tlearn: 0.1144579\ttotal: 17.1s\tremaining: 41.6s\n",
      "291:\tlearn: 0.1143392\ttotal: 17.1s\tremaining: 41.5s\n",
      "292:\tlearn: 0.1142147\ttotal: 17.2s\tremaining: 41.4s\n",
      "293:\tlearn: 0.1140219\ttotal: 17.2s\tremaining: 41.3s\n",
      "294:\tlearn: 0.1138823\ttotal: 17.3s\tremaining: 41.3s\n",
      "295:\tlearn: 0.1138048\ttotal: 17.3s\tremaining: 41.2s\n",
      "296:\tlearn: 0.1135729\ttotal: 17.4s\tremaining: 41.1s\n",
      "297:\tlearn: 0.1135094\ttotal: 17.4s\tremaining: 41.1s\n",
      "298:\tlearn: 0.1133658\ttotal: 17.5s\tremaining: 41s\n",
      "299:\tlearn: 0.1131418\ttotal: 17.5s\tremaining: 40.9s\n",
      "300:\tlearn: 0.1129594\ttotal: 17.6s\tremaining: 40.8s\n",
      "301:\tlearn: 0.1126788\ttotal: 17.6s\tremaining: 40.8s\n",
      "302:\tlearn: 0.1124812\ttotal: 17.7s\tremaining: 40.7s\n",
      "303:\tlearn: 0.1122626\ttotal: 17.8s\tremaining: 40.6s\n",
      "304:\tlearn: 0.1121434\ttotal: 17.8s\tremaining: 40.6s\n",
      "305:\tlearn: 0.1120525\ttotal: 17.9s\tremaining: 40.5s\n",
      "306:\tlearn: 0.1119818\ttotal: 17.9s\tremaining: 40.5s\n",
      "307:\tlearn: 0.1117448\ttotal: 18s\tremaining: 40.4s\n",
      "308:\tlearn: 0.1115491\ttotal: 18s\tremaining: 40.3s\n",
      "309:\tlearn: 0.1114885\ttotal: 18.1s\tremaining: 40.3s\n",
      "310:\tlearn: 0.1112924\ttotal: 18.1s\tremaining: 40.2s\n",
      "311:\tlearn: 0.1111189\ttotal: 18.2s\tremaining: 40.1s\n",
      "312:\tlearn: 0.1109089\ttotal: 18.2s\tremaining: 40s\n",
      "313:\tlearn: 0.1108028\ttotal: 18.3s\tremaining: 40s\n",
      "314:\tlearn: 0.1106083\ttotal: 18.4s\tremaining: 39.9s\n",
      "315:\tlearn: 0.1104772\ttotal: 18.4s\tremaining: 39.9s\n",
      "316:\tlearn: 0.1103889\ttotal: 18.5s\tremaining: 39.8s\n",
      "317:\tlearn: 0.1102360\ttotal: 18.5s\tremaining: 39.7s\n",
      "318:\tlearn: 0.1101548\ttotal: 18.6s\tremaining: 39.6s\n",
      "319:\tlearn: 0.1099922\ttotal: 18.6s\tremaining: 39.6s\n",
      "320:\tlearn: 0.1099399\ttotal: 18.7s\tremaining: 39.5s\n",
      "321:\tlearn: 0.1098422\ttotal: 18.7s\tremaining: 39.4s\n"
     ]
    },
    {
     "name": "stdout",
     "output_type": "stream",
     "text": [
      "322:\tlearn: 0.1097761\ttotal: 18.8s\tremaining: 39.4s\n",
      "323:\tlearn: 0.1095708\ttotal: 18.8s\tremaining: 39.3s\n",
      "324:\tlearn: 0.1094492\ttotal: 18.9s\tremaining: 39.2s\n",
      "325:\tlearn: 0.1092638\ttotal: 19s\tremaining: 39.2s\n",
      "326:\tlearn: 0.1090295\ttotal: 19s\tremaining: 39.1s\n",
      "327:\tlearn: 0.1089116\ttotal: 19.1s\tremaining: 39.1s\n",
      "328:\tlearn: 0.1087021\ttotal: 19.1s\tremaining: 39s\n",
      "329:\tlearn: 0.1086421\ttotal: 19.2s\tremaining: 38.9s\n",
      "330:\tlearn: 0.1085660\ttotal: 19.2s\tremaining: 38.9s\n",
      "331:\tlearn: 0.1085090\ttotal: 19.3s\tremaining: 38.8s\n",
      "332:\tlearn: 0.1083637\ttotal: 19.3s\tremaining: 38.7s\n",
      "333:\tlearn: 0.1083112\ttotal: 19.4s\tremaining: 38.7s\n",
      "334:\tlearn: 0.1082599\ttotal: 19.4s\tremaining: 38.6s\n",
      "335:\tlearn: 0.1080390\ttotal: 19.5s\tremaining: 38.5s\n",
      "336:\tlearn: 0.1079701\ttotal: 19.6s\tremaining: 38.5s\n",
      "337:\tlearn: 0.1078401\ttotal: 19.6s\tremaining: 38.4s\n",
      "338:\tlearn: 0.1076827\ttotal: 19.7s\tremaining: 38.3s\n",
      "339:\tlearn: 0.1075345\ttotal: 19.7s\tremaining: 38.3s\n",
      "340:\tlearn: 0.1074483\ttotal: 19.8s\tremaining: 38.2s\n",
      "341:\tlearn: 0.1073559\ttotal: 19.8s\tremaining: 38.1s\n",
      "342:\tlearn: 0.1071736\ttotal: 19.9s\tremaining: 38.1s\n",
      "343:\tlearn: 0.1071000\ttotal: 19.9s\tremaining: 38s\n",
      "344:\tlearn: 0.1069668\ttotal: 20s\tremaining: 37.9s\n",
      "345:\tlearn: 0.1069004\ttotal: 20s\tremaining: 37.9s\n",
      "346:\tlearn: 0.1068254\ttotal: 20.1s\tremaining: 37.8s\n",
      "347:\tlearn: 0.1066956\ttotal: 20.1s\tremaining: 37.7s\n",
      "348:\tlearn: 0.1065333\ttotal: 20.2s\tremaining: 37.7s\n",
      "349:\tlearn: 0.1064611\ttotal: 20.3s\tremaining: 37.6s\n",
      "350:\tlearn: 0.1063996\ttotal: 20.3s\tremaining: 37.6s\n",
      "351:\tlearn: 0.1061133\ttotal: 20.4s\tremaining: 37.5s\n",
      "352:\tlearn: 0.1059006\ttotal: 20.4s\tremaining: 37.4s\n",
      "353:\tlearn: 0.1058418\ttotal: 20.5s\tremaining: 37.4s\n",
      "354:\tlearn: 0.1057777\ttotal: 20.5s\tremaining: 37.3s\n",
      "355:\tlearn: 0.1057095\ttotal: 20.6s\tremaining: 37.2s\n",
      "356:\tlearn: 0.1055457\ttotal: 20.6s\tremaining: 37.2s\n",
      "357:\tlearn: 0.1054258\ttotal: 20.7s\tremaining: 37.1s\n",
      "358:\tlearn: 0.1052747\ttotal: 20.8s\tremaining: 37.1s\n",
      "359:\tlearn: 0.1052130\ttotal: 20.8s\tremaining: 37s\n",
      "360:\tlearn: 0.1050113\ttotal: 20.9s\tremaining: 36.9s\n",
      "361:\tlearn: 0.1049593\ttotal: 20.9s\tremaining: 36.8s\n",
      "362:\tlearn: 0.1048912\ttotal: 21s\tremaining: 36.8s\n",
      "363:\tlearn: 0.1048089\ttotal: 21s\tremaining: 36.7s\n",
      "364:\tlearn: 0.1047437\ttotal: 21.1s\tremaining: 36.7s\n",
      "365:\tlearn: 0.1045675\ttotal: 21.1s\tremaining: 36.6s\n",
      "366:\tlearn: 0.1045046\ttotal: 21.2s\tremaining: 36.5s\n",
      "367:\tlearn: 0.1044413\ttotal: 21.2s\tremaining: 36.5s\n",
      "368:\tlearn: 0.1043838\ttotal: 21.3s\tremaining: 36.4s\n",
      "369:\tlearn: 0.1042859\ttotal: 21.4s\tremaining: 36.4s\n",
      "370:\tlearn: 0.1042154\ttotal: 21.4s\tremaining: 36.3s\n",
      "371:\tlearn: 0.1041255\ttotal: 21.5s\tremaining: 36.2s\n",
      "372:\tlearn: 0.1040312\ttotal: 21.5s\tremaining: 36.2s\n",
      "373:\tlearn: 0.1038724\ttotal: 21.6s\tremaining: 36.1s\n",
      "374:\tlearn: 0.1038225\ttotal: 21.6s\tremaining: 36s\n",
      "375:\tlearn: 0.1037704\ttotal: 21.7s\tremaining: 36s\n",
      "376:\tlearn: 0.1035176\ttotal: 21.7s\tremaining: 35.9s\n",
      "377:\tlearn: 0.1034437\ttotal: 21.8s\tremaining: 35.8s\n",
      "378:\tlearn: 0.1032772\ttotal: 21.8s\tremaining: 35.8s\n",
      "379:\tlearn: 0.1031953\ttotal: 21.9s\tremaining: 35.7s\n",
      "380:\tlearn: 0.1031266\ttotal: 21.9s\tremaining: 35.7s\n",
      "381:\tlearn: 0.1030602\ttotal: 22s\tremaining: 35.6s\n",
      "382:\tlearn: 0.1029963\ttotal: 22.1s\tremaining: 35.5s\n",
      "383:\tlearn: 0.1029317\ttotal: 22.1s\tremaining: 35.5s\n",
      "384:\tlearn: 0.1028120\ttotal: 22.2s\tremaining: 35.4s\n",
      "385:\tlearn: 0.1025304\ttotal: 22.2s\tremaining: 35.4s\n",
      "386:\tlearn: 0.1023339\ttotal: 22.3s\tremaining: 35.3s\n",
      "387:\tlearn: 0.1022256\ttotal: 22.3s\tremaining: 35.2s\n",
      "388:\tlearn: 0.1019989\ttotal: 22.4s\tremaining: 35.2s\n",
      "389:\tlearn: 0.1019247\ttotal: 22.4s\tremaining: 35.1s\n",
      "390:\tlearn: 0.1018709\ttotal: 22.5s\tremaining: 35s\n",
      "391:\tlearn: 0.1018157\ttotal: 22.5s\tremaining: 35s\n",
      "392:\tlearn: 0.1016199\ttotal: 22.6s\tremaining: 34.9s\n",
      "393:\tlearn: 0.1015047\ttotal: 22.6s\tremaining: 34.8s\n",
      "394:\tlearn: 0.1013467\ttotal: 22.7s\tremaining: 34.8s\n",
      "395:\tlearn: 0.1012921\ttotal: 22.8s\tremaining: 34.7s\n",
      "396:\tlearn: 0.1012308\ttotal: 22.8s\tremaining: 34.6s\n",
      "397:\tlearn: 0.1010784\ttotal: 22.9s\tremaining: 34.6s\n",
      "398:\tlearn: 0.1010107\ttotal: 22.9s\tremaining: 34.5s\n",
      "399:\tlearn: 0.1007966\ttotal: 23s\tremaining: 34.5s\n",
      "400:\tlearn: 0.1007399\ttotal: 23s\tremaining: 34.4s\n",
      "401:\tlearn: 0.1006765\ttotal: 23.1s\tremaining: 34.3s\n",
      "402:\tlearn: 0.1005585\ttotal: 23.1s\tremaining: 34.3s\n",
      "403:\tlearn: 0.1004659\ttotal: 23.2s\tremaining: 34.2s\n",
      "404:\tlearn: 0.1003991\ttotal: 23.3s\tremaining: 34.2s\n",
      "405:\tlearn: 0.1003275\ttotal: 23.3s\tremaining: 34.1s\n",
      "406:\tlearn: 0.1002252\ttotal: 23.4s\tremaining: 34.1s\n",
      "407:\tlearn: 0.1001596\ttotal: 23.5s\tremaining: 34.1s\n",
      "408:\tlearn: 0.1000958\ttotal: 23.5s\tremaining: 34s\n",
      "409:\tlearn: 0.1000301\ttotal: 23.6s\tremaining: 34s\n",
      "410:\tlearn: 0.0999727\ttotal: 23.6s\tremaining: 33.9s\n",
      "411:\tlearn: 0.0999116\ttotal: 23.7s\tremaining: 33.8s\n",
      "412:\tlearn: 0.0998477\ttotal: 23.8s\tremaining: 33.8s\n",
      "413:\tlearn: 0.0997894\ttotal: 23.8s\tremaining: 33.7s\n",
      "414:\tlearn: 0.0996044\ttotal: 23.9s\tremaining: 33.6s\n",
      "415:\tlearn: 0.0994417\ttotal: 23.9s\tremaining: 33.6s\n",
      "416:\tlearn: 0.0993842\ttotal: 24s\tremaining: 33.5s\n",
      "417:\tlearn: 0.0993208\ttotal: 24s\tremaining: 33.5s\n",
      "418:\tlearn: 0.0992640\ttotal: 24.1s\tremaining: 33.4s\n",
      "419:\tlearn: 0.0990448\ttotal: 24.1s\tremaining: 33.3s\n",
      "420:\tlearn: 0.0989867\ttotal: 24.2s\tremaining: 33.3s\n",
      "421:\tlearn: 0.0986970\ttotal: 24.3s\tremaining: 33.3s\n",
      "422:\tlearn: 0.0986349\ttotal: 24.4s\tremaining: 33.3s\n",
      "423:\tlearn: 0.0985766\ttotal: 24.5s\tremaining: 33.3s\n",
      "424:\tlearn: 0.0985028\ttotal: 24.5s\tremaining: 33.2s\n",
      "425:\tlearn: 0.0984451\ttotal: 24.6s\tremaining: 33.1s\n",
      "426:\tlearn: 0.0983845\ttotal: 24.7s\tremaining: 33.1s\n",
      "427:\tlearn: 0.0983232\ttotal: 24.8s\tremaining: 33.1s\n",
      "428:\tlearn: 0.0982608\ttotal: 24.8s\tremaining: 33.1s\n",
      "429:\tlearn: 0.0981783\ttotal: 24.9s\tremaining: 33.1s\n",
      "430:\tlearn: 0.0981217\ttotal: 25s\tremaining: 33s\n",
      "431:\tlearn: 0.0980568\ttotal: 25.1s\tremaining: 33s\n",
      "432:\tlearn: 0.0979921\ttotal: 25.2s\tremaining: 33s\n",
      "433:\tlearn: 0.0977008\ttotal: 25.3s\tremaining: 32.9s\n",
      "434:\tlearn: 0.0976089\ttotal: 25.4s\tremaining: 32.9s\n",
      "435:\tlearn: 0.0974999\ttotal: 25.4s\tremaining: 32.9s\n",
      "436:\tlearn: 0.0974392\ttotal: 25.5s\tremaining: 32.8s\n",
      "437:\tlearn: 0.0973808\ttotal: 25.5s\tremaining: 32.8s\n",
      "438:\tlearn: 0.0973226\ttotal: 25.6s\tremaining: 32.8s\n",
      "439:\tlearn: 0.0972239\ttotal: 25.7s\tremaining: 32.7s\n",
      "440:\tlearn: 0.0971386\ttotal: 25.8s\tremaining: 32.7s\n",
      "441:\tlearn: 0.0970723\ttotal: 25.9s\tremaining: 32.7s\n",
      "442:\tlearn: 0.0970157\ttotal: 26s\tremaining: 32.6s\n",
      "443:\tlearn: 0.0969496\ttotal: 26s\tremaining: 32.6s\n",
      "444:\tlearn: 0.0968500\ttotal: 26.1s\tremaining: 32.5s\n",
      "445:\tlearn: 0.0967488\ttotal: 26.1s\tremaining: 32.5s\n",
      "446:\tlearn: 0.0965449\ttotal: 26.2s\tremaining: 32.4s\n",
      "447:\tlearn: 0.0964010\ttotal: 26.2s\tremaining: 32.3s\n",
      "448:\tlearn: 0.0963373\ttotal: 26.3s\tremaining: 32.3s\n",
      "449:\tlearn: 0.0962566\ttotal: 26.4s\tremaining: 32.2s\n",
      "450:\tlearn: 0.0960028\ttotal: 26.4s\tremaining: 32.1s\n",
      "451:\tlearn: 0.0958161\ttotal: 26.5s\tremaining: 32.1s\n",
      "452:\tlearn: 0.0957595\ttotal: 26.5s\tremaining: 32s\n",
      "453:\tlearn: 0.0956946\ttotal: 26.6s\tremaining: 32s\n",
      "454:\tlearn: 0.0956386\ttotal: 26.6s\tremaining: 31.9s\n",
      "455:\tlearn: 0.0955844\ttotal: 26.7s\tremaining: 31.8s\n",
      "456:\tlearn: 0.0955247\ttotal: 26.7s\tremaining: 31.8s\n",
      "457:\tlearn: 0.0954706\ttotal: 26.8s\tremaining: 31.7s\n",
      "458:\tlearn: 0.0954089\ttotal: 26.9s\tremaining: 31.7s\n",
      "459:\tlearn: 0.0953537\ttotal: 26.9s\tremaining: 31.6s\n",
      "460:\tlearn: 0.0952068\ttotal: 27s\tremaining: 31.5s\n",
      "461:\tlearn: 0.0950219\ttotal: 27s\tremaining: 31.5s\n",
      "462:\tlearn: 0.0949636\ttotal: 27.1s\tremaining: 31.4s\n",
      "463:\tlearn: 0.0948896\ttotal: 27.1s\tremaining: 31.4s\n",
      "464:\tlearn: 0.0948269\ttotal: 27.2s\tremaining: 31.3s\n",
      "465:\tlearn: 0.0947628\ttotal: 27.3s\tremaining: 31.2s\n",
      "466:\tlearn: 0.0947050\ttotal: 27.3s\tremaining: 31.2s\n",
      "467:\tlearn: 0.0946207\ttotal: 27.4s\tremaining: 31.1s\n",
      "468:\tlearn: 0.0944496\ttotal: 27.4s\tremaining: 31s\n",
      "469:\tlearn: 0.0942814\ttotal: 27.5s\tremaining: 31s\n",
      "470:\tlearn: 0.0942241\ttotal: 27.6s\tremaining: 31s\n",
      "471:\tlearn: 0.0941668\ttotal: 27.6s\tremaining: 30.9s\n",
      "472:\tlearn: 0.0941066\ttotal: 27.7s\tremaining: 30.9s\n",
      "473:\tlearn: 0.0940511\ttotal: 27.8s\tremaining: 30.8s\n",
      "474:\tlearn: 0.0939948\ttotal: 27.8s\tremaining: 30.8s\n",
      "475:\tlearn: 0.0936874\ttotal: 27.9s\tremaining: 30.7s\n",
      "476:\tlearn: 0.0936208\ttotal: 28s\tremaining: 30.7s\n",
      "477:\tlearn: 0.0935653\ttotal: 28.1s\tremaining: 30.6s\n",
      "478:\tlearn: 0.0935104\ttotal: 28.1s\tremaining: 30.6s\n",
      "479:\tlearn: 0.0934516\ttotal: 28.2s\tremaining: 30.6s\n",
      "480:\tlearn: 0.0933953\ttotal: 28.3s\tremaining: 30.5s\n",
      "481:\tlearn: 0.0933388\ttotal: 28.4s\tremaining: 30.5s\n",
      "482:\tlearn: 0.0932779\ttotal: 28.4s\tremaining: 30.4s\n"
     ]
    },
    {
     "name": "stdout",
     "output_type": "stream",
     "text": [
      "483:\tlearn: 0.0932208\ttotal: 28.5s\tremaining: 30.4s\n",
      "484:\tlearn: 0.0931619\ttotal: 28.6s\tremaining: 30.4s\n",
      "485:\tlearn: 0.0931030\ttotal: 28.7s\tremaining: 30.3s\n",
      "486:\tlearn: 0.0930445\ttotal: 28.7s\tremaining: 30.3s\n",
      "487:\tlearn: 0.0928941\ttotal: 28.8s\tremaining: 30.2s\n",
      "488:\tlearn: 0.0928379\ttotal: 28.9s\tremaining: 30.2s\n",
      "489:\tlearn: 0.0927259\ttotal: 28.9s\tremaining: 30.1s\n",
      "490:\tlearn: 0.0926658\ttotal: 29s\tremaining: 30.1s\n",
      "491:\tlearn: 0.0926084\ttotal: 29.1s\tremaining: 30s\n",
      "492:\tlearn: 0.0924471\ttotal: 29.1s\tremaining: 30s\n",
      "493:\tlearn: 0.0923924\ttotal: 29.2s\tremaining: 29.9s\n",
      "494:\tlearn: 0.0923394\ttotal: 29.3s\tremaining: 29.9s\n",
      "495:\tlearn: 0.0922181\ttotal: 29.4s\tremaining: 29.8s\n",
      "496:\tlearn: 0.0921596\ttotal: 29.4s\tremaining: 29.8s\n",
      "497:\tlearn: 0.0921077\ttotal: 29.5s\tremaining: 29.7s\n",
      "498:\tlearn: 0.0920474\ttotal: 29.6s\tremaining: 29.7s\n",
      "499:\tlearn: 0.0919917\ttotal: 29.7s\tremaining: 29.7s\n",
      "500:\tlearn: 0.0919332\ttotal: 29.7s\tremaining: 29.6s\n",
      "501:\tlearn: 0.0918794\ttotal: 29.8s\tremaining: 29.6s\n",
      "502:\tlearn: 0.0918221\ttotal: 29.9s\tremaining: 29.5s\n",
      "503:\tlearn: 0.0917646\ttotal: 29.9s\tremaining: 29.5s\n",
      "504:\tlearn: 0.0917083\ttotal: 30s\tremaining: 29.4s\n",
      "505:\tlearn: 0.0916537\ttotal: 30.1s\tremaining: 29.4s\n",
      "506:\tlearn: 0.0915991\ttotal: 30.2s\tremaining: 29.3s\n",
      "507:\tlearn: 0.0914834\ttotal: 30.2s\tremaining: 29.3s\n",
      "508:\tlearn: 0.0914239\ttotal: 30.3s\tremaining: 29.3s\n",
      "509:\tlearn: 0.0913190\ttotal: 30.4s\tremaining: 29.2s\n",
      "510:\tlearn: 0.0912628\ttotal: 30.5s\tremaining: 29.2s\n",
      "511:\tlearn: 0.0912088\ttotal: 30.5s\tremaining: 29.1s\n",
      "512:\tlearn: 0.0910164\ttotal: 30.6s\tremaining: 29s\n",
      "513:\tlearn: 0.0909604\ttotal: 30.6s\tremaining: 29s\n",
      "514:\tlearn: 0.0908502\ttotal: 30.7s\tremaining: 28.9s\n",
      "515:\tlearn: 0.0907952\ttotal: 30.8s\tremaining: 28.8s\n",
      "516:\tlearn: 0.0906833\ttotal: 30.8s\tremaining: 28.8s\n",
      "517:\tlearn: 0.0906157\ttotal: 30.9s\tremaining: 28.7s\n",
      "518:\tlearn: 0.0904344\ttotal: 30.9s\tremaining: 28.7s\n",
      "519:\tlearn: 0.0903773\ttotal: 31s\tremaining: 28.6s\n",
      "520:\tlearn: 0.0900818\ttotal: 31s\tremaining: 28.5s\n",
      "521:\tlearn: 0.0900312\ttotal: 31.1s\tremaining: 28.5s\n",
      "522:\tlearn: 0.0899503\ttotal: 31.1s\tremaining: 28.4s\n",
      "523:\tlearn: 0.0898946\ttotal: 31.2s\tremaining: 28.3s\n",
      "524:\tlearn: 0.0898408\ttotal: 31.2s\tremaining: 28.3s\n",
      "525:\tlearn: 0.0897805\ttotal: 31.3s\tremaining: 28.2s\n",
      "526:\tlearn: 0.0897012\ttotal: 31.4s\tremaining: 28.1s\n",
      "527:\tlearn: 0.0896467\ttotal: 31.4s\tremaining: 28.1s\n",
      "528:\tlearn: 0.0895930\ttotal: 31.5s\tremaining: 28s\n",
      "529:\tlearn: 0.0893278\ttotal: 31.5s\tremaining: 27.9s\n",
      "530:\tlearn: 0.0892399\ttotal: 31.6s\tremaining: 27.9s\n",
      "531:\tlearn: 0.0891866\ttotal: 31.6s\tremaining: 27.8s\n",
      "532:\tlearn: 0.0891349\ttotal: 31.7s\tremaining: 27.8s\n",
      "533:\tlearn: 0.0888649\ttotal: 31.8s\tremaining: 27.7s\n",
      "534:\tlearn: 0.0888117\ttotal: 31.8s\tremaining: 27.7s\n",
      "535:\tlearn: 0.0887589\ttotal: 31.9s\tremaining: 27.6s\n",
      "536:\tlearn: 0.0887041\ttotal: 31.9s\tremaining: 27.5s\n",
      "537:\tlearn: 0.0885840\ttotal: 32s\tremaining: 27.5s\n",
      "538:\tlearn: 0.0885295\ttotal: 32s\tremaining: 27.4s\n",
      "539:\tlearn: 0.0883389\ttotal: 32.1s\tremaining: 27.3s\n",
      "540:\tlearn: 0.0882850\ttotal: 32.1s\tremaining: 27.3s\n",
      "541:\tlearn: 0.0882367\ttotal: 32.2s\tremaining: 27.2s\n",
      "542:\tlearn: 0.0881112\ttotal: 32.3s\tremaining: 27.1s\n",
      "543:\tlearn: 0.0880575\ttotal: 32.3s\tremaining: 27.1s\n",
      "544:\tlearn: 0.0880053\ttotal: 32.4s\tremaining: 27s\n",
      "545:\tlearn: 0.0879552\ttotal: 32.4s\tremaining: 26.9s\n",
      "546:\tlearn: 0.0877547\ttotal: 32.5s\tremaining: 26.9s\n",
      "547:\tlearn: 0.0875918\ttotal: 32.5s\tremaining: 26.8s\n",
      "548:\tlearn: 0.0875409\ttotal: 32.6s\tremaining: 26.8s\n",
      "549:\tlearn: 0.0874891\ttotal: 32.6s\tremaining: 26.7s\n",
      "550:\tlearn: 0.0871994\ttotal: 32.7s\tremaining: 26.7s\n",
      "551:\tlearn: 0.0871493\ttotal: 32.8s\tremaining: 26.6s\n",
      "552:\tlearn: 0.0870976\ttotal: 32.8s\tremaining: 26.5s\n",
      "553:\tlearn: 0.0870069\ttotal: 32.9s\tremaining: 26.5s\n",
      "554:\tlearn: 0.0869149\ttotal: 33s\tremaining: 26.4s\n",
      "555:\tlearn: 0.0868471\ttotal: 33s\tremaining: 26.4s\n",
      "556:\tlearn: 0.0867978\ttotal: 33.1s\tremaining: 26.3s\n",
      "557:\tlearn: 0.0867107\ttotal: 33.1s\tremaining: 26.2s\n",
      "558:\tlearn: 0.0866611\ttotal: 33.2s\tremaining: 26.2s\n",
      "559:\tlearn: 0.0866123\ttotal: 33.2s\tremaining: 26.1s\n",
      "560:\tlearn: 0.0865617\ttotal: 33.3s\tremaining: 26s\n",
      "561:\tlearn: 0.0865132\ttotal: 33.3s\tremaining: 26s\n",
      "562:\tlearn: 0.0864627\ttotal: 33.4s\tremaining: 25.9s\n",
      "563:\tlearn: 0.0862871\ttotal: 33.4s\tremaining: 25.9s\n",
      "564:\tlearn: 0.0862139\ttotal: 33.5s\tremaining: 25.8s\n",
      "565:\tlearn: 0.0859786\ttotal: 33.6s\tremaining: 25.7s\n",
      "566:\tlearn: 0.0858613\ttotal: 33.6s\tremaining: 25.7s\n",
      "567:\tlearn: 0.0856759\ttotal: 33.7s\tremaining: 25.6s\n",
      "568:\tlearn: 0.0856276\ttotal: 33.7s\tremaining: 25.6s\n",
      "569:\tlearn: 0.0855614\ttotal: 33.8s\tremaining: 25.5s\n",
      "570:\tlearn: 0.0855125\ttotal: 33.9s\tremaining: 25.4s\n",
      "571:\tlearn: 0.0854634\ttotal: 33.9s\tremaining: 25.4s\n",
      "572:\tlearn: 0.0854157\ttotal: 34s\tremaining: 25.3s\n",
      "573:\tlearn: 0.0853677\ttotal: 34s\tremaining: 25.2s\n",
      "574:\tlearn: 0.0853191\ttotal: 34.1s\tremaining: 25.2s\n",
      "575:\tlearn: 0.0851112\ttotal: 34.1s\tremaining: 25.1s\n",
      "576:\tlearn: 0.0850634\ttotal: 34.2s\tremaining: 25.1s\n",
      "577:\tlearn: 0.0850159\ttotal: 34.2s\tremaining: 25s\n",
      "578:\tlearn: 0.0849705\ttotal: 34.3s\tremaining: 24.9s\n",
      "579:\tlearn: 0.0848891\ttotal: 34.4s\tremaining: 24.9s\n",
      "580:\tlearn: 0.0848446\ttotal: 34.4s\tremaining: 24.8s\n",
      "581:\tlearn: 0.0847979\ttotal: 34.5s\tremaining: 24.8s\n",
      "582:\tlearn: 0.0847202\ttotal: 34.5s\tremaining: 24.7s\n",
      "583:\tlearn: 0.0846397\ttotal: 34.6s\tremaining: 24.6s\n",
      "584:\tlearn: 0.0845929\ttotal: 34.6s\tremaining: 24.6s\n",
      "585:\tlearn: 0.0845469\ttotal: 34.7s\tremaining: 24.5s\n",
      "586:\tlearn: 0.0845009\ttotal: 34.8s\tremaining: 24.5s\n",
      "587:\tlearn: 0.0844034\ttotal: 34.8s\tremaining: 24.4s\n",
      "588:\tlearn: 0.0842378\ttotal: 34.9s\tremaining: 24.3s\n",
      "589:\tlearn: 0.0841909\ttotal: 34.9s\tremaining: 24.3s\n",
      "590:\tlearn: 0.0841446\ttotal: 35s\tremaining: 24.2s\n",
      "591:\tlearn: 0.0840626\ttotal: 35.1s\tremaining: 24.2s\n",
      "592:\tlearn: 0.0839636\ttotal: 35.1s\tremaining: 24.1s\n",
      "593:\tlearn: 0.0839177\ttotal: 35.2s\tremaining: 24s\n",
      "594:\tlearn: 0.0838720\ttotal: 35.2s\tremaining: 24s\n",
      "595:\tlearn: 0.0837208\ttotal: 35.3s\tremaining: 23.9s\n",
      "596:\tlearn: 0.0836767\ttotal: 35.4s\tremaining: 23.9s\n",
      "597:\tlearn: 0.0835959\ttotal: 35.4s\tremaining: 23.8s\n",
      "598:\tlearn: 0.0835506\ttotal: 35.5s\tremaining: 23.7s\n",
      "599:\tlearn: 0.0835057\ttotal: 35.5s\tremaining: 23.7s\n",
      "600:\tlearn: 0.0834611\ttotal: 35.6s\tremaining: 23.6s\n",
      "601:\tlearn: 0.0833790\ttotal: 35.7s\tremaining: 23.6s\n",
      "602:\tlearn: 0.0831356\ttotal: 35.7s\tremaining: 23.5s\n",
      "603:\tlearn: 0.0830906\ttotal: 35.8s\tremaining: 23.4s\n",
      "604:\tlearn: 0.0829952\ttotal: 35.8s\tremaining: 23.4s\n",
      "605:\tlearn: 0.0829506\ttotal: 35.9s\tremaining: 23.3s\n",
      "606:\tlearn: 0.0827740\ttotal: 35.9s\tremaining: 23.3s\n",
      "607:\tlearn: 0.0827294\ttotal: 36s\tremaining: 23.2s\n",
      "608:\tlearn: 0.0825351\ttotal: 36s\tremaining: 23.1s\n",
      "609:\tlearn: 0.0824913\ttotal: 36.1s\tremaining: 23.1s\n",
      "610:\tlearn: 0.0823894\ttotal: 36.2s\tremaining: 23s\n",
      "611:\tlearn: 0.0823455\ttotal: 36.2s\tremaining: 23s\n",
      "612:\tlearn: 0.0821711\ttotal: 36.3s\tremaining: 22.9s\n",
      "613:\tlearn: 0.0821279\ttotal: 36.3s\tremaining: 22.8s\n",
      "614:\tlearn: 0.0820131\ttotal: 36.4s\tremaining: 22.8s\n",
      "615:\tlearn: 0.0819316\ttotal: 36.4s\tremaining: 22.7s\n",
      "616:\tlearn: 0.0818878\ttotal: 36.5s\tremaining: 22.7s\n",
      "617:\tlearn: 0.0816604\ttotal: 36.6s\tremaining: 22.6s\n",
      "618:\tlearn: 0.0816176\ttotal: 36.6s\tremaining: 22.5s\n",
      "619:\tlearn: 0.0815545\ttotal: 36.7s\tremaining: 22.5s\n",
      "620:\tlearn: 0.0815110\ttotal: 36.7s\tremaining: 22.4s\n",
      "621:\tlearn: 0.0814677\ttotal: 36.8s\tremaining: 22.4s\n",
      "622:\tlearn: 0.0814245\ttotal: 36.8s\tremaining: 22.3s\n",
      "623:\tlearn: 0.0813262\ttotal: 36.9s\tremaining: 22.2s\n",
      "624:\tlearn: 0.0810502\ttotal: 37s\tremaining: 22.2s\n",
      "625:\tlearn: 0.0808336\ttotal: 37s\tremaining: 22.1s\n",
      "626:\tlearn: 0.0807597\ttotal: 37.1s\tremaining: 22.1s\n",
      "627:\tlearn: 0.0807168\ttotal: 37.1s\tremaining: 22s\n",
      "628:\tlearn: 0.0806737\ttotal: 37.2s\tremaining: 21.9s\n",
      "629:\tlearn: 0.0805322\ttotal: 37.2s\tremaining: 21.9s\n",
      "630:\tlearn: 0.0804896\ttotal: 37.3s\tremaining: 21.8s\n",
      "631:\tlearn: 0.0804490\ttotal: 37.4s\tremaining: 21.8s\n",
      "632:\tlearn: 0.0804065\ttotal: 37.4s\tremaining: 21.7s\n",
      "633:\tlearn: 0.0803644\ttotal: 37.5s\tremaining: 21.6s\n",
      "634:\tlearn: 0.0803226\ttotal: 37.5s\tremaining: 21.6s\n",
      "635:\tlearn: 0.0802412\ttotal: 37.6s\tremaining: 21.5s\n",
      "636:\tlearn: 0.0801993\ttotal: 37.6s\tremaining: 21.4s\n",
      "637:\tlearn: 0.0800333\ttotal: 37.7s\tremaining: 21.4s\n",
      "638:\tlearn: 0.0798240\ttotal: 37.7s\tremaining: 21.3s\n",
      "639:\tlearn: 0.0796269\ttotal: 37.8s\tremaining: 21.3s\n",
      "640:\tlearn: 0.0795874\ttotal: 37.9s\tremaining: 21.2s\n",
      "641:\tlearn: 0.0794720\ttotal: 37.9s\tremaining: 21.1s\n"
     ]
    },
    {
     "name": "stdout",
     "output_type": "stream",
     "text": [
      "642:\tlearn: 0.0794025\ttotal: 38s\tremaining: 21.1s\n",
      "643:\tlearn: 0.0793063\ttotal: 38s\tremaining: 21s\n",
      "644:\tlearn: 0.0792150\ttotal: 38.1s\tremaining: 21s\n",
      "645:\tlearn: 0.0791736\ttotal: 38.1s\tremaining: 20.9s\n",
      "646:\tlearn: 0.0791321\ttotal: 38.2s\tremaining: 20.8s\n",
      "647:\tlearn: 0.0790544\ttotal: 38.3s\tremaining: 20.8s\n",
      "648:\tlearn: 0.0789181\ttotal: 38.3s\tremaining: 20.7s\n",
      "649:\tlearn: 0.0788769\ttotal: 38.4s\tremaining: 20.7s\n",
      "650:\tlearn: 0.0788359\ttotal: 38.4s\tremaining: 20.6s\n",
      "651:\tlearn: 0.0786619\ttotal: 38.5s\tremaining: 20.5s\n",
      "652:\tlearn: 0.0786013\ttotal: 38.5s\tremaining: 20.5s\n",
      "653:\tlearn: 0.0785603\ttotal: 38.6s\tremaining: 20.4s\n",
      "654:\tlearn: 0.0785197\ttotal: 38.7s\tremaining: 20.4s\n",
      "655:\tlearn: 0.0784793\ttotal: 38.7s\tremaining: 20.3s\n",
      "656:\tlearn: 0.0784391\ttotal: 38.8s\tremaining: 20.2s\n",
      "657:\tlearn: 0.0783991\ttotal: 38.8s\tremaining: 20.2s\n",
      "658:\tlearn: 0.0783590\ttotal: 38.9s\tremaining: 20.1s\n",
      "659:\tlearn: 0.0782994\ttotal: 38.9s\tremaining: 20.1s\n",
      "660:\tlearn: 0.0782595\ttotal: 39s\tremaining: 20s\n",
      "661:\tlearn: 0.0780214\ttotal: 39s\tremaining: 19.9s\n",
      "662:\tlearn: 0.0779816\ttotal: 39.1s\tremaining: 19.9s\n",
      "663:\tlearn: 0.0779427\ttotal: 39.2s\tremaining: 19.8s\n",
      "664:\tlearn: 0.0779035\ttotal: 39.2s\tremaining: 19.8s\n",
      "665:\tlearn: 0.0777599\ttotal: 39.3s\tremaining: 19.7s\n",
      "666:\tlearn: 0.0777207\ttotal: 39.3s\tremaining: 19.6s\n",
      "667:\tlearn: 0.0776816\ttotal: 39.4s\tremaining: 19.6s\n",
      "668:\tlearn: 0.0776426\ttotal: 39.4s\tremaining: 19.5s\n",
      "669:\tlearn: 0.0775606\ttotal: 39.5s\tremaining: 19.5s\n",
      "670:\tlearn: 0.0775026\ttotal: 39.6s\tremaining: 19.4s\n",
      "671:\tlearn: 0.0774222\ttotal: 39.6s\tremaining: 19.3s\n",
      "672:\tlearn: 0.0772338\ttotal: 39.7s\tremaining: 19.3s\n",
      "673:\tlearn: 0.0771963\ttotal: 39.8s\tremaining: 19.2s\n",
      "674:\tlearn: 0.0771573\ttotal: 39.8s\tremaining: 19.2s\n",
      "675:\tlearn: 0.0771187\ttotal: 39.9s\tremaining: 19.1s\n",
      "676:\tlearn: 0.0769990\ttotal: 39.9s\tremaining: 19s\n",
      "677:\tlearn: 0.0769605\ttotal: 40s\tremaining: 19s\n",
      "678:\tlearn: 0.0768827\ttotal: 40s\tremaining: 18.9s\n",
      "679:\tlearn: 0.0767770\ttotal: 40.1s\tremaining: 18.9s\n",
      "680:\tlearn: 0.0766957\ttotal: 40.2s\tremaining: 18.8s\n",
      "681:\tlearn: 0.0766583\ttotal: 40.2s\tremaining: 18.8s\n",
      "682:\tlearn: 0.0765121\ttotal: 40.3s\tremaining: 18.7s\n",
      "683:\tlearn: 0.0764739\ttotal: 40.3s\tremaining: 18.6s\n",
      "684:\tlearn: 0.0764074\ttotal: 40.4s\tremaining: 18.6s\n",
      "685:\tlearn: 0.0763703\ttotal: 40.4s\tremaining: 18.5s\n",
      "686:\tlearn: 0.0763324\ttotal: 40.5s\tremaining: 18.4s\n",
      "687:\tlearn: 0.0762947\ttotal: 40.5s\tremaining: 18.4s\n",
      "688:\tlearn: 0.0761713\ttotal: 40.6s\tremaining: 18.3s\n",
      "689:\tlearn: 0.0761072\ttotal: 40.7s\tremaining: 18.3s\n",
      "690:\tlearn: 0.0760395\ttotal: 40.7s\tremaining: 18.2s\n",
      "691:\tlearn: 0.0760019\ttotal: 40.8s\tremaining: 18.2s\n",
      "692:\tlearn: 0.0759644\ttotal: 40.8s\tremaining: 18.1s\n",
      "693:\tlearn: 0.0759271\ttotal: 40.9s\tremaining: 18s\n",
      "694:\tlearn: 0.0757841\ttotal: 40.9s\tremaining: 18s\n",
      "695:\tlearn: 0.0757469\ttotal: 41s\tremaining: 17.9s\n",
      "696:\tlearn: 0.0757099\ttotal: 41.1s\tremaining: 17.8s\n",
      "697:\tlearn: 0.0756730\ttotal: 41.1s\tremaining: 17.8s\n",
      "698:\tlearn: 0.0756362\ttotal: 41.2s\tremaining: 17.7s\n",
      "699:\tlearn: 0.0755573\ttotal: 41.2s\tremaining: 17.7s\n",
      "700:\tlearn: 0.0752912\ttotal: 41.3s\tremaining: 17.6s\n",
      "701:\tlearn: 0.0751483\ttotal: 41.3s\tremaining: 17.5s\n",
      "702:\tlearn: 0.0749282\ttotal: 41.4s\tremaining: 17.5s\n",
      "703:\tlearn: 0.0747055\ttotal: 41.4s\tremaining: 17.4s\n",
      "704:\tlearn: 0.0746429\ttotal: 41.5s\tremaining: 17.4s\n",
      "705:\tlearn: 0.0746060\ttotal: 41.6s\tremaining: 17.3s\n",
      "706:\tlearn: 0.0745387\ttotal: 41.6s\tremaining: 17.2s\n",
      "707:\tlearn: 0.0745020\ttotal: 41.7s\tremaining: 17.2s\n",
      "708:\tlearn: 0.0744662\ttotal: 41.7s\tremaining: 17.1s\n",
      "709:\tlearn: 0.0744024\ttotal: 41.8s\tremaining: 17.1s\n",
      "710:\tlearn: 0.0743660\ttotal: 41.8s\tremaining: 17s\n",
      "711:\tlearn: 0.0743298\ttotal: 41.9s\tremaining: 16.9s\n",
      "712:\tlearn: 0.0742938\ttotal: 42s\tremaining: 16.9s\n",
      "713:\tlearn: 0.0741763\ttotal: 42s\tremaining: 16.8s\n",
      "714:\tlearn: 0.0741404\ttotal: 42.1s\tremaining: 16.8s\n",
      "715:\tlearn: 0.0739131\ttotal: 42.1s\tremaining: 16.7s\n",
      "716:\tlearn: 0.0736384\ttotal: 42.2s\tremaining: 16.7s\n",
      "717:\tlearn: 0.0736026\ttotal: 42.3s\tremaining: 16.6s\n",
      "718:\tlearn: 0.0734094\ttotal: 42.3s\tremaining: 16.5s\n",
      "719:\tlearn: 0.0733550\ttotal: 42.4s\tremaining: 16.5s\n",
      "720:\tlearn: 0.0733193\ttotal: 42.4s\tremaining: 16.4s\n",
      "721:\tlearn: 0.0732327\ttotal: 42.5s\tremaining: 16.4s\n",
      "722:\tlearn: 0.0731970\ttotal: 42.6s\tremaining: 16.3s\n",
      "723:\tlearn: 0.0731615\ttotal: 42.7s\tremaining: 16.3s\n",
      "724:\tlearn: 0.0730049\ttotal: 42.7s\tremaining: 16.2s\n",
      "725:\tlearn: 0.0729695\ttotal: 42.8s\tremaining: 16.1s\n",
      "726:\tlearn: 0.0729067\ttotal: 42.8s\tremaining: 16.1s\n",
      "727:\tlearn: 0.0728729\ttotal: 42.9s\tremaining: 16s\n",
      "728:\tlearn: 0.0728377\ttotal: 43s\tremaining: 16s\n",
      "729:\tlearn: 0.0726433\ttotal: 43s\tremaining: 15.9s\n",
      "730:\tlearn: 0.0725394\ttotal: 43.1s\tremaining: 15.8s\n",
      "731:\tlearn: 0.0724710\ttotal: 43.1s\tremaining: 15.8s\n",
      "732:\tlearn: 0.0724359\ttotal: 43.2s\tremaining: 15.7s\n",
      "733:\tlearn: 0.0723164\ttotal: 43.3s\tremaining: 15.7s\n",
      "734:\tlearn: 0.0722814\ttotal: 43.3s\tremaining: 15.6s\n",
      "735:\tlearn: 0.0721297\ttotal: 43.4s\tremaining: 15.6s\n",
      "736:\tlearn: 0.0720955\ttotal: 43.4s\tremaining: 15.5s\n",
      "737:\tlearn: 0.0720418\ttotal: 43.5s\tremaining: 15.4s\n",
      "738:\tlearn: 0.0720071\ttotal: 43.5s\tremaining: 15.4s\n",
      "739:\tlearn: 0.0718435\ttotal: 43.6s\tremaining: 15.3s\n",
      "740:\tlearn: 0.0717753\ttotal: 43.7s\tremaining: 15.3s\n",
      "741:\tlearn: 0.0717406\ttotal: 43.7s\tremaining: 15.2s\n",
      "742:\tlearn: 0.0717060\ttotal: 43.8s\tremaining: 15.1s\n",
      "743:\tlearn: 0.0716469\ttotal: 43.8s\tremaining: 15.1s\n",
      "744:\tlearn: 0.0716126\ttotal: 43.9s\tremaining: 15s\n",
      "745:\tlearn: 0.0715783\ttotal: 43.9s\tremaining: 15s\n",
      "746:\tlearn: 0.0715442\ttotal: 44s\tremaining: 14.9s\n",
      "747:\tlearn: 0.0713623\ttotal: 44s\tremaining: 14.8s\n",
      "748:\tlearn: 0.0713282\ttotal: 44.1s\tremaining: 14.8s\n",
      "749:\tlearn: 0.0712942\ttotal: 44.2s\tremaining: 14.7s\n",
      "750:\tlearn: 0.0712605\ttotal: 44.2s\tremaining: 14.7s\n",
      "751:\tlearn: 0.0711353\ttotal: 44.3s\tremaining: 14.6s\n",
      "752:\tlearn: 0.0709433\ttotal: 44.3s\tremaining: 14.5s\n",
      "753:\tlearn: 0.0709095\ttotal: 44.4s\tremaining: 14.5s\n",
      "754:\tlearn: 0.0708503\ttotal: 44.4s\tremaining: 14.4s\n",
      "755:\tlearn: 0.0706323\ttotal: 44.5s\tremaining: 14.4s\n",
      "756:\tlearn: 0.0705986\ttotal: 44.6s\tremaining: 14.3s\n",
      "757:\tlearn: 0.0704721\ttotal: 44.6s\tremaining: 14.2s\n",
      "758:\tlearn: 0.0704384\ttotal: 44.7s\tremaining: 14.2s\n",
      "759:\tlearn: 0.0704049\ttotal: 44.7s\tremaining: 14.1s\n",
      "760:\tlearn: 0.0703716\ttotal: 44.8s\tremaining: 14.1s\n",
      "761:\tlearn: 0.0703384\ttotal: 44.8s\tremaining: 14s\n",
      "762:\tlearn: 0.0703052\ttotal: 44.9s\tremaining: 13.9s\n",
      "763:\tlearn: 0.0702722\ttotal: 44.9s\tremaining: 13.9s\n",
      "764:\tlearn: 0.0702215\ttotal: 45s\tremaining: 13.8s\n",
      "765:\tlearn: 0.0701886\ttotal: 45.1s\tremaining: 13.8s\n",
      "766:\tlearn: 0.0701559\ttotal: 45.1s\tremaining: 13.7s\n",
      "767:\tlearn: 0.0700989\ttotal: 45.2s\tremaining: 13.6s\n",
      "768:\tlearn: 0.0700358\ttotal: 45.2s\tremaining: 13.6s\n",
      "769:\tlearn: 0.0699051\ttotal: 45.3s\tremaining: 13.5s\n",
      "770:\tlearn: 0.0697015\ttotal: 45.3s\tremaining: 13.5s\n",
      "771:\tlearn: 0.0696688\ttotal: 45.4s\tremaining: 13.4s\n",
      "772:\tlearn: 0.0696368\ttotal: 45.4s\tremaining: 13.3s\n",
      "773:\tlearn: 0.0696044\ttotal: 45.5s\tremaining: 13.3s\n",
      "774:\tlearn: 0.0695720\ttotal: 45.5s\tremaining: 13.2s\n",
      "775:\tlearn: 0.0694367\ttotal: 45.6s\tremaining: 13.2s\n",
      "776:\tlearn: 0.0693523\ttotal: 45.6s\tremaining: 13.1s\n",
      "777:\tlearn: 0.0693204\ttotal: 45.7s\tremaining: 13s\n",
      "778:\tlearn: 0.0692710\ttotal: 45.8s\tremaining: 13s\n",
      "779:\tlearn: 0.0692388\ttotal: 45.8s\tremaining: 12.9s\n",
      "780:\tlearn: 0.0690526\ttotal: 45.9s\tremaining: 12.9s\n",
      "781:\tlearn: 0.0689553\ttotal: 45.9s\tremaining: 12.8s\n",
      "782:\tlearn: 0.0689232\ttotal: 46s\tremaining: 12.7s\n",
      "783:\tlearn: 0.0688912\ttotal: 46s\tremaining: 12.7s\n",
      "784:\tlearn: 0.0687276\ttotal: 46.1s\tremaining: 12.6s\n",
      "785:\tlearn: 0.0686680\ttotal: 46.1s\tremaining: 12.6s\n",
      "786:\tlearn: 0.0686370\ttotal: 46.2s\tremaining: 12.5s\n",
      "787:\tlearn: 0.0686052\ttotal: 46.2s\tremaining: 12.4s\n",
      "788:\tlearn: 0.0685736\ttotal: 46.3s\tremaining: 12.4s\n",
      "789:\tlearn: 0.0685421\ttotal: 46.4s\tremaining: 12.3s\n",
      "790:\tlearn: 0.0683417\ttotal: 46.4s\tremaining: 12.3s\n",
      "791:\tlearn: 0.0683102\ttotal: 46.5s\tremaining: 12.2s\n",
      "792:\tlearn: 0.0682618\ttotal: 46.6s\tremaining: 12.2s\n",
      "793:\tlearn: 0.0682317\ttotal: 46.7s\tremaining: 12.1s\n",
      "794:\tlearn: 0.0680718\ttotal: 46.8s\tremaining: 12.1s\n",
      "795:\tlearn: 0.0679540\ttotal: 46.8s\tremaining: 12s\n",
      "796:\tlearn: 0.0678181\ttotal: 46.9s\tremaining: 11.9s\n",
      "797:\tlearn: 0.0677866\ttotal: 47s\tremaining: 11.9s\n",
      "798:\tlearn: 0.0677554\ttotal: 47.1s\tremaining: 11.8s\n",
      "799:\tlearn: 0.0677242\ttotal: 47.2s\tremaining: 11.8s\n",
      "800:\tlearn: 0.0676939\ttotal: 47.2s\tremaining: 11.7s\n"
     ]
    },
    {
     "name": "stdout",
     "output_type": "stream",
     "text": [
      "801:\tlearn: 0.0676306\ttotal: 47.3s\tremaining: 11.7s\n",
      "802:\tlearn: 0.0675715\ttotal: 47.4s\tremaining: 11.6s\n",
      "803:\tlearn: 0.0674346\ttotal: 47.5s\tremaining: 11.6s\n",
      "804:\tlearn: 0.0674036\ttotal: 47.6s\tremaining: 11.5s\n",
      "805:\tlearn: 0.0673727\ttotal: 47.6s\tremaining: 11.5s\n",
      "806:\tlearn: 0.0672519\ttotal: 47.7s\tremaining: 11.4s\n",
      "807:\tlearn: 0.0672033\ttotal: 47.7s\tremaining: 11.3s\n",
      "808:\tlearn: 0.0671724\ttotal: 47.8s\tremaining: 11.3s\n",
      "809:\tlearn: 0.0671417\ttotal: 47.9s\tremaining: 11.2s\n",
      "810:\tlearn: 0.0671111\ttotal: 47.9s\tremaining: 11.2s\n",
      "811:\tlearn: 0.0670811\ttotal: 48s\tremaining: 11.1s\n",
      "812:\tlearn: 0.0670507\ttotal: 48s\tremaining: 11s\n",
      "813:\tlearn: 0.0670205\ttotal: 48.1s\tremaining: 11s\n",
      "814:\tlearn: 0.0669903\ttotal: 48.1s\tremaining: 10.9s\n",
      "815:\tlearn: 0.0669603\ttotal: 48.2s\tremaining: 10.9s\n",
      "816:\tlearn: 0.0669076\ttotal: 48.2s\tremaining: 10.8s\n",
      "817:\tlearn: 0.0668177\ttotal: 48.3s\tremaining: 10.7s\n",
      "818:\tlearn: 0.0666622\ttotal: 48.4s\tremaining: 10.7s\n",
      "819:\tlearn: 0.0666321\ttotal: 48.4s\tremaining: 10.6s\n",
      "820:\tlearn: 0.0666021\ttotal: 48.5s\tremaining: 10.6s\n",
      "821:\tlearn: 0.0665723\ttotal: 48.5s\tremaining: 10.5s\n",
      "822:\tlearn: 0.0664406\ttotal: 48.6s\tremaining: 10.5s\n",
      "823:\tlearn: 0.0664108\ttotal: 48.7s\tremaining: 10.4s\n",
      "824:\tlearn: 0.0663639\ttotal: 48.7s\tremaining: 10.3s\n",
      "825:\tlearn: 0.0663357\ttotal: 48.8s\tremaining: 10.3s\n",
      "826:\tlearn: 0.0662344\ttotal: 48.8s\tremaining: 10.2s\n",
      "827:\tlearn: 0.0662048\ttotal: 48.9s\tremaining: 10.2s\n",
      "828:\tlearn: 0.0661751\ttotal: 49s\tremaining: 10.1s\n",
      "829:\tlearn: 0.0661214\ttotal: 49s\tremaining: 10s\n",
      "830:\tlearn: 0.0660920\ttotal: 49.1s\tremaining: 9.98s\n",
      "831:\tlearn: 0.0660627\ttotal: 49.2s\tremaining: 9.93s\n",
      "832:\tlearn: 0.0659974\ttotal: 49.2s\tremaining: 9.87s\n",
      "833:\tlearn: 0.0659681\ttotal: 49.3s\tremaining: 9.8s\n",
      "834:\tlearn: 0.0659005\ttotal: 49.3s\tremaining: 9.75s\n",
      "835:\tlearn: 0.0658714\ttotal: 49.4s\tremaining: 9.69s\n",
      "836:\tlearn: 0.0657417\ttotal: 49.4s\tremaining: 9.63s\n",
      "837:\tlearn: 0.0657127\ttotal: 49.5s\tremaining: 9.57s\n",
      "838:\tlearn: 0.0656837\ttotal: 49.5s\tremaining: 9.51s\n",
      "839:\tlearn: 0.0656382\ttotal: 49.6s\tremaining: 9.45s\n",
      "840:\tlearn: 0.0655551\ttotal: 49.7s\tremaining: 9.4s\n",
      "841:\tlearn: 0.0655262\ttotal: 49.8s\tremaining: 9.34s\n",
      "842:\tlearn: 0.0654975\ttotal: 49.9s\tremaining: 9.29s\n",
      "843:\tlearn: 0.0653169\ttotal: 49.9s\tremaining: 9.23s\n",
      "844:\tlearn: 0.0652882\ttotal: 50s\tremaining: 9.18s\n",
      "845:\tlearn: 0.0651051\ttotal: 50.1s\tremaining: 9.13s\n",
      "846:\tlearn: 0.0649321\ttotal: 50.2s\tremaining: 9.06s\n",
      "847:\tlearn: 0.0649035\ttotal: 50.3s\tremaining: 9.01s\n",
      "848:\tlearn: 0.0648750\ttotal: 50.4s\tremaining: 8.96s\n",
      "849:\tlearn: 0.0647848\ttotal: 50.5s\tremaining: 8.9s\n",
      "850:\tlearn: 0.0647401\ttotal: 50.5s\tremaining: 8.85s\n",
      "851:\tlearn: 0.0647117\ttotal: 50.6s\tremaining: 8.79s\n",
      "852:\tlearn: 0.0645835\ttotal: 50.7s\tremaining: 8.74s\n",
      "853:\tlearn: 0.0645552\ttotal: 50.8s\tremaining: 8.69s\n",
      "854:\tlearn: 0.0645271\ttotal: 50.9s\tremaining: 8.63s\n",
      "855:\tlearn: 0.0644990\ttotal: 50.9s\tremaining: 8.57s\n",
      "856:\tlearn: 0.0644469\ttotal: 51s\tremaining: 8.51s\n",
      "857:\tlearn: 0.0644188\ttotal: 51.1s\tremaining: 8.45s\n",
      "858:\tlearn: 0.0643909\ttotal: 51.1s\tremaining: 8.39s\n",
      "859:\tlearn: 0.0642674\ttotal: 51.2s\tremaining: 8.33s\n",
      "860:\tlearn: 0.0642395\ttotal: 51.2s\tremaining: 8.27s\n",
      "861:\tlearn: 0.0641050\ttotal: 51.3s\tremaining: 8.21s\n",
      "862:\tlearn: 0.0639218\ttotal: 51.3s\tremaining: 8.15s\n",
      "863:\tlearn: 0.0638939\ttotal: 51.4s\tremaining: 8.09s\n",
      "864:\tlearn: 0.0638499\ttotal: 51.5s\tremaining: 8.03s\n",
      "865:\tlearn: 0.0638055\ttotal: 51.5s\tremaining: 7.97s\n",
      "866:\tlearn: 0.0637777\ttotal: 51.6s\tremaining: 7.92s\n",
      "867:\tlearn: 0.0637500\ttotal: 51.7s\tremaining: 7.85s\n",
      "868:\tlearn: 0.0636980\ttotal: 51.7s\tremaining: 7.79s\n",
      "869:\tlearn: 0.0636704\ttotal: 51.8s\tremaining: 7.74s\n",
      "870:\tlearn: 0.0636430\ttotal: 51.8s\tremaining: 7.68s\n",
      "871:\tlearn: 0.0634628\ttotal: 51.9s\tremaining: 7.62s\n",
      "872:\tlearn: 0.0634022\ttotal: 51.9s\tremaining: 7.56s\n",
      "873:\tlearn: 0.0633748\ttotal: 52s\tremaining: 7.5s\n",
      "874:\tlearn: 0.0633476\ttotal: 52.1s\tremaining: 7.44s\n",
      "875:\tlearn: 0.0632900\ttotal: 52.1s\tremaining: 7.38s\n",
      "876:\tlearn: 0.0632627\ttotal: 52.2s\tremaining: 7.32s\n",
      "877:\tlearn: 0.0631680\ttotal: 52.2s\tremaining: 7.26s\n",
      "878:\tlearn: 0.0630676\ttotal: 52.3s\tremaining: 7.2s\n",
      "879:\tlearn: 0.0628962\ttotal: 52.3s\tremaining: 7.14s\n",
      "880:\tlearn: 0.0627585\ttotal: 52.4s\tremaining: 7.08s\n",
      "881:\tlearn: 0.0627314\ttotal: 52.5s\tremaining: 7.02s\n",
      "882:\tlearn: 0.0627045\ttotal: 52.5s\tremaining: 6.96s\n",
      "883:\tlearn: 0.0626776\ttotal: 52.6s\tremaining: 6.9s\n",
      "884:\tlearn: 0.0626353\ttotal: 52.6s\tremaining: 6.84s\n",
      "885:\tlearn: 0.0625858\ttotal: 52.7s\tremaining: 6.78s\n",
      "886:\tlearn: 0.0625590\ttotal: 52.7s\tremaining: 6.72s\n",
      "887:\tlearn: 0.0625324\ttotal: 52.8s\tremaining: 6.66s\n",
      "888:\tlearn: 0.0624322\ttotal: 52.9s\tremaining: 6.6s\n",
      "889:\tlearn: 0.0624056\ttotal: 52.9s\tremaining: 6.54s\n",
      "890:\tlearn: 0.0622794\ttotal: 53s\tremaining: 6.48s\n",
      "891:\tlearn: 0.0622529\ttotal: 53s\tremaining: 6.42s\n",
      "892:\tlearn: 0.0622264\ttotal: 53.1s\tremaining: 6.36s\n",
      "893:\tlearn: 0.0622001\ttotal: 53.2s\tremaining: 6.3s\n",
      "894:\tlearn: 0.0621162\ttotal: 53.2s\tremaining: 6.24s\n",
      "895:\tlearn: 0.0620904\ttotal: 53.3s\tremaining: 6.18s\n",
      "896:\tlearn: 0.0620642\ttotal: 53.3s\tremaining: 6.13s\n",
      "897:\tlearn: 0.0620116\ttotal: 53.4s\tremaining: 6.07s\n",
      "898:\tlearn: 0.0619855\ttotal: 53.5s\tremaining: 6s\n",
      "899:\tlearn: 0.0618587\ttotal: 53.5s\tremaining: 5.95s\n",
      "900:\tlearn: 0.0618326\ttotal: 53.6s\tremaining: 5.89s\n",
      "901:\tlearn: 0.0617910\ttotal: 53.6s\tremaining: 5.83s\n",
      "902:\tlearn: 0.0617650\ttotal: 53.7s\tremaining: 5.77s\n",
      "903:\tlearn: 0.0615818\ttotal: 53.8s\tremaining: 5.71s\n",
      "904:\tlearn: 0.0615231\ttotal: 53.8s\tremaining: 5.65s\n",
      "905:\tlearn: 0.0614971\ttotal: 53.9s\tremaining: 5.59s\n",
      "906:\tlearn: 0.0614712\ttotal: 53.9s\tremaining: 5.53s\n",
      "907:\tlearn: 0.0614454\ttotal: 54s\tremaining: 5.47s\n",
      "908:\tlearn: 0.0613439\ttotal: 54s\tremaining: 5.41s\n",
      "909:\tlearn: 0.0612284\ttotal: 54.1s\tremaining: 5.35s\n",
      "910:\tlearn: 0.0612026\ttotal: 54.1s\tremaining: 5.29s\n",
      "911:\tlearn: 0.0611769\ttotal: 54.2s\tremaining: 5.23s\n",
      "912:\tlearn: 0.0611513\ttotal: 54.3s\tremaining: 5.17s\n",
      "913:\tlearn: 0.0610978\ttotal: 54.3s\tremaining: 5.11s\n",
      "914:\tlearn: 0.0610533\ttotal: 54.4s\tremaining: 5.05s\n",
      "915:\tlearn: 0.0610278\ttotal: 54.4s\tremaining: 4.99s\n",
      "916:\tlearn: 0.0609008\ttotal: 54.5s\tremaining: 4.93s\n",
      "917:\tlearn: 0.0608754\ttotal: 54.6s\tremaining: 4.87s\n",
      "918:\tlearn: 0.0607666\ttotal: 54.6s\tremaining: 4.81s\n",
      "919:\tlearn: 0.0607413\ttotal: 54.7s\tremaining: 4.75s\n",
      "920:\tlearn: 0.0607161\ttotal: 54.7s\tremaining: 4.69s\n",
      "921:\tlearn: 0.0605209\ttotal: 54.8s\tremaining: 4.63s\n",
      "922:\tlearn: 0.0604957\ttotal: 54.9s\tremaining: 4.58s\n",
      "923:\tlearn: 0.0604712\ttotal: 54.9s\tremaining: 4.52s\n",
      "924:\tlearn: 0.0603746\ttotal: 55s\tremaining: 4.46s\n",
      "925:\tlearn: 0.0603344\ttotal: 55s\tremaining: 4.4s\n",
      "926:\tlearn: 0.0603098\ttotal: 55.1s\tremaining: 4.34s\n",
      "927:\tlearn: 0.0601276\ttotal: 55.1s\tremaining: 4.28s\n",
      "928:\tlearn: 0.0600812\ttotal: 55.2s\tremaining: 4.22s\n",
      "929:\tlearn: 0.0600562\ttotal: 55.3s\tremaining: 4.16s\n",
      "930:\tlearn: 0.0600313\ttotal: 55.3s\tremaining: 4.1s\n",
      "931:\tlearn: 0.0600066\ttotal: 55.4s\tremaining: 4.04s\n",
      "932:\tlearn: 0.0599819\ttotal: 55.4s\tremaining: 3.98s\n",
      "933:\tlearn: 0.0598868\ttotal: 55.5s\tremaining: 3.92s\n",
      "934:\tlearn: 0.0598622\ttotal: 55.5s\tremaining: 3.86s\n",
      "935:\tlearn: 0.0597124\ttotal: 55.6s\tremaining: 3.8s\n",
      "936:\tlearn: 0.0596730\ttotal: 55.7s\tremaining: 3.74s\n",
      "937:\tlearn: 0.0596484\ttotal: 55.7s\tremaining: 3.68s\n",
      "938:\tlearn: 0.0595718\ttotal: 55.8s\tremaining: 3.62s\n",
      "939:\tlearn: 0.0595473\ttotal: 55.8s\tremaining: 3.56s\n",
      "940:\tlearn: 0.0595229\ttotal: 55.9s\tremaining: 3.5s\n",
      "941:\tlearn: 0.0593693\ttotal: 55.9s\tremaining: 3.44s\n",
      "942:\tlearn: 0.0593247\ttotal: 56s\tremaining: 3.38s\n",
      "943:\tlearn: 0.0593006\ttotal: 56.1s\tremaining: 3.33s\n",
      "944:\tlearn: 0.0592482\ttotal: 56.1s\tremaining: 3.27s\n",
      "945:\tlearn: 0.0592238\ttotal: 56.2s\tremaining: 3.21s\n",
      "946:\tlearn: 0.0591996\ttotal: 56.2s\tremaining: 3.15s\n",
      "947:\tlearn: 0.0591755\ttotal: 56.3s\tremaining: 3.09s\n",
      "948:\tlearn: 0.0591260\ttotal: 56.3s\tremaining: 3.03s\n",
      "949:\tlearn: 0.0591020\ttotal: 56.4s\tremaining: 2.97s\n",
      "950:\tlearn: 0.0590633\ttotal: 56.5s\tremaining: 2.91s\n",
      "951:\tlearn: 0.0590393\ttotal: 56.5s\tremaining: 2.85s\n",
      "952:\tlearn: 0.0590155\ttotal: 56.6s\tremaining: 2.79s\n",
      "953:\tlearn: 0.0589917\ttotal: 56.7s\tremaining: 2.73s\n",
      "954:\tlearn: 0.0589679\ttotal: 56.7s\tremaining: 2.67s\n",
      "955:\tlearn: 0.0588721\ttotal: 56.8s\tremaining: 2.61s\n",
      "956:\tlearn: 0.0588339\ttotal: 56.8s\tremaining: 2.55s\n",
      "957:\tlearn: 0.0588101\ttotal: 56.9s\tremaining: 2.49s\n",
      "958:\tlearn: 0.0587865\ttotal: 56.9s\tremaining: 2.43s\n",
      "959:\tlearn: 0.0586358\ttotal: 57s\tremaining: 2.37s\n",
      "960:\tlearn: 0.0585256\ttotal: 57s\tremaining: 2.31s\n"
     ]
    },
    {
     "name": "stdout",
     "output_type": "stream",
     "text": [
      "961:\tlearn: 0.0585019\ttotal: 57.1s\tremaining: 2.25s\n",
      "962:\tlearn: 0.0584516\ttotal: 57.2s\tremaining: 2.2s\n",
      "963:\tlearn: 0.0584281\ttotal: 57.2s\tremaining: 2.14s\n",
      "964:\tlearn: 0.0583414\ttotal: 57.3s\tremaining: 2.08s\n",
      "965:\tlearn: 0.0583184\ttotal: 57.4s\tremaining: 2.02s\n",
      "966:\tlearn: 0.0582809\ttotal: 57.4s\tremaining: 1.96s\n",
      "967:\tlearn: 0.0582575\ttotal: 57.5s\tremaining: 1.9s\n",
      "968:\tlearn: 0.0582342\ttotal: 57.5s\tremaining: 1.84s\n",
      "969:\tlearn: 0.0582109\ttotal: 57.6s\tremaining: 1.78s\n",
      "970:\tlearn: 0.0581615\ttotal: 57.7s\tremaining: 1.72s\n",
      "971:\tlearn: 0.0581384\ttotal: 57.7s\tremaining: 1.66s\n",
      "972:\tlearn: 0.0581153\ttotal: 57.8s\tremaining: 1.6s\n",
      "973:\tlearn: 0.0580780\ttotal: 57.8s\tremaining: 1.54s\n",
      "974:\tlearn: 0.0580553\ttotal: 57.9s\tremaining: 1.48s\n",
      "975:\tlearn: 0.0580324\ttotal: 57.9s\tremaining: 1.42s\n",
      "976:\tlearn: 0.0580095\ttotal: 58s\tremaining: 1.36s\n",
      "977:\tlearn: 0.0579600\ttotal: 58s\tremaining: 1.3s\n",
      "978:\tlearn: 0.0577759\ttotal: 58.1s\tremaining: 1.25s\n",
      "979:\tlearn: 0.0577533\ttotal: 58.2s\tremaining: 1.19s\n",
      "980:\tlearn: 0.0577311\ttotal: 58.3s\tremaining: 1.13s\n",
      "981:\tlearn: 0.0576826\ttotal: 58.3s\tremaining: 1.07s\n",
      "982:\tlearn: 0.0575806\ttotal: 58.4s\tremaining: 1.01s\n",
      "983:\tlearn: 0.0574571\ttotal: 58.4s\tremaining: 950ms\n",
      "984:\tlearn: 0.0574343\ttotal: 58.5s\tremaining: 891ms\n",
      "985:\tlearn: 0.0574116\ttotal: 58.6s\tremaining: 831ms\n",
      "986:\tlearn: 0.0573718\ttotal: 58.6s\tremaining: 772ms\n",
      "987:\tlearn: 0.0573491\ttotal: 58.7s\tremaining: 713ms\n",
      "988:\tlearn: 0.0573265\ttotal: 58.7s\tremaining: 653ms\n",
      "989:\tlearn: 0.0572420\ttotal: 58.8s\tremaining: 594ms\n",
      "990:\tlearn: 0.0571011\ttotal: 58.8s\tremaining: 534ms\n",
      "991:\tlearn: 0.0570785\ttotal: 58.9s\tremaining: 475ms\n",
      "992:\tlearn: 0.0570419\ttotal: 59s\tremaining: 416ms\n",
      "993:\tlearn: 0.0570194\ttotal: 59s\tremaining: 356ms\n",
      "994:\tlearn: 0.0568410\ttotal: 59.1s\tremaining: 297ms\n",
      "995:\tlearn: 0.0566760\ttotal: 59.1s\tremaining: 238ms\n",
      "996:\tlearn: 0.0565702\ttotal: 59.2s\tremaining: 178ms\n",
      "997:\tlearn: 0.0565477\ttotal: 59.3s\tremaining: 119ms\n",
      "998:\tlearn: 0.0564691\ttotal: 59.3s\tremaining: 59.4ms\n",
      "999:\tlearn: 0.0564470\ttotal: 59.4s\tremaining: 0us\n"
     ]
    }
   ],
   "source": [
    "pipe4 = Pipeline([\n",
    "    ('bow', CountVectorizer(analyzer=removestop)),\n",
    "    ('tfidf', TfidfTransformer()),\n",
    "    ('model', CatBoostClassifier())\n",
    "])\n",
    "\n",
    "pipe4.fit(X_train, y_train)\n",
    "pred4 = pipe4.predict(X_test)"
   ]
  },
  {
   "cell_type": "code",
   "execution_count": 108,
   "metadata": {
    "ExecuteTime": {
     "end_time": "2020-11-25T15:05:15.559412Z",
     "start_time": "2020-11-25T15:05:15.260015Z"
    }
   },
   "outputs": [
    {
     "name": "stdout",
     "output_type": "stream",
     "text": [
      "              precision    recall  f1-score   support\n",
      "\n",
      "         0.0       1.00      0.97      0.98      1496\n",
      "         1.0       0.77      0.98      0.86       176\n",
      "\n",
      "    accuracy                           0.97      1672\n",
      "   macro avg       0.89      0.97      0.92      1672\n",
      "weighted avg       0.97      0.97      0.97      1672\n",
      "\n",
      "\n",
      "\n",
      "AxesSubplot(0.125,0.125;0.62x0.755)\n"
     ]
    },
    {
     "data": {
      "image/png": "[encoded data removed]",
      "text/plain": [
       "<Figure size 432x288 with 2 Axes>"
      ]
     },
     "metadata": {
      "needs_background": "light"
     },
     "output_type": "display_data"
    }
   ],
   "source": [
    "print(classification_report(pred4, y_test))\n",
    "print('\\n')\n",
    "print(sns.heatmap(confusion_matrix(pred4, y_test), annot=True))"
   ]
  },
  {
   "cell_type": "code",
   "execution_count": 109,
   "metadata": {
    "ExecuteTime": {
     "end_time": "2020-11-25T15:05:19.458303Z",
     "start_time": "2020-11-25T15:05:19.429601Z"
    }
   },
   "outputs": [
    {
     "name": "stdout",
     "output_type": "stream",
     "text": [
      "0.7723214285714286\n",
      "0.9829545454545454\n",
      "0.865\n",
      "0.9744318181818182\n",
      "0.9677033492822966\n"
     ]
    }
   ],
   "source": [
    "print(precision_score(pred4, y_test))\n",
    "print(recall_score(pred4, y_test))\n",
    "print(f1_score(pred4, y_test))\n",
    "print(roc_auc_score(pred4, y_test))\n",
    "print(accuracy_score(pred4, y_test))"
   ]
  },
  {
   "cell_type": "markdown",
   "metadata": {},
   "source": [
    "## Logistic Regression"
   ]
  },
  {
   "cell_type": "code",
   "execution_count": 110,
   "metadata": {
    "ExecuteTime": {
     "end_time": "2020-11-25T15:05:57.617917Z",
     "start_time": "2020-11-25T15:05:22.966222Z"
    }
   },
   "outputs": [],
   "source": [
    "pipe5 = Pipeline([\n",
    "    ('bow', CountVectorizer(analyzer=removestop)),\n",
    "    ('tfidf', TfidfTransformer()),\n",
    "    ('model', LogisticRegression())\n",
    "])\n",
    "\n",
    "pipe5.fit(X_train, y_train)\n",
    "pred5 = pipe5.predict(X_test)"
   ]
  },
  {
   "cell_type": "code",
   "execution_count": 111,
   "metadata": {
    "ExecuteTime": {
     "end_time": "2020-11-25T15:06:02.780988Z",
     "start_time": "2020-11-25T15:06:02.487021Z"
    }
   },
   "outputs": [
    {
     "name": "stdout",
     "output_type": "stream",
     "text": [
      "              precision    recall  f1-score   support\n",
      "\n",
      "         0.0       1.00      0.95      0.98      1519\n",
      "         1.0       0.68      0.99      0.81       153\n",
      "\n",
      "    accuracy                           0.96      1672\n",
      "   macro avg       0.84      0.97      0.89      1672\n",
      "weighted avg       0.97      0.96      0.96      1672\n",
      "\n",
      "\n",
      "\n",
      "AxesSubplot(0.125,0.125;0.62x0.755)\n"
     ]
    },
    {
     "data": {
      "image/png": "[encoded data removed]",
      "text/plain": [
       "<Figure size 432x288 with 2 Axes>"
      ]
     },
     "metadata": {
      "needs_background": "light"
     },
     "output_type": "display_data"
    }
   ],
   "source": [
    "print(classification_report(pred5, y_test))\n",
    "print('\\n')\n",
    "print(sns.heatmap(confusion_matrix(pred5, y_test), annot=True))"
   ]
  },
  {
   "cell_type": "code",
   "execution_count": 112,
   "metadata": {
    "ExecuteTime": {
     "end_time": "2020-11-25T15:06:07.126552Z",
     "start_time": "2020-11-25T15:06:07.078061Z"
    }
   },
   "outputs": [
    {
     "name": "stdout",
     "output_type": "stream",
     "text": [
      "0.6785714285714286\n",
      "0.9934640522875817\n",
      "0.8063660477453581\n",
      "0.973032223642145\n",
      "0.9563397129186603\n"
     ]
    }
   ],
   "source": [
    "print(precision_score(pred5, y_test))\n",
    "print(recall_score(pred5, y_test))\n",
    "print(f1_score(pred5, y_test))\n",
    "print(roc_auc_score(pred5, y_test))\n",
    "print(accuracy_score(pred5, y_test))"
   ]
  },
  {
   "cell_type": "markdown",
   "metadata": {
    "ExecuteTime": {
     "end_time": "2020-11-25T15:17:27.689053Z",
     "start_time": "2020-11-25T15:17:27.668095Z"
    }
   },
   "source": [
    "## Voting classifier"
   ]
  },
  {
   "cell_type": "code",
   "execution_count": 123,
   "metadata": {
    "ExecuteTime": {
     "end_time": "2020-11-25T15:33:52.043496Z",
     "start_time": "2020-11-25T15:32:30.254958Z"
    }
   },
   "outputs": [],
   "source": [
    "model = VotingClassifier([\n",
    "    ('rf', RandomForestClassifier(n_estimators=700)),\n",
    "    ('cb',CatBoostClassifier()),\n",
    "    ('mb',MultinomialNB())\n",
    "],\n",
    "    voting='hard',\n",
    "    weights=[1, 1, 1], n_jobs=-1)\n",
    "\n",
    "pipe6 = Pipeline([\n",
    "    ('bow', CountVectorizer(analyzer=removestop)),\n",
    "    ('tfidf', TfidfTransformer()),\n",
    "    ('model', model)\n",
    "])\n",
    "\n",
    "pipe6.fit(X_train, y_train)\n",
    "pred6 = pipe6.predict(X_test)"
   ]
  },
  {
   "cell_type": "code",
   "execution_count": 124,
   "metadata": {
    "ExecuteTime": {
     "end_time": "2020-11-25T15:33:56.498199Z",
     "start_time": "2020-11-25T15:33:56.276463Z"
    }
   },
   "outputs": [
    {
     "name": "stdout",
     "output_type": "stream",
     "text": [
      "              precision    recall  f1-score   support\n",
      "\n",
      "         0.0       1.00      0.96      0.98      1501\n",
      "         1.0       0.76      1.00      0.87       171\n",
      "\n",
      "    accuracy                           0.97      1672\n",
      "   macro avg       0.88      0.98      0.92      1672\n",
      "weighted avg       0.98      0.97      0.97      1672\n",
      "\n",
      "\n",
      "\n",
      "AxesSubplot(0.125,0.125;0.62x0.755)\n"
     ]
    },
    {
     "data": {
      "image/png": "[encoded data removed]",
      "text/plain": [
       "<Figure size 432x288 with 2 Axes>"
      ]
     },
     "metadata": {
      "needs_background": "light"
     },
     "output_type": "display_data"
    }
   ],
   "source": [
    "print(classification_report(pred6, y_test))\n",
    "print('\\n')\n",
    "print(sns.heatmap(confusion_matrix(pred6, y_test), annot=True))"
   ]
  },
  {
   "cell_type": "code",
   "execution_count": 125,
   "metadata": {
    "ExecuteTime": {
     "end_time": "2020-11-25T15:34:00.688870Z",
     "start_time": "2020-11-25T15:34:00.662498Z"
    }
   },
   "outputs": [
    {
     "name": "stdout",
     "output_type": "stream",
     "text": [
      "0.7633928571428571\n",
      "1.0\n",
      "0.8658227848101265\n",
      "0.9823451032644903\n",
      "0.9683014354066986\n"
     ]
    }
   ],
   "source": [
    "print(precision_score(pred6, y_test))\n",
    "print(recall_score(pred6, y_test))\n",
    "print(f1_score(pred6, y_test))\n",
    "print(roc_auc_score(pred6, y_test))\n",
    "print(accuracy_score(pred6, y_test))"
   ]
  },
  {
   "cell_type": "code",
   "execution_count": null,
   "metadata": {},
   "outputs": [],
   "source": []
  }
 ],
 "metadata": {
  "kernelspec": {
   "display_name": "Python [conda env:tf_gpu]",
   "language": "python",
   "name": "conda-env-tf_gpu-py"
  },
  "language_info": {
   "codemirror_mode": {
    "name": "ipython",
    "version": 3
   },
   "file_extension": ".py",
   "mimetype": "text/x-python",
   "name": "python",
   "nbconvert_exporter": "python",
   "pygments_lexer": "ipython3",
   "version": "3.7.8"
  },
  "toc": {
   "base_numbering": 1,
   "nav_menu": {},
   "number_sections": true,
   "sideBar": true,
   "skip_h1_title": false,
   "title_cell": "Table of Contents",
   "title_sidebar": "Contents",
   "toc_cell": false,
   "toc_position": {},
   "toc_section_display": true,
   "toc_window_display": false
  },
  "varInspector": {
   "cols": {
    "lenName": 16,
    "lenType": 16,
    "lenVar": 40
   },
   "kernels_config": {
    "python": {
     "delete_cmd_postfix": "",
     "delete_cmd_prefix": "del ",
     "library": "var_list.py",
     "varRefreshCmd": "print(var_dic_list())"
    },
    "r": {
     "delete_cmd_postfix": ") ",
     "delete_cmd_prefix": "rm(",
     "library": "var_list.r",
     "varRefreshCmd": "cat(var_dic_list()) "
    }
   },
   "types_to_exclude": [
    "module",
    "function",
    "builtin_function_or_method",
    "instance",
    "_Feature"
   ],
   "window_display": false
  }
 },
 "nbformat": 4,
 "nbformat_minor": 4
}
