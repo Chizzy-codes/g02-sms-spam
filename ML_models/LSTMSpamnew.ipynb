{
 "cells": [
  {
   "cell_type": "code",
   "execution_count": 1,
   "metadata": {
    "ExecuteTime": {
     "end_time": "2020-12-12T13:14:07.212295Z",
     "start_time": "2020-12-12T13:11:49.460357Z"
    },
    "id": "hmA6EzkQJ5jt"
   },
   "outputs": [
    {
     "name": "stderr",
     "output_type": "stream",
     "text": [
      "Using TensorFlow backend.\n"
     ]
    }
   ],
   "source": [
    "import tensorflow as tf\n",
    "import random\n",
    "import numpy as np\n",
    "import pandas as pd\n",
    "import seaborn as sns\n",
    "import matplotlib.image  as mpimg\n",
    "import matplotlib.pyplot as plt\n",
    "\n",
    "\n",
    "from tensorflow.keras.preprocessing.text import Tokenizer\n",
    "from tensorflow.keras.preprocessing.sequence import pad_sequences\n",
    "from tensorflow.keras.utils import to_categorical\n",
    "from tensorflow.keras import regularizers\n",
    "from keras.optimizers import SGD, Adam, RMSprop\n",
    "\n",
    "\n",
    "\n",
    "embedding_dim = 100\n",
    "max_length = 150\n",
    "trunc_type='post'\n",
    "padding_type='post'\n",
    "oov_tok = \"<OOV>\"\n",
    "\n"
   ]
  },
  {
   "cell_type": "code",
   "execution_count": 2,
   "metadata": {
    "ExecuteTime": {
     "end_time": "2020-12-12T13:14:07.243289Z",
     "start_time": "2020-12-12T13:14:07.212295Z"
    },
    "id": "7uQOVyc77R1x"
   },
   "outputs": [],
   "source": [
    "#!wget 'https://raw.githubusercontent.com/HamoyeHQ/g02-sms-spam/master/data/spam_additional.csv'\n",
    "#!wget 'https://raw.githubusercontent.com/HamoyeHQ/g02-sms-spam/master/data/spam.csv'"
   ]
  },
  {
   "cell_type": "code",
   "execution_count": 3,
   "metadata": {
    "ExecuteTime": {
     "end_time": "2020-12-12T13:14:07.976276Z",
     "start_time": "2020-12-12T13:14:07.258915Z"
    },
    "id": "bM0l_dORKqE0"
   },
   "outputs": [],
   "source": [
    "\n",
    "\n",
    "data = pd.read_csv('spammm.csv',usecols=['v1', 'v2'],  encoding = 'latin-1')\n",
    "data2 = pd.read_csv('spam_additional.csv',usecols=['Text', 'v3'],  encoding = 'latin-1')\n"
   ]
  },
  {
   "cell_type": "code",
   "execution_count": 4,
   "metadata": {
    "ExecuteTime": {
     "end_time": "2020-12-12T13:14:08.115798Z",
     "start_time": "2020-12-12T13:14:07.976276Z"
    },
    "colab": {
     "base_uri": "https://localhost:8080/",
     "height": 204
    },
    "id": "o7JkfXYQtZ3p",
    "outputId": "6e3ecfaa-4286-4b5d-9ac6-13fd58e6330d"
   },
   "outputs": [
    {
     "data": {
      "text/html": [
       "<div>\n",
       "<style scoped>\n",
       "    .dataframe tbody tr th:only-of-type {\n",
       "        vertical-align: middle;\n",
       "    }\n",
       "\n",
       "    .dataframe tbody tr th {\n",
       "        vertical-align: top;\n",
       "    }\n",
       "\n",
       "    .dataframe thead th {\n",
       "        text-align: right;\n",
       "    }\n",
       "</style>\n",
       "<table border=\"1\" class=\"dataframe\">\n",
       "  <thead>\n",
       "    <tr style=\"text-align: right;\">\n",
       "      <th></th>\n",
       "      <th>v1</th>\n",
       "      <th>v2</th>\n",
       "    </tr>\n",
       "  </thead>\n",
       "  <tbody>\n",
       "    <tr>\n",
       "      <th>0</th>\n",
       "      <td>ham</td>\n",
       "      <td>Go until jurong point, crazy.. Available only ...</td>\n",
       "    </tr>\n",
       "    <tr>\n",
       "      <th>1</th>\n",
       "      <td>ham</td>\n",
       "      <td>Ok lar... Joking wif u oni...,,,</td>\n",
       "    </tr>\n",
       "    <tr>\n",
       "      <th>2</th>\n",
       "      <td>spam</td>\n",
       "      <td>Free entry in 2 a wkly comp to win FA Cup fina...</td>\n",
       "    </tr>\n",
       "    <tr>\n",
       "      <th>3</th>\n",
       "      <td>ham</td>\n",
       "      <td>U dun say so early hor... U c already then say...</td>\n",
       "    </tr>\n",
       "    <tr>\n",
       "      <th>4</th>\n",
       "      <td>ham</td>\n",
       "      <td>Nah I don't think he goes to usf, he lives aro...</td>\n",
       "    </tr>\n",
       "  </tbody>\n",
       "</table>\n",
       "</div>"
      ],
      "text/plain": [
       "     v1                                                 v2\n",
       "0   ham  Go until jurong point, crazy.. Available only ...\n",
       "1   ham                   Ok lar... Joking wif u oni...,,,\n",
       "2  spam  Free entry in 2 a wkly comp to win FA Cup fina...\n",
       "3   ham  U dun say so early hor... U c already then say...\n",
       "4   ham  Nah I don't think he goes to usf, he lives aro..."
      ]
     },
     "execution_count": 4,
     "metadata": {},
     "output_type": "execute_result"
    }
   ],
   "source": [
    "data.head()"
   ]
  },
  {
   "cell_type": "code",
   "execution_count": 5,
   "metadata": {
    "ExecuteTime": {
     "end_time": "2020-12-12T13:14:08.471347Z",
     "start_time": "2020-12-12T13:14:08.120802Z"
    },
    "colab": {
     "base_uri": "https://localhost:8080/",
     "height": 204
    },
    "id": "jxPR-G0w7wgx",
    "outputId": "d3eaea4a-6611-4bb9-9493-0cb972358ed4"
   },
   "outputs": [
    {
     "data": {
      "text/html": [
       "<div>\n",
       "<style scoped>\n",
       "    .dataframe tbody tr th:only-of-type {\n",
       "        vertical-align: middle;\n",
       "    }\n",
       "\n",
       "    .dataframe tbody tr th {\n",
       "        vertical-align: top;\n",
       "    }\n",
       "\n",
       "    .dataframe thead th {\n",
       "        text-align: right;\n",
       "    }\n",
       "</style>\n",
       "<table border=\"1\" class=\"dataframe\">\n",
       "  <thead>\n",
       "    <tr style=\"text-align: right;\">\n",
       "      <th></th>\n",
       "      <th>Text</th>\n",
       "      <th>v3</th>\n",
       "    </tr>\n",
       "  </thead>\n",
       "  <tbody>\n",
       "    <tr>\n",
       "      <th>0</th>\n",
       "      <td>Dear Customer,\\nThis is a confirmation that th...</td>\n",
       "      <td>spam</td>\n",
       "    </tr>\n",
       "    <tr>\n",
       "      <th>1</th>\n",
       "      <td>Hello ADEYINKA, present your CV for interview ...</td>\n",
       "      <td>spam</td>\n",
       "    </tr>\n",
       "    <tr>\n",
       "      <th>2</th>\n",
       "      <td>Edgerit Limited invites you for an interview f...</td>\n",
       "      <td>spam</td>\n",
       "    </tr>\n",
       "    <tr>\n",
       "      <th>3</th>\n",
       "      <td>You are invited for an aptitude test with UBA ...</td>\n",
       "      <td>spam</td>\n",
       "    </tr>\n",
       "    <tr>\n",
       "      <th>4</th>\n",
       "      <td>Mag consult ltd, shortlisted (you/candidate no...</td>\n",
       "      <td>spam</td>\n",
       "    </tr>\n",
       "  </tbody>\n",
       "</table>\n",
       "</div>"
      ],
      "text/plain": [
       "                                                Text    v3\n",
       "0  Dear Customer,\\nThis is a confirmation that th...  spam\n",
       "1  Hello ADEYINKA, present your CV for interview ...  spam\n",
       "2  Edgerit Limited invites you for an interview f...  spam\n",
       "3  You are invited for an aptitude test with UBA ...  spam\n",
       "4  Mag consult ltd, shortlisted (you/candidate no...  spam"
      ]
     },
     "execution_count": 5,
     "metadata": {},
     "output_type": "execute_result"
    }
   ],
   "source": [
    "data2.head()"
   ]
  },
  {
   "cell_type": "code",
   "execution_count": 6,
   "metadata": {
    "ExecuteTime": {
     "end_time": "2020-12-12T13:14:08.983001Z",
     "start_time": "2020-12-12T13:14:08.475355Z"
    },
    "id": "At8DB-1Y6yzJ"
   },
   "outputs": [],
   "source": [
    "data.dropna(inplace=True,axis=1)\n",
    "data.rename(columns={\"v1\":\"label\",\"v2\":\"message\"},inplace=True)"
   ]
  },
  {
   "cell_type": "code",
   "execution_count": 7,
   "metadata": {
    "ExecuteTime": {
     "end_time": "2020-12-12T13:14:09.478000Z",
     "start_time": "2020-12-12T13:14:08.987007Z"
    },
    "id": "ksafuedC-Z5Z"
   },
   "outputs": [],
   "source": [
    "data2 = data2[['Text','v3']].copy()\n",
    "data2.rename(columns={\"v3\":\"label\",\"Text\":\"message\"},inplace=True)"
   ]
  },
  {
   "cell_type": "code",
   "execution_count": 8,
   "metadata": {
    "ExecuteTime": {
     "end_time": "2020-12-12T13:14:09.951229Z",
     "start_time": "2020-12-12T13:14:09.485004Z"
    },
    "id": "azf6ihq7-teA"
   },
   "outputs": [
    {
     "name": "stderr",
     "output_type": "stream",
     "text": [
      "C:\\Users\\Chizurum_Olorondu\\anaconda3\\envs\\tf_gpu\\lib\\site-packages\\pandas\\core\\frame.py:6692: FutureWarning: Sorting because non-concatenation axis is not aligned. A future version\n",
      "of pandas will change to not sort by default.\n",
      "\n",
      "To accept the future behavior, pass 'sort=False'.\n",
      "\n",
      "To retain the current behavior and silence the warning, pass 'sort=True'.\n",
      "\n",
      "  sort=sort)\n"
     ]
    }
   ],
   "source": [
    "# merge the datframes\n",
    "data = data.append(data2)"
   ]
  },
  {
   "cell_type": "code",
   "execution_count": 9,
   "metadata": {
    "ExecuteTime": {
     "end_time": "2020-12-12T13:14:10.028235Z",
     "start_time": "2020-12-12T13:14:09.967240Z"
    },
    "colab": {
     "base_uri": "https://localhost:8080/",
     "height": 514
    },
    "id": "fwKKs6J9mPkB",
    "outputId": "4b62e42d-9c7f-4114-d537-2422c1b334c2"
   },
   "outputs": [
    {
     "data": {
      "text/html": [
       "<div>\n",
       "<style scoped>\n",
       "    .dataframe tbody tr th:only-of-type {\n",
       "        vertical-align: middle;\n",
       "    }\n",
       "\n",
       "    .dataframe tbody tr th {\n",
       "        vertical-align: top;\n",
       "    }\n",
       "\n",
       "    .dataframe thead th {\n",
       "        text-align: right;\n",
       "    }\n",
       "</style>\n",
       "<table border=\"1\" class=\"dataframe\">\n",
       "  <thead>\n",
       "    <tr style=\"text-align: right;\">\n",
       "      <th></th>\n",
       "      <th>label</th>\n",
       "      <th>message</th>\n",
       "    </tr>\n",
       "  </thead>\n",
       "  <tbody>\n",
       "    <tr>\n",
       "      <th>425</th>\n",
       "      <td>spam</td>\n",
       "      <td>PayPal Notification Your account has been temp...</td>\n",
       "    </tr>\n",
       "    <tr>\n",
       "      <th>426</th>\n",
       "      <td>spam</td>\n",
       "      <td>Never Share this code for your bank OTP 1234 M...</td>\n",
       "    </tr>\n",
       "    <tr>\n",
       "      <th>427</th>\n",
       "      <td>spam</td>\n",
       "      <td>Halifax has noticed your Debit card was recent...</td>\n",
       "    </tr>\n",
       "    <tr>\n",
       "      <th>428</th>\n",
       "      <td>spam</td>\n",
       "      <td>Free VZW Msg: You're on the phone with Verizon...</td>\n",
       "    </tr>\n",
       "    <tr>\n",
       "      <th>429</th>\n",
       "      <td>spam</td>\n",
       "      <td>Santander has noticed your debit card was rece...</td>\n",
       "    </tr>\n",
       "    <tr>\n",
       "      <th>430</th>\n",
       "      <td>spam</td>\n",
       "      <td>Today is our 10 you anniversary! To celebrate,...</td>\n",
       "    </tr>\n",
       "    <tr>\n",
       "      <th>431</th>\n",
       "      <td>spam</td>\n",
       "      <td>WELLS FARGO ALERT: Your CARD starting with 486...</td>\n",
       "    </tr>\n",
       "    <tr>\n",
       "      <th>432</th>\n",
       "      <td>spam</td>\n",
       "      <td>You have been selected for a FREE $1,000 Bestb...</td>\n",
       "    </tr>\n",
       "    <tr>\n",
       "      <th>433</th>\n",
       "      <td>spam</td>\n",
       "      <td>Your BOI online access has been locked for sec...</td>\n",
       "    </tr>\n",
       "    <tr>\n",
       "      <th>434</th>\n",
       "      <td>spam</td>\n",
       "      <td>&lt;CitiSG&gt; Did you authorise a charge on your ca...</td>\n",
       "    </tr>\n",
       "    <tr>\n",
       "      <th>435</th>\n",
       "      <td>spam</td>\n",
       "      <td>This is a fraud alert from HSBC. We need to ve...</td>\n",
       "    </tr>\n",
       "    <tr>\n",
       "      <th>436</th>\n",
       "      <td>spam</td>\n",
       "      <td>80% Off Louis Vuitton Handbags Save Up To 80% ...</td>\n",
       "    </tr>\n",
       "    <tr>\n",
       "      <th>437</th>\n",
       "      <td>spam</td>\n",
       "      <td>This Diwali book your spacious 2bhk apt @The G...</td>\n",
       "    </tr>\n",
       "    <tr>\n",
       "      <th>438</th>\n",
       "      <td>spam</td>\n",
       "      <td>(We are sorry but your:BnkOfAmericaDEBIT is te...</td>\n",
       "    </tr>\n",
       "    <tr>\n",
       "      <th>439</th>\n",
       "      <td>spam</td>\n",
       "      <td>to use a new promotional balance transfer rate...</td>\n",
       "    </tr>\n",
       "  </tbody>\n",
       "</table>\n",
       "</div>"
      ],
      "text/plain": [
       "    label                                            message\n",
       "425  spam  PayPal Notification Your account has been temp...\n",
       "426  spam  Never Share this code for your bank OTP 1234 M...\n",
       "427  spam  Halifax has noticed your Debit card was recent...\n",
       "428  spam  Free VZW Msg: You're on the phone with Verizon...\n",
       "429  spam  Santander has noticed your debit card was rece...\n",
       "430  spam  Today is our 10 you anniversary! To celebrate,...\n",
       "431  spam  WELLS FARGO ALERT: Your CARD starting with 486...\n",
       "432  spam  You have been selected for a FREE $1,000 Bestb...\n",
       "433  spam  Your BOI online access has been locked for sec...\n",
       "434  spam  <CitiSG> Did you authorise a charge on your ca...\n",
       "435  spam  This is a fraud alert from HSBC. We need to ve...\n",
       "436  spam  80% Off Louis Vuitton Handbags Save Up To 80% ...\n",
       "437  spam  This Diwali book your spacious 2bhk apt @The G...\n",
       "438  spam  (We are sorry but your:BnkOfAmericaDEBIT is te...\n",
       "439  spam  to use a new promotional balance transfer rate..."
      ]
     },
     "execution_count": 9,
     "metadata": {},
     "output_type": "execute_result"
    }
   ],
   "source": [
    "# before shuffling\n",
    "data.tail(15)"
   ]
  },
  {
   "cell_type": "code",
   "execution_count": 10,
   "metadata": {
    "ExecuteTime": {
     "end_time": "2020-12-12T13:14:10.648028Z",
     "start_time": "2020-12-12T13:14:10.048240Z"
    },
    "id": "5LY2EJ6T_5F5"
   },
   "outputs": [],
   "source": [
    "# To drop duplicated rows\n",
    "data.drop_duplicates(inplace=True)"
   ]
  },
  {
   "cell_type": "code",
   "execution_count": 11,
   "metadata": {
    "ExecuteTime": {
     "end_time": "2020-12-12T13:14:10.909022Z",
     "start_time": "2020-12-12T13:14:10.652033Z"
    },
    "id": "Tf8OpH5YDFvo"
   },
   "outputs": [],
   "source": [
    "# shuffle rows\n",
    "data = data.sample(frac = 1, random_state=44).reset_index(drop=True)"
   ]
  },
  {
   "cell_type": "code",
   "execution_count": 12,
   "metadata": {
    "ExecuteTime": {
     "end_time": "2020-12-12T13:14:11.267028Z",
     "start_time": "2020-12-12T13:14:10.913031Z"
    },
    "colab": {
     "base_uri": "https://localhost:8080/",
     "height": 514
    },
    "id": "w1mINKdhmL4f",
    "outputId": "7ca92f8a-97d9-496e-9d74-41d25405f75e"
   },
   "outputs": [
    {
     "data": {
      "text/html": [
       "<div>\n",
       "<style scoped>\n",
       "    .dataframe tbody tr th:only-of-type {\n",
       "        vertical-align: middle;\n",
       "    }\n",
       "\n",
       "    .dataframe tbody tr th {\n",
       "        vertical-align: top;\n",
       "    }\n",
       "\n",
       "    .dataframe thead th {\n",
       "        text-align: right;\n",
       "    }\n",
       "</style>\n",
       "<table border=\"1\" class=\"dataframe\">\n",
       "  <thead>\n",
       "    <tr style=\"text-align: right;\">\n",
       "      <th></th>\n",
       "      <th>label</th>\n",
       "      <th>message</th>\n",
       "    </tr>\n",
       "  </thead>\n",
       "  <tbody>\n",
       "    <tr>\n",
       "      <th>5587</th>\n",
       "      <td>spam</td>\n",
       "      <td>XMAS Prize draws! We are trying to contact U. ...</td>\n",
       "    </tr>\n",
       "    <tr>\n",
       "      <th>5588</th>\n",
       "      <td>ham</td>\n",
       "      <td>Ya srsly better than yi tho,,,</td>\n",
       "    </tr>\n",
       "    <tr>\n",
       "      <th>5589</th>\n",
       "      <td>ham</td>\n",
       "      <td>Lol its ok I didn't remember til last nite,,,</td>\n",
       "    </tr>\n",
       "    <tr>\n",
       "      <th>5590</th>\n",
       "      <td>ham</td>\n",
       "      <td>Yup. Anything lor, if u dun wan it's ok...,,,</td>\n",
       "    </tr>\n",
       "    <tr>\n",
       "      <th>5591</th>\n",
       "      <td>ham</td>\n",
       "      <td>here is my new address -apples&amp;pairs&amp;all that ...</td>\n",
       "    </tr>\n",
       "    <tr>\n",
       "      <th>5592</th>\n",
       "      <td>spam</td>\n",
       "      <td>Thanks for your ringtone order, reference numb...</td>\n",
       "    </tr>\n",
       "    <tr>\n",
       "      <th>5593</th>\n",
       "      <td>ham</td>\n",
       "      <td>Hello. No news on job, they are making me wait...</td>\n",
       "    </tr>\n",
       "    <tr>\n",
       "      <th>5594</th>\n",
       "      <td>ham</td>\n",
       "      <td>I had been hoping i would not have to send you...</td>\n",
       "    </tr>\n",
       "    <tr>\n",
       "      <th>5595</th>\n",
       "      <td>ham</td>\n",
       "      <td>Wa... U so efficient... Gee... Thanx...,,,</td>\n",
       "    </tr>\n",
       "    <tr>\n",
       "      <th>5596</th>\n",
       "      <td>ham</td>\n",
       "      <td>Hey... Thk we juz go accordin to wat we discus...</td>\n",
       "    </tr>\n",
       "    <tr>\n",
       "      <th>5597</th>\n",
       "      <td>ham</td>\n",
       "      <td>The LAY MAN! Just to let you know you are miss...</td>\n",
       "    </tr>\n",
       "    <tr>\n",
       "      <th>5598</th>\n",
       "      <td>ham</td>\n",
       "      <td>Huh so early.. Then Ã_ having dinner outside ...</td>\n",
       "    </tr>\n",
       "    <tr>\n",
       "      <th>5599</th>\n",
       "      <td>ham</td>\n",
       "      <td>have got * few things to do. may be in * pub l...</td>\n",
       "    </tr>\n",
       "    <tr>\n",
       "      <th>5600</th>\n",
       "      <td>ham</td>\n",
       "      <td>Hey babe, sorry i didn't get sooner. Gary can ...</td>\n",
       "    </tr>\n",
       "    <tr>\n",
       "      <th>5601</th>\n",
       "      <td>ham</td>\n",
       "      <td>Kent vale lor... ÃÃ wait 4 me there ar?,,,</td>\n",
       "    </tr>\n",
       "  </tbody>\n",
       "</table>\n",
       "</div>"
      ],
      "text/plain": [
       "     label                                            message\n",
       "5587  spam  XMAS Prize draws! We are trying to contact U. ...\n",
       "5588   ham                     Ya srsly better than yi tho,,,\n",
       "5589   ham      Lol its ok I didn't remember til last nite,,,\n",
       "5590   ham      Yup. Anything lor, if u dun wan it's ok...,,,\n",
       "5591   ham  here is my new address -apples&pairs&all that ...\n",
       "5592  spam  Thanks for your ringtone order, reference numb...\n",
       "5593   ham  Hello. No news on job, they are making me wait...\n",
       "5594   ham  I had been hoping i would not have to send you...\n",
       "5595   ham         Wa... U so efficient... Gee... Thanx...,,,\n",
       "5596   ham  Hey... Thk we juz go accordin to wat we discus...\n",
       "5597   ham  The LAY MAN! Just to let you know you are miss...\n",
       "5598   ham  Huh so early.. Then Ã_ having dinner outside ...\n",
       "5599   ham  have got * few things to do. may be in * pub l...\n",
       "5600   ham  Hey babe, sorry i didn't get sooner. Gary can ...\n",
       "5601   ham       Kent vale lor... ÃÃ wait 4 me there ar?,,,"
      ]
     },
     "execution_count": 12,
     "metadata": {},
     "output_type": "execute_result"
    }
   ],
   "source": [
    "# after shuffling\n",
    "data.tail(15)"
   ]
  },
  {
   "cell_type": "code",
   "execution_count": 13,
   "metadata": {
    "ExecuteTime": {
     "end_time": "2020-12-12T13:14:13.000723Z",
     "start_time": "2020-12-12T13:14:11.271024Z"
    },
    "colab": {
     "base_uri": "https://localhost:8080/",
     "height": 460
    },
    "id": "8HcDT54D-Br2",
    "outputId": "383c2263-aa31-4d92-e07c-5f956008eabe"
   },
   "outputs": [
    {
     "data": {
      "image/png": "[encoded data removed]",
      "text/plain": [
       "<Figure size 1080x504 with 1 Axes>"
      ]
     },
     "metadata": {
      "needs_background": "light"
     },
     "output_type": "display_data"
    }
   ],
   "source": [
    "plt.figure(figsize=(15,7))\n",
    "sns.set_style(\"darkgrid\")\n",
    "splot = sns.countplot(x=\"label\",data=data)\n",
    "for p in splot.patches:\n",
    "    splot.annotate(format(p.get_height(), '.2f'), (p.get_x() + p.get_width() / 2., p.get_height()), \\\n",
    "                   ha = 'center', va = 'center', xytext = (0, 10), textcoords = 'offset points')\n",
    "plt.title('Target column countplot', size=15)\n",
    "plt.show()"
   ]
  },
  {
   "cell_type": "markdown",
   "metadata": {
    "id": "u6nBB08Y-qV4"
   },
   "source": [
    "The data target is highly imbalance.\n",
    "Appropriate weight balancing method will be applied to counter the imbalance"
   ]
  },
  {
   "cell_type": "markdown",
   "metadata": {
    "id": "z8MB7EcO99_V"
   },
   "source": [
    "# Text Preprocessing"
   ]
  },
  {
   "cell_type": "code",
   "execution_count": 14,
   "metadata": {
    "ExecuteTime": {
     "end_time": "2020-12-12T13:14:28.974191Z",
     "start_time": "2020-12-12T13:14:13.004728Z"
    },
    "id": "np6-pRvHPkh-"
   },
   "outputs": [],
   "source": [
    "import spacy"
   ]
  },
  {
   "cell_type": "code",
   "execution_count": 15,
   "metadata": {
    "ExecuteTime": {
     "end_time": "2020-12-12T13:14:28.990144Z",
     "start_time": "2020-12-12T13:14:28.980124Z"
    }
   },
   "outputs": [],
   "source": [
    "#!python -m spacy download en"
   ]
  },
  {
   "cell_type": "code",
   "execution_count": 16,
   "metadata": {
    "ExecuteTime": {
     "end_time": "2020-12-12T13:14:32.747533Z",
     "start_time": "2020-12-12T13:14:28.997123Z"
    },
    "id": "os0crfcDuQit"
   },
   "outputs": [],
   "source": [
    "nlp = spacy.load('en_core_web_sm', disable=['tagger', 'parser', 'ner'])\n",
    "spacy_stop_words = spacy.lang.en.STOP_WORDS # getting spacy's stop-words"
   ]
  },
  {
   "cell_type": "code",
   "execution_count": 17,
   "metadata": {
    "ExecuteTime": {
     "end_time": "2020-12-12T13:14:32.809829Z",
     "start_time": "2020-12-12T13:14:32.752548Z"
    },
    "id": "jGYFi3f0udJm"
   },
   "outputs": [],
   "source": [
    "#Stopwords list from https://github.com/Yoast/YoastSEO.js/blob/develop/src/config/stopwords.js\n",
    "# Convert it to a Python list and paste it here\n",
    "stopwords = [ \"a\", \"about\", \"above\", \"after\", \"again\", \"against\", \"all\", \"am\", \"an\", \"and\", \"any\", \"are\", \"as\", \"at\", \"be\", \"because\", \"been\", \"before\", \"being\", \"below\", \"between\", \"both\", \"but\", \"by\", \"could\", \"did\", \"do\", \"does\", \"doing\", \"down\", \"during\", \"each\", \"few\", \"for\", \"from\", \"further\", \"had\", \"has\", \"have\", \"having\", \"he\", \"he'd\", \"he'll\", \"he's\", \"her\", \"here\", \"here's\", \"hers\", \"herself\", \"him\", \"himself\", \"his\", \"how\", \"how's\", \"i\", \"i'd\", \"i'll\", \"i'm\", \"i've\", \"if\", \"in\", \"into\", \"is\", \"it\", \"it's\", \"its\", \"itself\", \"let's\", \"me\", \"more\", \"most\", \"my\", \"myself\", \"nor\", \"of\", \"on\", \"once\", \"only\", \"or\", \"other\", \"ought\", \"our\", \"ours\", \"ourselves\", \"out\", \"over\", \"own\", \"same\", \"she\", \"she'd\", \"she'll\", \"she's\", \"should\", \"so\", \"some\", \"such\", \"than\", \"that\", \"that's\", \"the\", \"their\", \"theirs\", \"them\", \"themselves\", \"then\", \"there\", \"there's\", \"these\", \"they\", \"they'd\", \"they'll\", \"they're\", \"they've\", \"this\", \"those\", \"through\", \"to\", \"too\", \"under\", \"until\", \"up\", \"very\", \"was\", \"we\", \"we'd\", \"we'll\", \"we're\", \"we've\", \"were\", \"what\", \"what's\", \"when\", \"when's\", \"where\", \"where's\", \"which\", \"while\", \"who\", \"who's\", \"whom\", \"why\", \"why's\", \"with\", \"would\", \"you\", \"you'd\", \"you'll\", \"you're\", \"you've\", \"your\", \"yours\", \"yourself\", \"yourselves\" ]"
   ]
  },
  {
   "cell_type": "code",
   "execution_count": 18,
   "metadata": {
    "ExecuteTime": {
     "end_time": "2020-12-12T13:14:33.146115Z",
     "start_time": "2020-12-12T13:14:32.813831Z"
    },
    "id": "gkXxRFahunM9"
   },
   "outputs": [],
   "source": [
    "stop_words = list(set(list(spacy_stop_words) + stopwords))\n",
    "stopwords = list({word.lemma_.lower() for word in nlp(' '.join(stop_words))})"
   ]
  },
  {
   "cell_type": "code",
   "execution_count": 19,
   "metadata": {
    "ExecuteTime": {
     "end_time": "2020-12-12T13:14:33.413953Z",
     "start_time": "2020-12-12T13:14:33.150120Z"
    },
    "id": "A0_OfliUunTb"
   },
   "outputs": [],
   "source": [
    "# defining tokenzer function to tokenize the lower case lemma of documents in a corpus and \n",
    "# filter out stop-words  \n",
    "def tokenizer_spacy(text):\n",
    "    return [word.lemma_.lower() for word in nlp(text) if word.is_alpha and word.lemma_.lower() not in stopwords]"
   ]
  },
  {
   "cell_type": "code",
   "execution_count": 20,
   "metadata": {
    "ExecuteTime": {
     "end_time": "2020-12-12T13:14:33.771346Z",
     "start_time": "2020-12-12T13:14:33.423833Z"
    },
    "id": "DH_GNDY9R3TC"
   },
   "outputs": [],
   "source": [
    "#Replace the target colunms with binary number\n",
    "data.replace({'ham':1,'spam':0},inplace=True)"
   ]
  },
  {
   "cell_type": "code",
   "execution_count": 21,
   "metadata": {
    "ExecuteTime": {
     "end_time": "2020-12-12T13:14:34.108917Z",
     "start_time": "2020-12-12T13:14:33.783333Z"
    },
    "id": "Ta-41NgDuz2u"
   },
   "outputs": [],
   "source": [
    "sentences = data['message']\n",
    "labels=data['label']"
   ]
  },
  {
   "cell_type": "code",
   "execution_count": 22,
   "metadata": {
    "ExecuteTime": {
     "end_time": "2020-12-12T13:14:34.604189Z",
     "start_time": "2020-12-12T13:14:34.112921Z"
    },
    "id": "TOixVcw3Qi-w"
   },
   "outputs": [],
   "source": [
    "#Replace the target colunms with binary number\n",
    "data.replace({'ham':1,'spam':0},inplace=True)"
   ]
  },
  {
   "cell_type": "code",
   "execution_count": 23,
   "metadata": {
    "ExecuteTime": {
     "end_time": "2020-12-12T13:14:34.815582Z",
     "start_time": "2020-12-12T13:14:34.613521Z"
    },
    "id": "OxY1BcNpuz7f"
   },
   "outputs": [],
   "source": [
    "senten = [word for word in sentences if word not in stopwords] # stopword filtering"
   ]
  },
  {
   "cell_type": "code",
   "execution_count": 24,
   "metadata": {
    "ExecuteTime": {
     "end_time": "2020-12-12T13:14:38.710260Z",
     "start_time": "2020-12-12T13:14:34.822591Z"
    },
    "id": "MCKqPPcuuz9z"
   },
   "outputs": [],
   "source": [
    "# tokenize (lemmatize and filter stop words) corpus \n",
    "senten = [' '.join(tokenizer_spacy(doc)) for doc in senten]"
   ]
  },
  {
   "cell_type": "code",
   "execution_count": 25,
   "metadata": {
    "ExecuteTime": {
     "end_time": "2020-12-12T13:14:38.757267Z",
     "start_time": "2020-12-12T13:14:38.714259Z"
    },
    "colab": {
     "base_uri": "https://localhost:8080/",
     "height": 35
    },
    "id": "eczQiKtlvW_B",
    "outputId": "9edafbae-7846-471c-a87e-92d431567719"
   },
   "outputs": [
    {
     "data": {
      "text/plain": [
       "\"Shuhui has bought ron's present it's a swatch watch...,,,\""
      ]
     },
     "execution_count": 25,
     "metadata": {},
     "output_type": "execute_result"
    }
   ],
   "source": [
    "sentences[0]"
   ]
  },
  {
   "cell_type": "code",
   "execution_count": 26,
   "metadata": {
    "ExecuteTime": {
     "end_time": "2020-12-12T13:14:39.459292Z",
     "start_time": "2020-12-12T13:14:38.763261Z"
    },
    "colab": {
     "base_uri": "https://localhost:8080/",
     "height": 35
    },
    "id": "4KkWwKfyvXFu",
    "outputId": "4703026b-041d-4903-f34b-323c85f5cc51"
   },
   "outputs": [
    {
     "data": {
      "text/plain": [
       "'shuhui buy ron present swatch watch'"
      ]
     },
     "execution_count": 26,
     "metadata": {},
     "output_type": "execute_result"
    }
   ],
   "source": [
    "senten[0]"
   ]
  },
  {
   "cell_type": "code",
   "execution_count": 27,
   "metadata": {
    "ExecuteTime": {
     "end_time": "2020-12-12T13:14:39.912287Z",
     "start_time": "2020-12-12T13:14:39.463293Z"
    },
    "id": "8ZpPU4gfvXIK"
   },
   "outputs": [],
   "source": [
    "# word tokenizing\n",
    "tokenizer = Tokenizer(oov_token=oov_tok)\n",
    "tokenizer.fit_on_texts(senten)\n",
    "\n",
    "word_index = tokenizer.word_index"
   ]
  },
  {
   "cell_type": "code",
   "execution_count": 28,
   "metadata": {
    "ExecuteTime": {
     "end_time": "2020-12-12T13:14:40.304318Z",
     "start_time": "2020-12-12T13:14:39.916292Z"
    },
    "id": "ohOGz24lsNAD"
   },
   "outputs": [],
   "source": [
    "vocab_size=len(word_index)\n",
    "\n",
    "# padding and converting to numeric sequence\n",
    "sequences = tokenizer.texts_to_sequences(sentences)\n",
    "padded = pad_sequences(sequences, maxlen=max_length, padding=padding_type, truncating=trunc_type)"
   ]
  },
  {
   "cell_type": "code",
   "execution_count": 29,
   "metadata": {
    "ExecuteTime": {
     "end_time": "2020-12-12T13:14:40.411474Z",
     "start_time": "2020-12-12T13:14:40.307760Z"
    },
    "colab": {
     "base_uri": "https://localhost:8080/"
    },
    "id": "gIrtRem1En3N",
    "outputId": "58fa41cb-fb56-40cd-e6ae-f7de3268c20d"
   },
   "outputs": [
    {
     "name": "stdout",
     "output_type": "stream",
     "text": [
      "7633\n"
     ]
    }
   ],
   "source": [
    "print(vocab_size)"
   ]
  },
  {
   "cell_type": "code",
   "execution_count": 30,
   "metadata": {
    "ExecuteTime": {
     "end_time": "2020-12-12T13:14:43.268471Z",
     "start_time": "2020-12-12T13:14:40.415478Z"
    },
    "id": "6ZNxzSxYwJ4A"
   },
   "outputs": [],
   "source": [
    "from sklearn.model_selection import train_test_split\n",
    "training_sequences, test_sequences, training_labels, test_labels = train_test_split(padded, labels, test_size=0.25, random_state=42)"
   ]
  },
  {
   "cell_type": "code",
   "execution_count": 31,
   "metadata": {
    "ExecuteTime": {
     "end_time": "2020-12-12T13:14:43.331035Z",
     "start_time": "2020-12-12T13:14:43.268471Z"
    },
    "colab": {
     "base_uri": "https://localhost:8080/"
    },
    "id": "JlLc_SeClXEu",
    "outputId": "969f66c8-39f1-4c97-ac64-8377de8b8bda"
   },
   "outputs": [
    {
     "name": "stdout",
     "output_type": "stream",
     "text": [
      "Frequency of unique values of the training_labels array:\n",
      "[[   0    1]\n",
      " [ 810 3391]]\n",
      "\n",
      "\n",
      "Frequency of unique values of the test_labels array:\n",
      "[[   0    1]\n",
      " [ 276 1125]]\n"
     ]
    }
   ],
   "source": [
    "unique_elements, counts_elements = np.unique(training_labels, return_counts=True)\n",
    "print(\"Frequency of unique values of the training_labels array:\")\n",
    "print(np.asarray((unique_elements, counts_elements)))\n",
    "\n",
    "print('\\n')\n",
    "\n",
    "unique_elements, counts_elements = np.unique(test_labels, return_counts=True)\n",
    "print(\"Frequency of unique values of the test_labels array:\")\n",
    "print(np.asarray((unique_elements, counts_elements)))"
   ]
  },
  {
   "cell_type": "markdown",
   "metadata": {
    "id": "qPU0M_3W_k5B"
   },
   "source": [
    "# Class weight balancing"
   ]
  },
  {
   "cell_type": "code",
   "execution_count": 32,
   "metadata": {
    "ExecuteTime": {
     "end_time": "2020-12-12T13:14:43.565032Z",
     "start_time": "2020-12-12T13:14:43.336040Z"
    },
    "id": "PGrB7whwwErX"
   },
   "outputs": [
    {
     "name": "stderr",
     "output_type": "stream",
     "text": [
      "C:\\Users\\Chizurum_Olorondu\\anaconda3\\envs\\tf_gpu\\lib\\site-packages\\sklearn\\utils\\validation.py:71: FutureWarning: Pass classes=[0 1], y=0       1\n",
      "1       1\n",
      "2       1\n",
      "3       1\n",
      "4       1\n",
      "5       1\n",
      "6       1\n",
      "7       1\n",
      "8       1\n",
      "9       1\n",
      "10      1\n",
      "11      1\n",
      "12      1\n",
      "13      1\n",
      "14      1\n",
      "15      1\n",
      "16      1\n",
      "17      1\n",
      "18      1\n",
      "19      1\n",
      "20      1\n",
      "21      1\n",
      "22      1\n",
      "23      1\n",
      "24      1\n",
      "25      1\n",
      "26      1\n",
      "27      1\n",
      "28      1\n",
      "29      1\n",
      "       ..\n",
      "5572    0\n",
      "5573    1\n",
      "5574    1\n",
      "5575    1\n",
      "5576    1\n",
      "5577    1\n",
      "5578    1\n",
      "5579    1\n",
      "5580    1\n",
      "5581    0\n",
      "5582    0\n",
      "5583    1\n",
      "5584    1\n",
      "5585    1\n",
      "5586    1\n",
      "5587    0\n",
      "5588    1\n",
      "5589    1\n",
      "5590    1\n",
      "5591    1\n",
      "5592    0\n",
      "5593    1\n",
      "5594    1\n",
      "5595    1\n",
      "5596    1\n",
      "5597    1\n",
      "5598    1\n",
      "5599    1\n",
      "5600    1\n",
      "5601    1\n",
      "Name: label, Length: 5602, dtype: int64 as keyword args. From version 0.25 passing these as positional arguments will result in an error\n",
      "  FutureWarning)\n"
     ]
    }
   ],
   "source": [
    "from sklearn.utils import class_weight\n",
    "class_weights = dict(zip(np.unique(labels), class_weight.compute_class_weight('balanced',\n",
    "                                                 np.unique(labels),\n",
    "                                                 labels))) "
   ]
  },
  {
   "cell_type": "markdown",
   "metadata": {
    "id": "swYy8SXv_vT2"
   },
   "source": [
    "# Modelling"
   ]
  },
  {
   "cell_type": "code",
   "execution_count": 33,
   "metadata": {
    "ExecuteTime": {
     "end_time": "2020-12-12T13:19:33.229511Z",
     "start_time": "2020-12-12T13:14:43.571037Z"
    },
    "colab": {
     "base_uri": "https://localhost:8080/"
    },
    "id": "iKKvbuEBOGFz",
    "outputId": "9a520a04-8fd3-4f95-f91b-08f4e8b5e4ed"
   },
   "outputs": [
    {
     "name": "stdout",
     "output_type": "stream",
     "text": [
      "Model: \"sequential\"\n",
      "_________________________________________________________________\n",
      "Layer (type)                 Output Shape              Param #   \n",
      "=================================================================\n",
      "embedding (Embedding)        (None, 150, 100)          763400    \n",
      "_________________________________________________________________\n",
      "dropout (Dropout)            (None, 150, 100)          0         \n",
      "_________________________________________________________________\n",
      "bidirectional (Bidirectional (None, 610)               990640    \n",
      "_________________________________________________________________\n",
      "dropout_1 (Dropout)          (None, 610)               0         \n",
      "_________________________________________________________________\n",
      "dense (Dense)                (None, 1)                 611       \n",
      "=================================================================\n",
      "Total params: 1,754,651\n",
      "Trainable params: 1,754,651\n",
      "Non-trainable params: 0\n",
      "_________________________________________________________________\n",
      "WARNING:tensorflow:sample_weight modes were coerced from\n",
      "  ...\n",
      "    to  \n",
      "  ['...']\n",
      "WARNING:tensorflow:sample_weight modes were coerced from\n",
      "  ...\n",
      "    to  \n",
      "  ['...']\n",
      "Train on 4201 samples, validate on 1401 samples\n",
      "Epoch 1/20\n",
      "4201/4201 - 63s - loss: 0.4161 - accuracy: 0.8141 - val_loss: 0.1242 - val_accuracy: 0.9743\n",
      "Epoch 2/20\n",
      "4201/4201 - 16s - loss: 0.0971 - accuracy: 0.9795 - val_loss: 0.0907 - val_accuracy: 0.9800\n",
      "Epoch 3/20\n",
      "4201/4201 - 16s - loss: 0.0454 - accuracy: 0.9912 - val_loss: 0.1073 - val_accuracy: 0.9829\n",
      "Epoch 4/20\n",
      "\n",
      "Epoch 00004: ReduceLROnPlateau reducing learning rate to 0.00010000000474974513.\n",
      "4201/4201 - 16s - loss: 0.1719 - accuracy: 0.9614 - val_loss: 0.1111 - val_accuracy: 0.9586\n",
      "Epoch 5/20\n",
      "4201/4201 - 16s - loss: 0.0335 - accuracy: 0.9955 - val_loss: 0.1002 - val_accuracy: 0.9793\n",
      "Epoch 6/20\n",
      "4201/4201 - 16s - loss: 0.0284 - accuracy: 0.9960 - val_loss: 0.0913 - val_accuracy: 0.9793\n",
      "Epoch 7/20\n",
      "4201/4201 - 16s - loss: 0.0263 - accuracy: 0.9962 - val_loss: 0.0876 - val_accuracy: 0.9807\n",
      "Epoch 8/20\n",
      "4201/4201 - 16s - loss: 0.0234 - accuracy: 0.9971 - val_loss: 0.0944 - val_accuracy: 0.9822\n",
      "Epoch 9/20\n",
      "\n",
      "Epoch 00009: ReduceLROnPlateau reducing learning rate to 1.0000000474974514e-05.\n",
      "4201/4201 - 16s - loss: 0.0205 - accuracy: 0.9974 - val_loss: 0.0911 - val_accuracy: 0.9822\n",
      "Epoch 10/20\n",
      "4201/4201 - 16s - loss: 0.0187 - accuracy: 0.9971 - val_loss: 0.0897 - val_accuracy: 0.9836\n",
      "Epoch 11/20\n",
      "4201/4201 - 16s - loss: 0.0182 - accuracy: 0.9971 - val_loss: 0.0888 - val_accuracy: 0.9822\n",
      "Epoch 12/20\n",
      "\n",
      "Epoch 00012: ReduceLROnPlateau reducing learning rate to 1.0000000656873453e-06.\n",
      "4201/4201 - 16s - loss: 0.0185 - accuracy: 0.9969 - val_loss: 0.0877 - val_accuracy: 0.9829\n",
      "Epoch 00012: early stopping\n",
      "Training Complete\n"
     ]
    }
   ],
   "source": [
    "tf.random.set_seed(1) # for reproducibility\n",
    "\n",
    "model = tf.keras.Sequential([\n",
    "    tf.keras.layers.Embedding(vocab_size+1, embedding_dim, input_length=max_length),\n",
    "    tf.keras.layers.Dropout(0.2),\n",
    "    tf.keras.layers.Bidirectional(tf.keras.layers.LSTM(305)),\n",
    "    tf.keras.layers.Dropout(0.2),\n",
    "    tf.keras.layers.Dense(1, activation='sigmoid')\n",
    "])\n",
    "model.compile(loss='binary_crossentropy',optimizer='adam',metrics=['accuracy'])\n",
    "model.summary()\n",
    "\n",
    "num_epochs = 20\n",
    "\n",
    "early_stopping = tf.keras.callbacks.EarlyStopping(monitor='val_loss',\n",
    "                               patience=5,\n",
    "                               verbose=1,\n",
    "                               min_delta=1e-4)\n",
    "\n",
    "lrp = tf.keraslrp = tf.keras.callbacks.ReduceLROnPlateau(monitor='val_loss',\n",
    "                                   factor=0.1,\n",
    "                                   patience=2,\n",
    "                                   cooldown=2,\n",
    "                                   verbose=1)\n",
    "\n",
    "training_padded = np.array(training_sequences)\n",
    "training_labels = np.array(training_labels)\n",
    "testing_padded = np.array(test_sequences)\n",
    "testing_labels = np.array(test_labels)\n",
    "\n",
    "history = model.fit(training_padded, training_labels, epochs=num_epochs, \n",
    "                    class_weight=class_weights, \n",
    "                    validation_data=(testing_padded, testing_labels),\n",
    "                    callbacks=[early_stopping, lrp],\n",
    "                    verbose=2)\n",
    "\n",
    "print(\"Training Complete\")"
   ]
  },
  {
   "cell_type": "markdown",
   "metadata": {
    "id": "rSWEZwY6Hdm7"
   },
   "source": [
    "Evaluation"
   ]
  },
  {
   "cell_type": "code",
   "execution_count": 34,
   "metadata": {
    "ExecuteTime": {
     "end_time": "2020-12-12T13:19:36.043748Z",
     "start_time": "2020-12-12T13:19:33.235150Z"
    },
    "colab": {
     "base_uri": "https://localhost:8080/"
    },
    "id": "tIZ2jNFwxzdI",
    "outputId": "1a0b283b-4658-48dd-ee39-8636df727b9a"
   },
   "outputs": [
    {
     "name": "stdout",
     "output_type": "stream",
     "text": [
      "1401/1401 [==============================] - 3s 2ms/sample - loss: 0.0643 - accuracy: 0.9829\n",
      "Test loss: 0.06426160609739155\n",
      "Test accuracy: 0.9828694\n"
     ]
    }
   ],
   "source": [
    "score = model.evaluate(test_sequences, test_labels, verbose=1)\n",
    "print('Test loss:', score[0])\n",
    "print('Test accuracy:', score[1])"
   ]
  },
  {
   "cell_type": "code",
   "execution_count": 35,
   "metadata": {
    "ExecuteTime": {
     "end_time": "2020-12-12T13:19:37.419091Z",
     "start_time": "2020-12-12T13:19:36.046920Z"
    },
    "colab": {
     "base_uri": "https://localhost:8080/",
     "height": 899
    },
    "id": "qxju4ItJKO8F",
    "outputId": "4537cea3-b05f-466c-9023-672a18eead77"
   },
   "outputs": [
    {
     "data": {
      "image/png": "[encoded data removed]",
      "text/plain": [
       "<Figure size 576x504 with 1 Axes>"
      ]
     },
     "metadata": {},
     "output_type": "display_data"
    },
    {
     "data": {
      "image/png": "[encoded data removed]",
      "text/plain": [
       "<Figure size 576x504 with 1 Axes>"
      ]
     },
     "metadata": {},
     "output_type": "display_data"
    }
   ],
   "source": [
    "import matplotlib.image  as mpimg\n",
    "import matplotlib.pyplot as plt\n",
    "\n",
    "#-----------------------------------------------------------\n",
    "# Retrieve a list of list results on training and test data\n",
    "# sets for each training epoch\n",
    "#-----------------------------------------------------------\n",
    "acc=history.history['accuracy']\n",
    "val_acc=history.history['val_accuracy']\n",
    "loss=history.history['loss']\n",
    "val_loss=history.history['val_loss']\n",
    "\n",
    "epochs=range(1, len(acc)+1) # Get number of epochs\n",
    "\n",
    "#------------------------------------------------\n",
    "# Plot training and validation accuracy per epoch\n",
    "#------------------------------------------------\n",
    "plt.figure(figsize=(8,7))\n",
    "plt.plot(epochs, acc, 'r')\n",
    "plt.plot(epochs, val_acc, 'b')\n",
    "plt.title('Training and validation accuracy')\n",
    "plt.xlabel(\"Epochs\")\n",
    "plt.ylabel(\"Accuracy\")\n",
    "plt.legend([\"Accuracy\", \"Validation Accuracy\"])\n",
    "\n",
    "\n",
    "#------------------------------------------------\n",
    "# Plot training and validation loss per epoch\n",
    "#------------------------------------------------\n",
    "plt.figure(figsize=(8,7))\n",
    "plt.plot(epochs, loss, 'r')\n",
    "plt.plot(epochs, val_loss, 'b')\n",
    "plt.title('Training and validation loss')\n",
    "plt.xlabel(\"Epochs\")\n",
    "plt.ylabel(\"Loss\")\n",
    "plt.legend([\"Loss\", \"Validation Loss\"])\n",
    "\n",
    "\n",
    "\n",
    "plt.show()"
   ]
  },
  {
   "cell_type": "markdown",
   "metadata": {
    "id": "6QYvB5Wf4s98"
   },
   "source": [
    "The best epoch seems to be at 12"
   ]
  },
  {
   "cell_type": "code",
   "execution_count": 36,
   "metadata": {
    "ExecuteTime": {
     "end_time": "2020-12-12T13:22:56.346114Z",
     "start_time": "2020-12-12T13:19:37.423093Z"
    },
    "colab": {
     "base_uri": "https://localhost:8080/"
    },
    "id": "fnePaioY3Bod",
    "outputId": "a0a4702a-8a24-4763-b1ab-481f53faa794"
   },
   "outputs": [
    {
     "name": "stdout",
     "output_type": "stream",
     "text": [
      "Model: \"sequential_1\"\n",
      "_________________________________________________________________\n",
      "Layer (type)                 Output Shape              Param #   \n",
      "=================================================================\n",
      "embedding_1 (Embedding)      (None, 150, 100)          763400    \n",
      "_________________________________________________________________\n",
      "dropout_2 (Dropout)          (None, 150, 100)          0         \n",
      "_________________________________________________________________\n",
      "bidirectional_1 (Bidirection (None, 610)               990640    \n",
      "_________________________________________________________________\n",
      "dropout_3 (Dropout)          (None, 610)               0         \n",
      "_________________________________________________________________\n",
      "dense_1 (Dense)              (None, 1)                 611       \n",
      "=================================================================\n",
      "Total params: 1,754,651\n",
      "Trainable params: 1,754,651\n",
      "Non-trainable params: 0\n",
      "_________________________________________________________________\n",
      "WARNING:tensorflow:sample_weight modes were coerced from\n",
      "  ...\n",
      "    to  \n",
      "  ['...']\n",
      "WARNING:tensorflow:sample_weight modes were coerced from\n",
      "  ...\n",
      "    to  \n",
      "  ['...']\n",
      "Train on 4201 samples, validate on 1401 samples\n",
      "Epoch 1/12\n",
      "4201/4201 - 20s - loss: 0.4161 - accuracy: 0.8141 - val_loss: 0.1242 - val_accuracy: 0.9743\n",
      "Epoch 2/12\n",
      "4201/4201 - 16s - loss: 0.0971 - accuracy: 0.9795 - val_loss: 0.0907 - val_accuracy: 0.9800\n",
      "Epoch 3/12\n",
      "4201/4201 - 16s - loss: 0.0454 - accuracy: 0.9912 - val_loss: 0.1073 - val_accuracy: 0.9829\n",
      "Epoch 4/12\n",
      "\n",
      "Epoch 00004: ReduceLROnPlateau reducing learning rate to 0.00010000000474974513.\n",
      "4201/4201 - 16s - loss: 0.1719 - accuracy: 0.9614 - val_loss: 0.1111 - val_accuracy: 0.9586\n",
      "Epoch 5/12\n",
      "4201/4201 - 16s - loss: 0.0335 - accuracy: 0.9955 - val_loss: 0.1002 - val_accuracy: 0.9793\n",
      "Epoch 6/12\n",
      "4201/4201 - 16s - loss: 0.0284 - accuracy: 0.9960 - val_loss: 0.0913 - val_accuracy: 0.9793\n",
      "Epoch 7/12\n",
      "4201/4201 - 16s - loss: 0.0263 - accuracy: 0.9962 - val_loss: 0.0876 - val_accuracy: 0.9807\n",
      "Epoch 8/12\n",
      "4201/4201 - 16s - loss: 0.0234 - accuracy: 0.9971 - val_loss: 0.0944 - val_accuracy: 0.9822\n",
      "Epoch 9/12\n",
      "\n",
      "Epoch 00009: ReduceLROnPlateau reducing learning rate to 1.0000000474974514e-05.\n",
      "4201/4201 - 16s - loss: 0.0205 - accuracy: 0.9974 - val_loss: 0.0911 - val_accuracy: 0.9822\n",
      "Epoch 10/12\n",
      "4201/4201 - 16s - loss: 0.0187 - accuracy: 0.9971 - val_loss: 0.0897 - val_accuracy: 0.9836\n",
      "Epoch 11/12\n",
      "4201/4201 - 17s - loss: 0.0182 - accuracy: 0.9971 - val_loss: 0.0888 - val_accuracy: 0.9822\n",
      "Epoch 12/12\n",
      "\n",
      "Epoch 00012: ReduceLROnPlateau reducing learning rate to 1.0000000656873453e-06.\n",
      "4201/4201 - 16s - loss: 0.0185 - accuracy: 0.9969 - val_loss: 0.0877 - val_accuracy: 0.9829\n",
      "Epoch 00012: early stopping\n",
      "Training Complete\n"
     ]
    }
   ],
   "source": [
    "tf.random.set_seed(1) # for reproducibility\n",
    "\n",
    "model = tf.keras.Sequential([\n",
    "    tf.keras.layers.Embedding(vocab_size+1, embedding_dim, input_length=max_length),\n",
    "    tf.keras.layers.Dropout(0.2),\n",
    "    tf.keras.layers.Bidirectional(tf.keras.layers.LSTM(305)),\n",
    "    tf.keras.layers.Dropout(0.2),\n",
    "    tf.keras.layers.Dense(1, activation='sigmoid')\n",
    "])\n",
    "model.compile(loss='binary_crossentropy',optimizer='adam',metrics=['accuracy'])\n",
    "model.summary()\n",
    "\n",
    "num_epochs = 12\n",
    "\n",
    "early_stopping = tf.keras.callbacks.EarlyStopping(monitor='val_loss',\n",
    "                               patience=5,\n",
    "                               verbose=1,\n",
    "                               min_delta=1e-4)\n",
    "\n",
    "lrp = tf.keraslrp = tf.keras.callbacks.ReduceLROnPlateau(monitor='val_loss',\n",
    "                                   factor=0.1,\n",
    "                                   patience=2,\n",
    "                                   cooldown=2,\n",
    "                                   verbose=1)\n",
    "\n",
    "training_padded = np.array(training_sequences)\n",
    "training_labels = np.array(training_labels)\n",
    "testing_padded = np.array(test_sequences)\n",
    "testing_labels = np.array(test_labels)\n",
    "\n",
    "history = model.fit(training_padded, training_labels, epochs=num_epochs, \n",
    "                    class_weight=class_weights, \n",
    "                    validation_data=(testing_padded, testing_labels),\n",
    "                    callbacks=[early_stopping, lrp],\n",
    "                    verbose=2)\n",
    "\n",
    "print(\"Training Complete\")"
   ]
  },
  {
   "cell_type": "code",
   "execution_count": 37,
   "metadata": {
    "ExecuteTime": {
     "end_time": "2020-12-12T13:22:57.340115Z",
     "start_time": "2020-12-12T13:22:56.352115Z"
    },
    "colab": {
     "base_uri": "https://localhost:8080/",
     "height": 899
    },
    "id": "Nsf0Oa4m5C9L",
    "outputId": "c9a30887-e88d-45db-e5bc-deab9c1d6ce5"
   },
   "outputs": [
    {
     "data": {
      "image/png": "[encoded data removed]",
      "text/plain": [
       "<Figure size 576x504 with 1 Axes>"
      ]
     },
     "metadata": {},
     "output_type": "display_data"
    },
    {
     "data": {
      "image/png": "[encoded data removed]",
      "text/plain": [
       "<Figure size 576x504 with 1 Axes>"
      ]
     },
     "metadata": {},
     "output_type": "display_data"
    }
   ],
   "source": [
    "#-----------------------------------------------------------\n",
    "# Retrieve a list of list results on training and test data\n",
    "# sets for each training epoch\n",
    "#-----------------------------------------------------------\n",
    "acc=history.history['accuracy']\n",
    "val_acc=history.history['val_accuracy']\n",
    "loss=history.history['loss']\n",
    "val_loss=history.history['val_loss']\n",
    "\n",
    "epochs=range(1, len(acc)+1) # Get number of epochs\n",
    "\n",
    "#------------------------------------------------\n",
    "# Plot training and validation accuracy per epoch\n",
    "#------------------------------------------------\n",
    "plt.figure(figsize=(8,7))\n",
    "plt.plot(epochs, acc, 'r')\n",
    "plt.plot(epochs, val_acc, 'b')\n",
    "plt.title('Training and validation accuracy')\n",
    "plt.xlabel(\"Epochs\")\n",
    "plt.ylabel(\"Accuracy\")\n",
    "plt.legend([\"Accuracy\", \"Validation Accuracy\"])\n",
    "\n",
    "\n",
    "#------------------------------------------------\n",
    "# Plot training and validation loss per epoch\n",
    "#------------------------------------------------\n",
    "plt.figure(figsize=(8,7))\n",
    "plt.plot(epochs, loss, 'r')\n",
    "plt.plot(epochs, val_loss, 'b')\n",
    "plt.title('Training and validation loss')\n",
    "plt.xlabel(\"Epochs\")\n",
    "plt.ylabel(\"Loss\")\n",
    "plt.legend([\"Loss\", \"Validation Loss\"])\n",
    "\n",
    "plt.show()\n"
   ]
  },
  {
   "cell_type": "markdown",
   "metadata": {
    "id": "86bSCSzZHWzm"
   },
   "source": [
    "# Prediction and Evaluation"
   ]
  },
  {
   "cell_type": "code",
   "execution_count": 38,
   "metadata": {
    "ExecuteTime": {
     "end_time": "2020-12-12T13:23:00.014254Z",
     "start_time": "2020-12-12T13:22:57.343114Z"
    },
    "colab": {
     "base_uri": "https://localhost:8080/"
    },
    "id": "WBzS17k-7pit",
    "outputId": "ead2c540-0dcf-47f1-f505-c1509f79e5c8"
   },
   "outputs": [
    {
     "name": "stdout",
     "output_type": "stream",
     "text": [
      "1401/1401 [==============================] - 3s 2ms/sample - loss: 0.0643 - accuracy: 0.9829\n",
      "Test loss: 0.06426160609739155\n",
      "Test accuracy: 0.9828694\n"
     ]
    }
   ],
   "source": [
    "score = model.evaluate(test_sequences, test_labels, verbose=1)\n",
    "print('Test loss:', score[0])\n",
    "print('Test accuracy:', score[1])"
   ]
  },
  {
   "cell_type": "code",
   "execution_count": 39,
   "metadata": {
    "ExecuteTime": {
     "end_time": "2020-12-12T13:23:08.505578Z",
     "start_time": "2020-12-12T13:23:00.019269Z"
    },
    "id": "q7QSq9jT_exV"
   },
   "outputs": [],
   "source": [
    "y_pred_train = model.predict(training_sequences)\n",
    "y_pred_test = model.predict(test_sequences)"
   ]
  },
  {
   "cell_type": "code",
   "execution_count": 40,
   "metadata": {
    "ExecuteTime": {
     "end_time": "2020-12-12T13:23:08.675732Z",
     "start_time": "2020-12-12T13:23:08.507835Z"
    },
    "colab": {
     "base_uri": "https://localhost:8080/"
    },
    "id": "vbebudGVDWdJ",
    "outputId": "ca104121-39d6-4795-ebdc-0902adc7d2f6"
   },
   "outputs": [
    {
     "data": {
      "text/plain": [
       "array([0.99820423], dtype=float32)"
      ]
     },
     "execution_count": 40,
     "metadata": {},
     "output_type": "execute_result"
    }
   ],
   "source": [
    "y_pred_test[4]"
   ]
  },
  {
   "cell_type": "code",
   "execution_count": 41,
   "metadata": {
    "ExecuteTime": {
     "end_time": "2020-12-12T13:23:09.600492Z",
     "start_time": "2020-12-12T13:23:08.685728Z"
    },
    "id": "tCq6bxUlDZJW"
   },
   "outputs": [],
   "source": [
    "y_pred_train = [int(np.round(i)) for i in y_pred_train]\n",
    "y_pred_test = [int(np.round(i)) for i in y_pred_test]"
   ]
  },
  {
   "cell_type": "code",
   "execution_count": 42,
   "metadata": {
    "ExecuteTime": {
     "end_time": "2020-12-12T13:23:09.991556Z",
     "start_time": "2020-12-12T13:23:09.605495Z"
    },
    "colab": {
     "base_uri": "https://localhost:8080/"
    },
    "id": "ue-jKUXNDqNZ",
    "outputId": "62c682fb-595a-4e65-f032-867e6ec6fc07"
   },
   "outputs": [
    {
     "data": {
      "text/plain": [
       "1"
      ]
     },
     "execution_count": 42,
     "metadata": {},
     "output_type": "execute_result"
    }
   ],
   "source": [
    "y_pred_test[4]"
   ]
  },
  {
   "cell_type": "code",
   "execution_count": 43,
   "metadata": {
    "ExecuteTime": {
     "end_time": "2020-12-12T13:23:11.290155Z",
     "start_time": "2020-12-12T13:23:09.994524Z"
    },
    "id": "W-mWhpGQEK9W"
   },
   "outputs": [],
   "source": [
    "from sklearn.metrics import f1_score, accuracy_score, precision_score, roc_auc_score, confusion_matrix, classification_report"
   ]
  },
  {
   "cell_type": "code",
   "execution_count": 44,
   "metadata": {
    "ExecuteTime": {
     "end_time": "2020-12-12T13:23:12.093997Z",
     "start_time": "2020-12-12T13:23:11.294155Z"
    },
    "colab": {
     "base_uri": "https://localhost:8080/"
    },
    "id": "idLXb-7WEDxH",
    "outputId": "d61aff36-31d0-4f1e-e8c4-0de849ff4c72"
   },
   "outputs": [
    {
     "name": "stdout",
     "output_type": "stream",
     "text": [
      "              precision    recall  f1-score   support\n",
      "\n",
      "           0       0.95      0.96      0.96       276\n",
      "           1       0.99      0.99      0.99      1125\n",
      "\n",
      "    accuracy                           0.98      1401\n",
      "   macro avg       0.97      0.97      0.97      1401\n",
      "weighted avg       0.98      0.98      0.98      1401\n",
      "\n"
     ]
    }
   ],
   "source": [
    "print(classification_report(test_labels, y_pred_test, digits=2))"
   ]
  },
  {
   "cell_type": "code",
   "execution_count": 45,
   "metadata": {
    "ExecuteTime": {
     "end_time": "2020-12-12T13:23:12.544519Z",
     "start_time": "2020-12-12T13:23:12.117984Z"
    },
    "colab": {
     "base_uri": "https://localhost:8080/"
    },
    "id": "YyuL0GiaFWgO",
    "outputId": "ac3684e9-c232-4b0a-d108-67e55d61a31d"
   },
   "outputs": [
    {
     "name": "stdout",
     "output_type": "stream",
     "text": [
      "Training F1 score: 0.9982\n",
      "Testing F1 score: 0.9893\n",
      "\n",
      "\n",
      "Training precision_score: 0.9979\n",
      "Testing precision_score: 0.9902\n"
     ]
    }
   ],
   "source": [
    "print('Training F1 score: {:.4f}'.format(\\\n",
    "    f1_score(training_labels, y_pred_train)))\n",
    "      \n",
    "print('Testing F1 score: {:.4f}'.format(\\\n",
    "    f1_score(test_labels, y_pred_test)))\n",
    "\n",
    "print('\\n')\n",
    "\n",
    "print('Training precision_score: {:.4f}'.format(\\\n",
    "    precision_score(training_labels, y_pred_train)))\n",
    "      \n",
    "print('Testing precision_score: {:.4f}'.format(\\\n",
    "    precision_score(test_labels, y_pred_test)))"
   ]
  },
  {
   "cell_type": "markdown",
   "metadata": {
    "id": "TzLy5OsnF3Hj"
   },
   "source": [
    "Note: the f1 score is taking spam as it's positive class"
   ]
  },
  {
   "cell_type": "code",
   "execution_count": 46,
   "metadata": {
    "ExecuteTime": {
     "end_time": "2020-12-12T13:23:16.894665Z",
     "start_time": "2020-12-12T13:23:12.547469Z"
    },
    "colab": {
     "base_uri": "https://localhost:8080/",
     "height": 442
    },
    "id": "HYVv2-YtFzY8",
    "outputId": "da7e62cf-53aa-4cd3-ea5d-b2ed915e449a"
   },
   "outputs": [
    {
     "data": {
      "image/png": "[encoded data removed]",
      "text/plain": [
       "<Figure size 576x504 with 1 Axes>"
      ]
     },
     "metadata": {},
     "output_type": "display_data"
    }
   ],
   "source": [
    "plt.figure(figsize=(8,7))\n",
    "conf_mat = confusion_matrix(test_labels, y_pred_test)\n",
    "sns.heatmap(conf_mat, annot=True, fmt='d', cmap=\"Purples\", cbar=False)\n",
    "plt.ylabel('True label')\n",
    "plt.xlabel('Predicted label')\n",
    "plt.show()"
   ]
  },
  {
   "cell_type": "code",
   "execution_count": 49,
   "metadata": {
    "ExecuteTime": {
     "end_time": "2020-12-12T13:35:58.780523Z",
     "start_time": "2020-12-12T13:35:57.791022Z"
    },
    "id": "IxWTmisBGLSE"
   },
   "outputs": [],
   "source": [
    "# serialize model to JSON\n",
    "\n",
    "model_json = model.to_json()\n",
    "\n",
    "with open('model.json', 'w') as json_file:\n",
    "    json_file.write(model_json)\n",
    "    \n",
    "# serialise weights to HDF5\n",
    "model.save_weights('model.h5')"
   ]
  },
  {
   "cell_type": "code",
   "execution_count": null,
   "metadata": {},
   "outputs": [],
   "source": []
  }
 ],
 "metadata": {
  "accelerator": "GPU",
  "colab": {
   "collapsed_sections": [],
   "name": "LSTMSpamnew.ipynb",
   "provenance": []
  },
  "kernelspec": {
   "display_name": "Python [conda env:tf_gpu]",
   "language": "python",
   "name": "conda-env-tf_gpu-py"
  },
  "language_info": {
   "codemirror_mode": {
    "name": "ipython",
    "version": 3
   },
   "file_extension": ".py",
   "mimetype": "text/x-python",
   "name": "python",
   "nbconvert_exporter": "python",
   "pygments_lexer": "ipython3",
   "version": "3.7.8"
  },
  "toc": {
   "base_numbering": 1,
   "nav_menu": {},
   "number_sections": true,
   "sideBar": true,
   "skip_h1_title": false,
   "title_cell": "Table of Contents",
   "title_sidebar": "Contents",
   "toc_cell": false,
   "toc_position": {},
   "toc_section_display": true,
   "toc_window_display": false
  },
  "varInspector": {
   "cols": {
    "lenName": 16,
    "lenType": 16,
    "lenVar": 40
   },
   "kernels_config": {
    "python": {
     "delete_cmd_postfix": "",
     "delete_cmd_prefix": "del ",
     "library": "var_list.py",
     "varRefreshCmd": "print(var_dic_list())"
    },
    "r": {
     "delete_cmd_postfix": ") ",
     "delete_cmd_prefix": "rm(",
     "library": "var_list.r",
     "varRefreshCmd": "cat(var_dic_list()) "
    }
   },
   "types_to_exclude": [
    "module",
    "function",
    "builtin_function_or_method",
    "instance",
    "_Feature"
   ],
   "window_display": false
  }
 },
 "nbformat": 4,
 "nbformat_minor": 1
}
